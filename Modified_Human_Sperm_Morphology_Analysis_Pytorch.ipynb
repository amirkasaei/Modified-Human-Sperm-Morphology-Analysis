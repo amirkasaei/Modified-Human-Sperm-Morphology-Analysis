{
  "cells": [
    {
      "cell_type": "markdown",
      "metadata": {
        "id": "view-in-github",
        "colab_type": "text"
      },
      "source": [
        "<a href=\"https://colab.research.google.com/github/amirkasaei/Modified-Human-Sperm-Morphology-Analysis/blob/main/Modified_Human_Sperm_Morphology_Analysis_Pytorch.ipynb\" target=\"_parent\"><img src=\"https://colab.research.google.com/assets/colab-badge.svg\" alt=\"Open In Colab\"/></a>"
      ]
    },
    {
      "cell_type": "markdown",
      "metadata": {
        "id": "iL-FNKBekJLJ"
      },
      "source": [
        "# **Libraries**"
      ]
    },
    {
      "cell_type": "markdown",
      "source": [
        "## **Torch**"
      ],
      "metadata": {
        "id": "JPTAJrSSw8Zk"
      }
    },
    {
      "cell_type": "code",
      "execution_count": 31,
      "metadata": {
        "id": "zSzMBrt5MdWe"
      },
      "outputs": [],
      "source": [
        "!pip install -q torcheval"
      ]
    },
    {
      "cell_type": "code",
      "execution_count": 32,
      "metadata": {
        "id": "b9kubfRtqF3m"
      },
      "outputs": [],
      "source": [
        "# pip install -q --upgrade torch"
      ]
    },
    {
      "cell_type": "code",
      "execution_count": 33,
      "metadata": {
        "id": "qydtc0OXpRZC"
      },
      "outputs": [],
      "source": [
        "# pip install -q --upgrade torch torchvision"
      ]
    },
    {
      "cell_type": "code",
      "source": [
        "import torch\n",
        "from torch import nn\n",
        "from torch.utils.data import DataLoader\n",
        "import torchvision\n",
        "import torcheval\n",
        "from torcheval.metrics.functional import binary_accuracy\n",
        "from torchvision import transforms\n",
        "from torchvision.transforms import ToTensor, ToPILImage, Normalize\n",
        "\n",
        "# PyTorch TensorBoard support\n",
        "from torch.utils.data import Dataset, DataLoader\n",
        "from torch.utils.tensorboard import SummaryWriter\n",
        "from datetime import datetime"
      ],
      "metadata": {
        "id": "eebDe5smxNoz"
      },
      "execution_count": 34,
      "outputs": []
    },
    {
      "cell_type": "markdown",
      "source": [
        "## **Others**"
      ],
      "metadata": {
        "id": "fS2fEHBUxjg8"
      }
    },
    {
      "cell_type": "code",
      "execution_count": 35,
      "metadata": {
        "id": "E0rB-cgkur0l"
      },
      "outputs": [],
      "source": [
        "import pandas as pd\n",
        "import numpy as np\n",
        "import matplotlib.pyplot as plt\n",
        "\n",
        "from sklearn.model_selection import train_test_split, KFold\n",
        "from sklearn import metrics\n",
        "from sklearn.model_selection import KFold\n",
        "\n",
        "import copy\n",
        "import imageio\n",
        "import PIL.Image as Image\n",
        "\n",
        "import os\n",
        "import sys\n",
        "import time"
      ]
    },
    {
      "cell_type": "code",
      "execution_count": 36,
      "metadata": {
        "id": "hWEt-2a_1cW2"
      },
      "outputs": [],
      "source": [
        "# !pip install numba\n",
        "\n",
        "# from numba import cuda \n",
        "# device = cuda.get_current_device()\n",
        "# device.reset()\n"
      ]
    },
    {
      "cell_type": "markdown",
      "source": [
        "## **learn2learn**"
      ],
      "metadata": {
        "id": "RyLgptfAxWXL"
      }
    },
    {
      "cell_type": "code",
      "source": [
        "# !git clone https://github.com/learnables/learn2learn"
      ],
      "metadata": {
        "id": "9d3gYm6OxyuJ"
      },
      "execution_count": 23,
      "outputs": []
    },
    {
      "cell_type": "code",
      "source": [
        "# !pip install learn2learn"
      ],
      "metadata": {
        "id": "kS0nQe-1vdAP"
      },
      "execution_count": 24,
      "outputs": []
    },
    {
      "cell_type": "code",
      "source": [
        "# import learn2learn as l2l\n",
        "# from learn2learn.data.transforms import (NWays, KShots, LoadData, RemapLabels, ConsecutiveLabels)"
      ],
      "metadata": {
        "id": "AmxAWlZqyXHU"
      },
      "execution_count": 25,
      "outputs": []
    },
    {
      "cell_type": "markdown",
      "source": [
        "## **Drive**"
      ],
      "metadata": {
        "id": "clk_h2yxxFk4"
      }
    },
    {
      "cell_type": "code",
      "source": [
        "!git clone https://github.com/amirkasaei/Modified-Human-Sperm-Morphology-Analysis/\n",
        "path=\"/content/Modified-Human-Sperm-Morphology-Analysis/mhsma-dataset/mhsma/\""
      ],
      "metadata": {
        "colab": {
          "base_uri": "https://localhost:8080/"
        },
        "id": "XVdiOzibzfPX",
        "outputId": "c43ba410-0e49-4267-d410-8d409f99d7a4"
      },
      "execution_count": 40,
      "outputs": [
        {
          "output_type": "stream",
          "name": "stdout",
          "text": [
            "fatal: destination path 'Modified-Human-Sperm-Morphology-Analysis' already exists and is not an empty directory.\n"
          ]
        }
      ]
    },
    {
      "cell_type": "markdown",
      "metadata": {
        "id": "pUn5U_UukZSX"
      },
      "source": [
        "# **Preprocessing**"
      ]
    },
    {
      "cell_type": "markdown",
      "metadata": {
        "id": "48nZStleLlQM"
      },
      "source": [
        "## **Load Data**"
      ]
    },
    {
      "cell_type": "code",
      "execution_count": 41,
      "metadata": {
        "id": "TcXjuMm2ujRj",
        "colab": {
          "base_uri": "https://localhost:8080/"
        },
        "outputId": "ff1b9314-67df-4e87-eab1-6600a810144d"
      },
      "outputs": [
        {
          "output_type": "stream",
          "name": "stdout",
          "text": [
            "x_train shape: (1000, 128, 128) ----- y_acrosome_train shape: (1000,)\n",
            "x_valid shape: (240, 128, 128) ----- y_acrosome_valid shape: (240,)\n",
            "x_test shape: (300, 128, 128) ----- y_acrosome_test shape: (300,)\n"
          ]
        }
      ],
      "source": [
        "x_train = np.load(path + 'x_128_train.npy').astype('float32')\n",
        "y_acrosome_train = np.load(path + 'y_acrosome_train.npy').astype('float32')\n",
        "y_head_train = np.load(path + 'y_head_train.npy').astype('float32')\n",
        "y_tail_train = np.load(path + 'y_tail_train.npy').astype('float32')\n",
        "y_vacuole_train = np.load(path + 'y_vacuole_train.npy').astype('float32')\n",
        "\n",
        "x_valid = np.load(path+'x_128_valid.npy').astype('float32')\n",
        "y_acrosome_valid = np.load(path + 'y_acrosome_valid.npy').astype('float32')\n",
        "y_head_valid = np.load(path + 'y_head_valid.npy').astype('float32')\n",
        "y_tail_valid = np.load(path + 'y_tail_valid.npy').astype('float32')\n",
        "y_vacuole_valid = np.load(path + 'y_vacuole_valid.npy').astype('float32')\n",
        "\n",
        "x_test = np.load(path+'x_128_test.npy').astype('float32')\n",
        "y_acrosome_test = np.load(path + 'y_acrosome_test.npy').astype('float32')\n",
        "y_head_test = np.load(path + 'y_head_test.npy').astype('float32')\n",
        "y_tail_test = np.load(path + 'y_tail_test.npy').astype('float32')\n",
        "y_vacuole_test = np.load(path + 'y_vacuole_test.npy').astype('float32')\n",
        "\n",
        "print('x_train shape:', x_train.shape, '----- y_acrosome_train shape:', y_acrosome_train.shape)\n",
        "print('x_valid shape:', x_valid.shape, '----- y_acrosome_valid shape:', y_acrosome_valid.shape)\n",
        "print('x_test shape:', x_test.shape, '----- y_acrosome_test shape:', y_acrosome_test.shape)"
      ]
    },
    {
      "cell_type": "code",
      "execution_count": 42,
      "metadata": {
        "id": "-Mq6u2TgN9RN",
        "colab": {
          "base_uri": "https://localhost:8080/"
        },
        "outputId": "92b3d0fb-6eb3-49cf-f222-aa2da7355481"
      },
      "outputs": [
        {
          "output_type": "execute_result",
          "data": {
            "text/plain": [
              "0.727"
            ]
          },
          "metadata": {},
          "execution_count": 42
        }
      ],
      "source": [
        "np.count_nonzero(y_head_train == 0)/y_head_train.shape[0]"
      ]
    },
    {
      "cell_type": "markdown",
      "metadata": {
        "id": "GX3YRfENLpjl"
      },
      "source": [
        "## **Reshape Data**"
      ]
    },
    {
      "cell_type": "code",
      "execution_count": 43,
      "metadata": {
        "id": "v5thlpHvKmTd"
      },
      "outputs": [],
      "source": [
        "x_train = x_train.reshape((x_train.shape[0], x_train.shape[1], x_train.shape[2], 1))\n",
        "# y_acrosome_train = y_acrosome_train.reshape((-1,1))\n",
        "# y_head_train = y_head_train.reshape((-1,1))\n",
        "# y_tail_train = y_tail_train.reshape((-1,1))\n",
        "# y_vacuole_train = y_vacuole_train.reshape((-1,1))\n",
        "\n",
        "x_valid = x_valid.reshape((x_valid.shape[0], x_valid.shape[1], x_valid.shape[2], 1))\n",
        "# y_acrosome_valid = y_acrosome_valid.reshape((-1,1))\n",
        "# y_head_valid = y_head_valid.reshape((-1,1))\n",
        "# y_tail_valid = y_tail_valid.reshape((-1,1))\n",
        "# y_vacuole_valid = y_vacuole_valid.reshape((-1,1))\n",
        "\n",
        "x_test = x_test.reshape((x_test.shape[0], x_test.shape[1], x_test.shape[2], 1))\n",
        "# y_acrosome_test = y_acrosome_test.reshape((-1,1))\n",
        "# y_head_test = y_head_test.reshape((-1,1))\n",
        "# y_tail_test = y_tail_test.reshape((-1,1))\n",
        "# y_vacuole_test = y_vacuole_test.reshape((-1,1))"
      ]
    },
    {
      "cell_type": "code",
      "execution_count": 44,
      "metadata": {
        "id": "VNKyge5IJQmh",
        "colab": {
          "base_uri": "https://localhost:8080/"
        },
        "outputId": "26026292-744e-43a8-8daf-3b338a739597"
      },
      "outputs": [
        {
          "output_type": "execute_result",
          "data": {
            "text/plain": [
              "(128, 128, 1)"
            ]
          },
          "metadata": {},
          "execution_count": 44
        }
      ],
      "source": [
        "input_shape = x_train.shape[1:]\n",
        "input_shape"
      ]
    },
    {
      "cell_type": "markdown",
      "metadata": {
        "id": "H9bKlpoVMzby"
      },
      "source": [
        "## **Torch**"
      ]
    },
    {
      "cell_type": "code",
      "execution_count": 45,
      "metadata": {
        "id": "Hk_DWJDjM4us"
      },
      "outputs": [],
      "source": [
        "y_acrosome_train_tensor = torch.from_numpy(y_acrosome_train)\n",
        "y_head_train_tensor = torch.from_numpy(y_head_train)\n",
        "y_tail_train_tensor = torch.from_numpy(y_tail_train)\n",
        "y_vacuole_train_tensor = torch.from_numpy(y_vacuole_train)\n",
        "\n",
        "y_acrosome_valid_tensor = torch.from_numpy(y_acrosome_valid)\n",
        "y_head_valid_tensor = torch.from_numpy(y_head_valid)\n",
        "y_tail_valid_tensor = torch.from_numpy(y_tail_valid)\n",
        "y_vacuole_valid_tensor = torch.from_numpy(y_vacuole_valid)\n",
        "\n",
        "y_acrosome_test_tensor = torch.from_numpy(y_acrosome_test)\n",
        "y_head_test_tensor = torch.from_numpy(y_head_test)\n",
        "y_tail_test_tensor = torch.from_numpy(y_tail_test)\n",
        "y_vacuole_test_tensor = torch.from_numpy(y_vacuole_test)\n"
      ]
    },
    {
      "cell_type": "code",
      "execution_count": 46,
      "metadata": {
        "id": "_LGUZeq2SJtS"
      },
      "outputs": [],
      "source": [
        "Tensor = transforms.Compose([\n",
        "    ToTensor()\n",
        "])\n",
        "\n",
        "PILimage = transforms.Compose([\n",
        "    ToPILImage()\n",
        "])"
      ]
    },
    {
      "cell_type": "code",
      "execution_count": 47,
      "metadata": {
        "id": "pAJ3atnmUdOS"
      },
      "outputs": [],
      "source": [
        "x_train_tensor = torch.stack([Tensor(img) for img in x_train])\n",
        "\n",
        "x_valid_tensor = torch.stack([Tensor(img) for img in x_valid])\n",
        "\n",
        "x_test_tensor = torch.stack([Tensor(img) for img in x_test])"
      ]
    },
    {
      "cell_type": "markdown",
      "metadata": {
        "id": "Ji24twrPU4E0"
      },
      "source": [
        "## **Data Normalization**"
      ]
    },
    {
      "cell_type": "markdown",
      "metadata": {
        "id": "zHaltusVcyqq"
      },
      "source": [
        "### **Mean**"
      ]
    },
    {
      "cell_type": "code",
      "execution_count": 48,
      "metadata": {
        "id": "MTQ71V-PbmUC"
      },
      "outputs": [],
      "source": [
        "mean_train = x_train_tensor.view(1, -1).mean(dim=1)\n",
        "mean_valid = x_valid_tensor.view(1, -1).mean(dim=1)\n",
        "mean_test = x_test_tensor.view(1, -1).mean(dim=1)"
      ]
    },
    {
      "cell_type": "markdown",
      "metadata": {
        "id": "2tqOkoXuc2EC"
      },
      "source": [
        "### **Standard Deviation**"
      ]
    },
    {
      "cell_type": "code",
      "execution_count": 49,
      "metadata": {
        "id": "3i-_ru4PcFLm"
      },
      "outputs": [],
      "source": [
        "std_train = x_train_tensor.view(1, -1).std(dim=1)\n",
        "std_valid = x_valid_tensor.view(1, -1).std(dim=1)\n",
        "std_test = x_test_tensor.view(1, -1).std(dim=1)"
      ]
    },
    {
      "cell_type": "markdown",
      "metadata": {
        "id": "nUhTJAx9ecBx"
      },
      "source": [
        "### **Normalizarion**"
      ]
    },
    {
      "cell_type": "code",
      "execution_count": 50,
      "metadata": {
        "id": "X3RsifoYQKQ6"
      },
      "outputs": [],
      "source": [
        "Normalizer = Normalize(mean_train, std_train)\n",
        "x_train_norm = Normalizer(x_train_tensor)"
      ]
    },
    {
      "cell_type": "code",
      "execution_count": 51,
      "metadata": {
        "id": "Jga9XJfseN8H"
      },
      "outputs": [],
      "source": [
        "Normalizer = Normalize(mean_valid, std_valid)\n",
        "x_valid_norm = Normalizer(x_valid_tensor)"
      ]
    },
    {
      "cell_type": "code",
      "execution_count": 52,
      "metadata": {
        "id": "DDWTnWeqQ-9J"
      },
      "outputs": [],
      "source": [
        "Normalizer = Normalize(mean_test, std_test)\n",
        "x_test_norm = Normalizer(x_test_tensor)"
      ]
    },
    {
      "cell_type": "markdown",
      "metadata": {
        "id": "vJzq-l_pQrky"
      },
      "source": [
        "## **Data Augmentation**"
      ]
    },
    {
      "cell_type": "markdown",
      "metadata": {
        "id": "tdRnSIgfP5Dq"
      },
      "source": [
        "## **RGB**"
      ]
    },
    {
      "cell_type": "code",
      "execution_count": 53,
      "metadata": {
        "id": "N8SbiiJmP9z-"
      },
      "outputs": [],
      "source": [
        "x_train_rgb = torch.stack([img.repeat(3, 1, 1) for img in x_train_tensor])\n",
        "\n",
        "x_valid_rgb = torch.stack([img.repeat(3, 1, 1) for img in x_valid_tensor])\n",
        "\n",
        "x_test_rgb = torch.stack([img.repeat(3, 1, 1) for img in x_test_tensor])"
      ]
    },
    {
      "cell_type": "code",
      "source": [
        "\n",
        "plt.imshow(PILimage(x_train_rgb[0]))"
      ],
      "metadata": {
        "colab": {
          "base_uri": "https://localhost:8080/",
          "height": 452
        },
        "id": "pKrW1EyjHVcw",
        "outputId": "ff0e3e08-9a10-4aa3-cad0-138eb844c03b"
      },
      "execution_count": 54,
      "outputs": [
        {
          "output_type": "execute_result",
          "data": {
            "text/plain": [
              "<matplotlib.image.AxesImage at 0x7f751926bf40>"
            ]
          },
          "metadata": {},
          "execution_count": 54
        },
        {
          "output_type": "display_data",
          "data": {
            "text/plain": [
              "<Figure size 640x480 with 1 Axes>"
            ],
            "image/png": "[encoded data removed]"
          },
          "metadata": {}
        }
      ]
    },
    {
      "cell_type": "markdown",
      "metadata": {
        "id": "ZnlY0Ctgnbd8"
      },
      "source": [
        "## **Data Loader**"
      ]
    },
    {
      "cell_type": "markdown",
      "source": [
        "### **Dataset Class**"
      ],
      "metadata": {
        "id": "RFznc2chWf4v"
      }
    },
    {
      "cell_type": "code",
      "execution_count": 55,
      "metadata": {
        "id": "zEoKquW7nhpl"
      },
      "outputs": [],
      "source": [
        "class MHSMADataset(Dataset):\n",
        "  def __init__(self, x, y, transform=None, target_transform=None):\n",
        "    self.img_labels = y\n",
        "    self.imgs = x\n",
        "    self.transform = transform\n",
        "    self.target_transform = target_transform\n",
        "\n",
        "  def __len__(self):\n",
        "    return len(self.img_labels)\n",
        "\n",
        "  def __getitem__(self, idx):\n",
        "    image = self.imgs[idx]\n",
        "    label = self.img_labels[idx]\n",
        "    if self.transform:\n",
        "        image = self.transform(image)\n",
        "    if self.target_transform:\n",
        "        label = self.target_transform(label)\n",
        "    return image, label"
      ]
    },
    {
      "cell_type": "markdown",
      "source": [
        "### **Default Dataloader**"
      ],
      "metadata": {
        "id": "BdN7OTW2Hlt_"
      }
    },
    {
      "cell_type": "code",
      "execution_count": 56,
      "metadata": {
        "id": "waA3JNJqucuv"
      },
      "outputs": [],
      "source": [
        "train_data = MHSMADataset(x=x_train_tensor, y=y_head_train_tensor)\n",
        "\n",
        "valid_data = MHSMADataset(x=x_valid_tensor, y=y_head_valid_tensor)\n",
        "\n",
        "test_data = MHSMADataset(x=x_test_tensor, y=y_head_test_tensor)"
      ]
    },
    {
      "cell_type": "code",
      "execution_count": 57,
      "metadata": {
        "id": "nO_iyB-7IaMK"
      },
      "outputs": [],
      "source": [
        "dataset_sizes = {}\n",
        "\n",
        "dataset_sizes['train'] = len(train_data)\n",
        "dataset_sizes['valid'] = len(valid_data)\n",
        "dataset_sizes['test'] = len(test_data)"
      ]
    },
    {
      "cell_type": "code",
      "execution_count": 58,
      "metadata": {
        "id": "F3K9K3SWv6v6"
      },
      "outputs": [],
      "source": [
        "batch_size=64\n",
        "\n",
        "train_dataloader = DataLoader(train_data, batch_size=batch_size, shuffle=True)\n",
        "valid_dataloader = DataLoader(valid_data, batch_size=batch_size, shuffle=True)\n",
        "test_dataloader = DataLoader(test_data, batch_size=batch_size, shuffle=True)"
      ]
    },
    {
      "cell_type": "code",
      "execution_count": 59,
      "metadata": {
        "id": "xNFfvSGXH4Ms"
      },
      "outputs": [],
      "source": [
        "dataloaders = {}\n",
        "\n",
        "dataloaders['train'] = train_dataloader\n",
        "dataloaders['valid'] = valid_dataloader\n",
        "dataloaders['test'] = test_dataloader"
      ]
    },
    {
      "cell_type": "code",
      "execution_count": 60,
      "metadata": {
        "id": "4i5l2FDVSRnH"
      },
      "outputs": [],
      "source": [
        "dataloader_sizes = {}\n",
        "\n",
        "dataloader_sizes['train'] = len(train_dataloader)\n",
        "dataloader_sizes['valid'] = len(valid_dataloader)\n",
        "dataloader_sizes['test'] = len(test_dataloader)"
      ]
    },
    {
      "cell_type": "markdown",
      "source": [
        "### **RGB Dataloader**"
      ],
      "metadata": {
        "id": "PyT1bZJBH_lx"
      }
    },
    {
      "cell_type": "code",
      "execution_count": 61,
      "metadata": {
        "id": "_Nt3sMRfQpzT"
      },
      "outputs": [],
      "source": [
        "train_data_rgb = MHSMADataset(x=x_train_rgb, y=y_head_train_tensor)\n",
        "\n",
        "valid_data_rgb = MHSMADataset(x=x_valid_rgb, y=y_head_valid_tensor)\n",
        "\n",
        "test_data_rgb = MHSMADataset(x=x_test_rgb, y=y_head_test_tensor)"
      ]
    },
    {
      "cell_type": "code",
      "execution_count": 62,
      "metadata": {
        "id": "gRGCYNntRLF6",
        "colab": {
          "base_uri": "https://localhost:8080/"
        },
        "outputId": "432a9672-58a8-4447-aaa1-ff326f4760ac"
      },
      "outputs": [
        {
          "output_type": "stream",
          "name": "stderr",
          "text": [
            "/usr/local/lib/python3.9/dist-packages/torch/utils/data/dataloader.py:561: UserWarning: This DataLoader will create 4 worker processes in total. Our suggested max number of worker in current system is 2, which is smaller than what this DataLoader is going to create. Please be aware that excessive worker creation might get DataLoader running slow or even freeze, lower the worker number to avoid potential slowness/freeze if necessary.\n",
            "  warnings.warn(_create_warning_msg(\n"
          ]
        }
      ],
      "source": [
        "batch_size=64\n",
        "\n",
        "train_dataloader_rgb = DataLoader(train_data_rgb, batch_size=batch_size, shuffle=True, num_workers=2)\n",
        "valid_dataloader_rgb = DataLoader(valid_data_rgb, batch_size=batch_size, shuffle=True, num_workers=2)\n",
        "test_dataloader_rgb = DataLoader(test_data_rgb, batch_size=batch_size, shuffle=True, num_workers=2)"
      ]
    },
    {
      "cell_type": "code",
      "execution_count": 63,
      "metadata": {
        "id": "ZKDOng-ARjMN"
      },
      "outputs": [],
      "source": [
        "dataloaders_rgb = {}\n",
        "\n",
        "dataloaders_rgb['train'] = train_dataloader_rgb\n",
        "dataloaders_rgb['valid'] = valid_dataloader_rgb\n",
        "dataloaders_rgb['test'] = test_dataloader_rgb"
      ]
    },
    {
      "cell_type": "code",
      "execution_count": 64,
      "metadata": {
        "id": "XKY7hupgvgf4"
      },
      "outputs": [],
      "source": [
        "dataloader_rgb_sizes = {}\n",
        "\n",
        "dataloader_rgb_sizes['train'] = len(train_dataloader_rgb)\n",
        "dataloader_rgb_sizes['valid'] = len(valid_dataloader_rgb)\n",
        "dataloader_rgb_sizes['test'] = len(test_dataloader_rgb)"
      ]
    },
    {
      "cell_type": "code",
      "execution_count": 65,
      "metadata": {
        "id": "4hEI8s9Dfcpf"
      },
      "outputs": [],
      "source": [
        "train_batch_num = len(train_dataloader)"
      ]
    },
    {
      "cell_type": "code",
      "execution_count": 66,
      "metadata": {
        "id": "PENI9Um8waCF"
      },
      "outputs": [],
      "source": [
        "# train_features, train_labels = next(iter(train_dataloader))"
      ]
    },
    {
      "cell_type": "markdown",
      "metadata": {
        "id": "rZvqR2S8GA0X"
      },
      "source": [
        "# **Models**"
      ]
    },
    {
      "cell_type": "markdown",
      "source": [
        "## **Helper Functions**"
      ],
      "metadata": {
        "id": "o-EiJgnMHHI6"
      }
    },
    {
      "cell_type": "code",
      "source": [
        "device = torch.device('cuda:0' if torch.cuda.is_available() else 'cpu')\n",
        "print(device)"
      ],
      "metadata": {
        "colab": {
          "base_uri": "https://localhost:8080/"
        },
        "id": "f-LzMaWHHVKE",
        "outputId": "895556cf-464e-4d82-956a-8ff2e1d37e50"
      },
      "execution_count": 94,
      "outputs": [
        {
          "output_type": "stream",
          "name": "stdout",
          "text": [
            "cuda:0\n"
          ]
        }
      ]
    },
    {
      "cell_type": "markdown",
      "metadata": {
        "id": "94ONj06MTsKE"
      },
      "source": [
        "### **Training**"
      ]
    },
    {
      "cell_type": "code",
      "execution_count": 95,
      "metadata": {
        "id": "zbuFLMNxtx3G"
      },
      "outputs": [],
      "source": [
        "def train_model(model, criterion, optimizer, scheduler, dataloader, dataloader_size, num_epochs=25):\n",
        "  since = time.time()\n",
        "\n",
        "  best_model_wts = copy.deepcopy(model.state_dict())\n",
        "  best_acc = 0.0\n",
        "\n",
        "  for epoch in range(num_epochs):\n",
        "    print(f'Epoch {epoch+1}/{num_epochs}')\n",
        "    print('-' * 20)\n",
        "\n",
        "    # Each epoch has a training and validation phase\n",
        "    for phase in ['train', 'valid']:\n",
        "      if phase == 'train':\n",
        "        model.train()  # Set model to training mode\n",
        "      else:\n",
        "        model.eval()   # Set model to evaluate mode\n",
        "\n",
        "      running_loss = 0.0\n",
        "      running_corrects = 0\n",
        "      # running_acc = 0.0\n",
        "      \n",
        "      # Iterate over data.\n",
        "      for inputs, labels in dataloader[phase]:\n",
        "        inputs = inputs.to(device)\n",
        "        labels = labels.type(torch.LongTensor).to(device)\n",
        "\n",
        "        # zero the parameter gradients\n",
        "        optimizer.zero_grad()\n",
        "\n",
        "        # forward\n",
        "        # track history if only in train\n",
        "        with torch.set_grad_enabled(phase == 'train'):\n",
        "          outputs = model(inputs)\n",
        "          _, preds = torch.max(outputs, 1)\n",
        "          loss = criterion(outputs, labels)\n",
        "          # acc = binary_accuracy(outputs.reshape(outputs.shape[0]), labels.reshape(labels.shape[0]), threshold=0.5)\n",
        "\n",
        "          # backward + optimize only if in training phase\n",
        "          if phase == 'train':\n",
        "            loss.backward()\n",
        "            optimizer.step()\n",
        "\n",
        "        # statistics\n",
        "        running_loss += loss.item() * inputs.size(0)\n",
        "        running_corrects += torch.sum(preds == labels.data)\n",
        "        # running_acc += acc\n",
        "\n",
        "        # if phase == 'train':\n",
        "        #   scheduler.step()\n",
        "\n",
        "      epoch_loss = running_loss / dataset_sizes[phase]\n",
        "      epoch_acc = running_corrects.double() / dataset_sizes[phase]\n",
        "      # epoch_acc = running_acc / dataset_sizes[phase]\n",
        "\n",
        "      print(f'{phase} Loss: {epoch_loss:.4f} Acc: {epoch_acc:.4f}')\n",
        "\n",
        "      # deep copy the model\n",
        "      if phase == 'valid' and epoch_acc > best_acc:\n",
        "        best_acc = epoch_acc\n",
        "        best_model_wts = copy.deepcopy(model.state_dict())\n",
        "\n",
        "    print()\n",
        "\n",
        "  time_elapsed = time.time() - since\n",
        "  print(f'Training complete in {time_elapsed // 60:.0f}m {time_elapsed % 60:.0f}s')\n",
        "  print(f'Best val Acc: {best_acc:4f}')\n",
        "\n",
        "  # load best model weights\n",
        "  model.load_state_dict(best_model_wts)\n",
        "  return model"
      ]
    },
    {
      "cell_type": "markdown",
      "source": [
        "### **Evaluation**"
      ],
      "metadata": {
        "id": "wTGavrOZ0DPn"
      }
    },
    {
      "cell_type": "code",
      "execution_count": 96,
      "metadata": {
        "id": "VBOzU-Uyn_15"
      },
      "outputs": [],
      "source": [
        "def evaluate_model(model, criterion, dataloader, dataloader_size):\n",
        "  since = time.time()\n",
        "\n",
        "  print('-' * 20)\n",
        "\n",
        "  # Each epoch has a training and validation phase\n",
        "  model.eval()   # Set model to evaluate mode\n",
        "\n",
        "  running_loss = 0.0\n",
        "  running_corrects = 0\n",
        "  # running_acc = 0.0\n",
        "    \n",
        "  # Iterate over data.\n",
        "  for inputs, labels in dataloader['test']:\n",
        "    inputs = inputs.to(device)\n",
        "    labels = labels.type(torch.LongTensor).to(device)\n",
        "\n",
        "    # forward\n",
        "    # track history if only in train\n",
        "    with torch.set_grad_enabled(False):\n",
        "      outputs = model(inputs)\n",
        "      _, preds = torch.max(outputs, 1)\n",
        "      loss = criterion(outputs, labels)\n",
        "\n",
        "    # statistics\n",
        "    running_loss += loss.item() * inputs.size(0)\n",
        "    running_corrects += torch.sum(preds == labels.data)\n",
        "\n",
        "  eval_loss = running_loss / dataset_sizes['test']\n",
        "  eval_acc = running_corrects.double() / dataset_sizes['test']\n",
        "\n",
        "  print(f'test Loss: {eval_loss:.4f} Acc: {eval_acc:.4f}')"
      ]
    },
    {
      "cell_type": "markdown",
      "metadata": {
        "id": "-zOWCj-nts7G"
      },
      "source": [
        "## **VGG**"
      ]
    },
    {
      "cell_type": "markdown",
      "source": [
        "### **Configuration**"
      ],
      "metadata": {
        "id": "K1e3fvamGdNq"
      }
    },
    {
      "cell_type": "code",
      "execution_count": 97,
      "metadata": {
        "id": "BNUfIL7SR4Jl",
        "colab": {
          "base_uri": "https://localhost:8080/"
        },
        "outputId": "f2744fb7-24c8-48a9-9d07-c12f55a52dd7"
      },
      "outputs": [
        {
          "output_type": "execute_result",
          "data": {
            "text/plain": [
              "Sequential(\n",
              "  (0): Linear(in_features=25088, out_features=4096, bias=True)\n",
              "  (1): ReLU(inplace=True)\n",
              "  (2): Dropout(p=0.5, inplace=False)\n",
              "  (3): Linear(in_features=4096, out_features=4096, bias=True)\n",
              "  (4): ReLU(inplace=True)\n",
              "  (5): Dropout(p=0.5, inplace=False)\n",
              "  (6): Linear(in_features=4096, out_features=1000, bias=True)\n",
              ")"
            ]
          },
          "metadata": {},
          "execution_count": 97
        }
      ],
      "source": [
        "vgg = torchvision.models.vgg19(pretrained=True)\n",
        "vgg.train().classifier"
      ]
    },
    {
      "cell_type": "code",
      "source": [
        "# for param in vgg.features.parameters():\n",
        "#     param.require_grad = False"
      ],
      "metadata": {
        "id": "k9048mBqkTuW"
      },
      "execution_count": 70,
      "outputs": []
    },
    {
      "cell_type": "code",
      "execution_count": 98,
      "metadata": {
        "id": "LrnMoH6CSl-6",
        "colab": {
          "base_uri": "https://localhost:8080/"
        },
        "outputId": "94bb3bce-7f68-48c9-a29e-ca8d7ef735cf"
      },
      "outputs": [
        {
          "output_type": "execute_result",
          "data": {
            "text/plain": [
              "Sequential(\n",
              "  (0): Linear(in_features=25088, out_features=2048, bias=True)\n",
              "  (1): ReLU()\n",
              "  (2): Linear(in_features=2048, out_features=1024, bias=True)\n",
              "  (3): Sigmoid()\n",
              "  (4): Dropout(p=0.9, inplace=False)\n",
              "  (5): Linear(in_features=1024, out_features=2, bias=True)\n",
              ")"
            ]
          },
          "metadata": {},
          "execution_count": 98
        }
      ],
      "source": [
        "# num_ftrs = vgg.classifier[6].in_features\n",
        "# vgg.classifier[6] =  nn.Linear(num_ftrs, 1024)\n",
        "# vgg.classifier.append(nn.ReLU(inplace=True))\n",
        "# vgg.classifier.append(nn.Dropout(0.9))\n",
        "# vgg.classifier.append(nn.Linear(1024, 1))\n",
        "# vgg.classifier.append(nn.Sigmoid())\n",
        "\n",
        "num_ftrs = vgg.classifier[0].in_features\n",
        "vgg.classifier = nn.Sequential(\n",
        "    nn.Linear(num_ftrs, 2048),\n",
        "    nn.ReLU(),\n",
        "    nn.Dropout(0.9),\n",
        "    nn.Linear(2048, 1024),\n",
        "    nn.Sigmoid(),\n",
        "    nn.Dropout(0.9),\n",
        "    nn.Linear(1024, 2)\n",
        ")\n",
        "\n",
        "vgg.train().classifier"
      ]
    },
    {
      "cell_type": "code",
      "execution_count": 99,
      "metadata": {
        "id": "q8fjHYzKZlaL"
      },
      "outputs": [],
      "source": [
        "vgg = vgg.to(device)\n",
        "\n",
        "learning_rate = 1e-2\n",
        "epochs = 100\n",
        "\n",
        "# criterion = nn.BCELoss()\n",
        "criterion = nn.CrossEntropyLoss()\n",
        "# accuracy = metrics.accuracy_score()\n",
        "\n",
        "# Observe that all parameters are being optimized\n",
        "# optimizer = torch.optim.Adam(vgg.parameters(), lr=learning_rate)\n",
        "# optimizer = torch.optim.SGD(vgg.parameters(), lr=learning_rate, momentum=0.9)\n",
        "optimizer = torch.optim.Adadelta(vgg.parameters(), lr=learning_rate)\n",
        "\n",
        "# Decay LR by a factor of 0.1 every 7 epochs\n",
        "exp_lr_scheduler = torch.optim.lr_scheduler.StepLR(optimizer, step_size=7, gamma=0.1)"
      ]
    },
    {
      "cell_type": "markdown",
      "source": [
        "### **Train**"
      ],
      "metadata": {
        "id": "MUqtLeBIGiEK"
      }
    },
    {
      "cell_type": "code",
      "execution_count": 102,
      "metadata": {
        "id": "uBUgqN7XZniN",
        "colab": {
          "base_uri": "https://localhost:8080/"
        },
        "outputId": "c86f3c1f-d779-446d-b1b2-2d2bc3defd81"
      },
      "outputs": [
        {
          "output_type": "stream",
          "name": "stdout",
          "text": [
            "Epoch 1/100\n",
            "--------------------\n",
            "train Loss: 0.7484 Acc: 0.6370\n",
            "valid Loss: 0.5802 Acc: 0.7333\n",
            "\n",
            "Epoch 2/100\n",
            "--------------------\n",
            "train Loss: 0.7115 Acc: 0.6430\n",
            "valid Loss: 0.5809 Acc: 0.7333\n",
            "\n",
            "Epoch 3/100\n",
            "--------------------\n",
            "train Loss: 0.6973 Acc: 0.6590\n",
            "valid Loss: 0.5947 Acc: 0.7333\n",
            "\n",
            "Epoch 4/100\n",
            "--------------------\n",
            "train Loss: 0.6755 Acc: 0.6690\n",
            "valid Loss: 0.5774 Acc: 0.7333\n",
            "\n",
            "Epoch 5/100\n",
            "--------------------\n",
            "train Loss: 0.6506 Acc: 0.6800\n",
            "valid Loss: 0.5766 Acc: 0.7333\n",
            "\n",
            "Epoch 6/100\n",
            "--------------------\n",
            "train Loss: 0.6478 Acc: 0.6780\n",
            "valid Loss: 0.5587 Acc: 0.7333\n",
            "\n",
            "Epoch 7/100\n",
            "--------------------\n",
            "train Loss: 0.6360 Acc: 0.6780\n",
            "valid Loss: 0.5825 Acc: 0.7333\n",
            "\n",
            "Epoch 8/100\n",
            "--------------------\n",
            "train Loss: 0.6215 Acc: 0.7100\n",
            "valid Loss: 0.6185 Acc: 0.7333\n",
            "\n",
            "Epoch 9/100\n",
            "--------------------\n",
            "train Loss: 0.6077 Acc: 0.7150\n",
            "valid Loss: 0.5438 Acc: 0.7333\n",
            "\n",
            "Epoch 10/100\n",
            "--------------------\n",
            "train Loss: 0.5946 Acc: 0.7160\n",
            "valid Loss: 0.5584 Acc: 0.7417\n",
            "\n",
            "Epoch 11/100\n",
            "--------------------\n",
            "train Loss: 0.5853 Acc: 0.7250\n",
            "valid Loss: 0.5403 Acc: 0.7375\n",
            "\n",
            "Epoch 12/100\n",
            "--------------------\n",
            "train Loss: 0.5671 Acc: 0.7300\n",
            "valid Loss: 0.5425 Acc: 0.7375\n",
            "\n",
            "Epoch 13/100\n",
            "--------------------\n",
            "train Loss: 0.5521 Acc: 0.7340\n",
            "valid Loss: 0.5651 Acc: 0.7208\n",
            "\n",
            "Epoch 14/100\n",
            "--------------------\n",
            "train Loss: 0.5580 Acc: 0.7350\n",
            "valid Loss: 0.5522 Acc: 0.7583\n",
            "\n",
            "Epoch 15/100\n",
            "--------------------\n",
            "train Loss: 0.5124 Acc: 0.7670\n",
            "valid Loss: 0.5366 Acc: 0.7667\n",
            "\n",
            "Epoch 16/100\n",
            "--------------------\n",
            "train Loss: 0.4987 Acc: 0.7790\n",
            "valid Loss: 0.5527 Acc: 0.7333\n",
            "\n",
            "Epoch 17/100\n",
            "--------------------\n",
            "train Loss: 0.4927 Acc: 0.7870\n",
            "valid Loss: 0.5487 Acc: 0.7208\n",
            "\n",
            "Epoch 18/100\n",
            "--------------------\n",
            "train Loss: 0.4528 Acc: 0.7960\n",
            "valid Loss: 0.5164 Acc: 0.7625\n",
            "\n",
            "Epoch 19/100\n",
            "--------------------\n",
            "train Loss: 0.4237 Acc: 0.8100\n",
            "valid Loss: 0.5352 Acc: 0.7750\n",
            "\n",
            "Epoch 20/100\n",
            "--------------------\n",
            "train Loss: 0.4270 Acc: 0.8140\n",
            "valid Loss: 0.5710 Acc: 0.7375\n",
            "\n",
            "Epoch 21/100\n",
            "--------------------\n",
            "train Loss: 0.4270 Acc: 0.8150\n",
            "valid Loss: 0.5525 Acc: 0.7333\n",
            "\n",
            "Epoch 22/100\n",
            "--------------------\n",
            "train Loss: 0.4109 Acc: 0.8320\n",
            "valid Loss: 0.5289 Acc: 0.8000\n",
            "\n",
            "Epoch 23/100\n",
            "--------------------\n",
            "train Loss: 0.4059 Acc: 0.8250\n",
            "valid Loss: 0.5853 Acc: 0.7958\n",
            "\n",
            "Epoch 24/100\n",
            "--------------------\n",
            "train Loss: 0.3054 Acc: 0.8750\n",
            "valid Loss: 0.5979 Acc: 0.7958\n",
            "\n",
            "Epoch 25/100\n",
            "--------------------\n",
            "train Loss: 0.3371 Acc: 0.8590\n",
            "valid Loss: 0.5881 Acc: 0.7375\n",
            "\n",
            "Epoch 26/100\n",
            "--------------------\n",
            "train Loss: 0.2890 Acc: 0.8870\n",
            "valid Loss: 0.6955 Acc: 0.7958\n",
            "\n",
            "Epoch 27/100\n",
            "--------------------\n",
            "train Loss: 0.2711 Acc: 0.8860\n",
            "valid Loss: 0.6193 Acc: 0.7083\n",
            "\n",
            "Epoch 28/100\n",
            "--------------------\n",
            "train Loss: 0.2753 Acc: 0.8990\n",
            "valid Loss: 0.6321 Acc: 0.7875\n",
            "\n",
            "Epoch 29/100\n",
            "--------------------\n",
            "train Loss: 0.2452 Acc: 0.9120\n",
            "valid Loss: 0.5669 Acc: 0.8125\n",
            "\n",
            "Epoch 30/100\n",
            "--------------------\n",
            "train Loss: 0.2074 Acc: 0.9200\n",
            "valid Loss: 0.6685 Acc: 0.8083\n",
            "\n",
            "Epoch 31/100\n",
            "--------------------\n",
            "train Loss: 0.1680 Acc: 0.9340\n",
            "valid Loss: 0.5764 Acc: 0.7958\n",
            "\n",
            "Epoch 32/100\n",
            "--------------------\n",
            "train Loss: 0.1542 Acc: 0.9440\n",
            "valid Loss: 0.6845 Acc: 0.7583\n",
            "\n",
            "Epoch 33/100\n",
            "--------------------\n",
            "train Loss: 0.1362 Acc: 0.9540\n",
            "valid Loss: 0.9542 Acc: 0.7917\n",
            "\n",
            "Epoch 34/100\n",
            "--------------------\n",
            "train Loss: 0.1578 Acc: 0.9430\n",
            "valid Loss: 0.7717 Acc: 0.8250\n",
            "\n",
            "Epoch 35/100\n",
            "--------------------\n",
            "train Loss: 0.1545 Acc: 0.9440\n",
            "valid Loss: 0.7713 Acc: 0.8167\n",
            "\n",
            "Epoch 36/100\n",
            "--------------------\n",
            "train Loss: 0.1122 Acc: 0.9630\n",
            "valid Loss: 0.7427 Acc: 0.8167\n",
            "\n",
            "Epoch 37/100\n",
            "--------------------\n",
            "train Loss: 0.0494 Acc: 0.9870\n",
            "valid Loss: 0.8222 Acc: 0.7917\n",
            "\n",
            "Epoch 38/100\n",
            "--------------------\n",
            "train Loss: 0.0555 Acc: 0.9860\n",
            "valid Loss: 0.8159 Acc: 0.7667\n",
            "\n",
            "Epoch 39/100\n",
            "--------------------\n",
            "train Loss: 0.0907 Acc: 0.9760\n",
            "valid Loss: 0.8244 Acc: 0.8000\n",
            "\n",
            "Epoch 40/100\n",
            "--------------------\n",
            "train Loss: 0.0271 Acc: 0.9960\n",
            "valid Loss: 0.8696 Acc: 0.8125\n",
            "\n",
            "Epoch 41/100\n",
            "--------------------\n",
            "train Loss: 0.0172 Acc: 0.9980\n",
            "valid Loss: 0.8611 Acc: 0.8167\n",
            "\n",
            "Epoch 42/100\n",
            "--------------------\n",
            "train Loss: 0.0125 Acc: 0.9980\n",
            "valid Loss: 0.8888 Acc: 0.8167\n",
            "\n",
            "Epoch 43/100\n",
            "--------------------\n",
            "train Loss: 0.1245 Acc: 0.9600\n",
            "valid Loss: 1.0102 Acc: 0.8042\n",
            "\n",
            "Epoch 44/100\n",
            "--------------------\n",
            "train Loss: 0.0506 Acc: 0.9870\n",
            "valid Loss: 0.9059 Acc: 0.8208\n",
            "\n",
            "Epoch 45/100\n",
            "--------------------\n",
            "train Loss: 0.0084 Acc: 1.0000\n",
            "valid Loss: 0.9175 Acc: 0.7917\n",
            "\n",
            "Epoch 46/100\n",
            "--------------------\n",
            "train Loss: 0.0053 Acc: 1.0000\n",
            "valid Loss: 0.9796 Acc: 0.8167\n",
            "\n",
            "Epoch 47/100\n",
            "--------------------\n",
            "train Loss: 0.0245 Acc: 0.9920\n",
            "valid Loss: 1.0172 Acc: 0.7708\n",
            "\n",
            "Epoch 48/100\n",
            "--------------------\n",
            "train Loss: 0.0062 Acc: 1.0000\n",
            "valid Loss: 1.0054 Acc: 0.7875\n",
            "\n",
            "Epoch 49/100\n",
            "--------------------\n",
            "train Loss: 0.0119 Acc: 0.9980\n",
            "valid Loss: 1.0006 Acc: 0.8083\n",
            "\n",
            "Epoch 50/100\n",
            "--------------------\n",
            "train Loss: 0.0036 Acc: 1.0000\n",
            "valid Loss: 1.0374 Acc: 0.8000\n",
            "\n",
            "Epoch 51/100\n",
            "--------------------\n",
            "train Loss: 0.0033 Acc: 1.0000\n",
            "valid Loss: 1.0594 Acc: 0.8083\n",
            "\n",
            "Epoch 52/100\n",
            "--------------------\n",
            "train Loss: 0.0022 Acc: 1.0000\n",
            "valid Loss: 1.0391 Acc: 0.8167\n",
            "\n",
            "Epoch 53/100\n",
            "--------------------\n",
            "train Loss: 0.0017 Acc: 1.0000\n",
            "valid Loss: 1.0701 Acc: 0.8125\n",
            "\n",
            "Epoch 54/100\n",
            "--------------------\n",
            "train Loss: 0.0017 Acc: 1.0000\n",
            "valid Loss: 1.0655 Acc: 0.8208\n",
            "\n",
            "Epoch 55/100\n",
            "--------------------\n",
            "train Loss: 0.0018 Acc: 1.0000\n",
            "valid Loss: 1.0886 Acc: 0.8125\n",
            "\n",
            "Epoch 56/100\n",
            "--------------------\n",
            "train Loss: 0.0015 Acc: 1.0000\n",
            "valid Loss: 1.0914 Acc: 0.8042\n",
            "\n",
            "Epoch 57/100\n",
            "--------------------\n",
            "train Loss: 0.0013 Acc: 1.0000\n",
            "valid Loss: 1.1151 Acc: 0.8083\n",
            "\n",
            "Epoch 58/100\n",
            "--------------------\n",
            "train Loss: 0.0013 Acc: 1.0000\n",
            "valid Loss: 1.1457 Acc: 0.8042\n",
            "\n",
            "Epoch 59/100\n",
            "--------------------\n",
            "train Loss: 0.0012 Acc: 1.0000\n",
            "valid Loss: 1.1832 Acc: 0.8167\n",
            "\n",
            "Epoch 60/100\n",
            "--------------------\n",
            "train Loss: 0.0012 Acc: 1.0000\n",
            "valid Loss: 1.1605 Acc: 0.8000\n",
            "\n",
            "Epoch 61/100\n",
            "--------------------\n",
            "train Loss: 0.0009 Acc: 1.0000\n",
            "valid Loss: 1.1725 Acc: 0.8000\n",
            "\n",
            "Epoch 62/100\n",
            "--------------------\n",
            "train Loss: 0.0009 Acc: 1.0000\n",
            "valid Loss: 1.1518 Acc: 0.8167\n",
            "\n",
            "Epoch 63/100\n",
            "--------------------\n",
            "train Loss: 0.0008 Acc: 1.0000\n",
            "valid Loss: 1.1752 Acc: 0.8167\n",
            "\n",
            "Epoch 64/100\n",
            "--------------------\n",
            "train Loss: 0.0010 Acc: 1.0000\n",
            "valid Loss: 1.1770 Acc: 0.8083\n",
            "\n",
            "Epoch 65/100\n",
            "--------------------\n",
            "train Loss: 0.0007 Acc: 1.0000\n",
            "valid Loss: 1.2061 Acc: 0.8083\n",
            "\n",
            "Epoch 66/100\n",
            "--------------------\n",
            "train Loss: 0.0007 Acc: 1.0000\n",
            "valid Loss: 1.2202 Acc: 0.8125\n",
            "\n",
            "Epoch 67/100\n",
            "--------------------\n",
            "train Loss: 0.0008 Acc: 1.0000\n",
            "valid Loss: 1.2096 Acc: 0.8167\n",
            "\n",
            "Epoch 68/100\n",
            "--------------------\n",
            "train Loss: 0.0007 Acc: 1.0000\n",
            "valid Loss: 1.2038 Acc: 0.8125\n",
            "\n",
            "Epoch 69/100\n",
            "--------------------\n",
            "train Loss: 0.0008 Acc: 1.0000\n",
            "valid Loss: 1.1874 Acc: 0.7917\n",
            "\n",
            "Epoch 70/100\n",
            "--------------------\n",
            "train Loss: 0.0009 Acc: 1.0000\n",
            "valid Loss: 1.2266 Acc: 0.8042\n",
            "\n",
            "Epoch 71/100\n",
            "--------------------\n",
            "train Loss: 0.0008 Acc: 1.0000\n",
            "valid Loss: 1.2178 Acc: 0.8042\n",
            "\n",
            "Epoch 72/100\n",
            "--------------------\n",
            "train Loss: 0.0006 Acc: 1.0000\n",
            "valid Loss: 1.2406 Acc: 0.8042\n",
            "\n",
            "Epoch 73/100\n",
            "--------------------\n",
            "train Loss: 0.0006 Acc: 1.0000\n",
            "valid Loss: 1.2479 Acc: 0.8125\n",
            "\n",
            "Epoch 74/100\n",
            "--------------------\n",
            "train Loss: 0.0005 Acc: 1.0000\n",
            "valid Loss: 1.2549 Acc: 0.8167\n",
            "\n",
            "Epoch 75/100\n",
            "--------------------\n",
            "train Loss: 0.0005 Acc: 1.0000\n",
            "valid Loss: 1.2615 Acc: 0.8167\n",
            "\n",
            "Epoch 76/100\n",
            "--------------------\n",
            "train Loss: 0.0005 Acc: 1.0000\n",
            "valid Loss: 1.2716 Acc: 0.7958\n",
            "\n",
            "Epoch 77/100\n",
            "--------------------\n",
            "train Loss: 0.0005 Acc: 1.0000\n",
            "valid Loss: 1.2771 Acc: 0.8125\n",
            "\n",
            "Epoch 78/100\n",
            "--------------------\n",
            "train Loss: 0.0005 Acc: 1.0000\n",
            "valid Loss: 1.2827 Acc: 0.8083\n",
            "\n",
            "Epoch 79/100\n",
            "--------------------\n",
            "train Loss: 0.0005 Acc: 1.0000\n",
            "valid Loss: 1.2926 Acc: 0.8125\n",
            "\n",
            "Epoch 80/100\n",
            "--------------------\n",
            "train Loss: 0.0005 Acc: 1.0000\n",
            "valid Loss: 1.2867 Acc: 0.8125\n",
            "\n",
            "Epoch 81/100\n",
            "--------------------\n",
            "train Loss: 0.0004 Acc: 1.0000\n",
            "valid Loss: 1.2985 Acc: 0.8000\n",
            "\n",
            "Epoch 82/100\n",
            "--------------------\n",
            "train Loss: 0.0004 Acc: 1.0000\n",
            "valid Loss: 1.2846 Acc: 0.8042\n",
            "\n",
            "Epoch 83/100\n",
            "--------------------\n",
            "train Loss: 0.0004 Acc: 1.0000\n",
            "valid Loss: 1.2847 Acc: 0.8042\n",
            "\n",
            "Epoch 84/100\n",
            "--------------------\n",
            "train Loss: 0.0004 Acc: 1.0000\n",
            "valid Loss: 1.2922 Acc: 0.8125\n",
            "\n",
            "Epoch 85/100\n",
            "--------------------\n",
            "train Loss: 0.0004 Acc: 1.0000\n",
            "valid Loss: 1.2947 Acc: 0.8000\n",
            "\n",
            "Epoch 86/100\n",
            "--------------------\n",
            "train Loss: 0.0004 Acc: 1.0000\n",
            "valid Loss: 1.3031 Acc: 0.8042\n",
            "\n",
            "Epoch 87/100\n",
            "--------------------\n",
            "train Loss: 0.0004 Acc: 1.0000\n",
            "valid Loss: 1.3023 Acc: 0.7958\n",
            "\n",
            "Epoch 88/100\n",
            "--------------------\n",
            "train Loss: 0.0004 Acc: 1.0000\n",
            "valid Loss: 1.3056 Acc: 0.8125\n",
            "\n",
            "Epoch 89/100\n",
            "--------------------\n",
            "train Loss: 0.0004 Acc: 1.0000\n",
            "valid Loss: 1.3169 Acc: 0.8083\n",
            "\n",
            "Epoch 90/100\n",
            "--------------------\n",
            "train Loss: 0.0003 Acc: 1.0000\n",
            "valid Loss: 1.3193 Acc: 0.8125\n",
            "\n",
            "Epoch 91/100\n",
            "--------------------\n",
            "train Loss: 0.0003 Acc: 1.0000\n",
            "valid Loss: 1.3204 Acc: 0.8125\n",
            "\n",
            "Epoch 92/100\n",
            "--------------------\n",
            "train Loss: 0.0003 Acc: 1.0000\n",
            "valid Loss: 1.3145 Acc: 0.8125\n",
            "\n",
            "Epoch 93/100\n",
            "--------------------\n",
            "train Loss: 0.0003 Acc: 1.0000\n",
            "valid Loss: 1.3243 Acc: 0.8208\n",
            "\n",
            "Epoch 94/100\n",
            "--------------------\n",
            "train Loss: 0.0004 Acc: 1.0000\n",
            "valid Loss: 1.3327 Acc: 0.8083\n",
            "\n",
            "Epoch 95/100\n",
            "--------------------\n",
            "train Loss: 0.0004 Acc: 1.0000\n",
            "valid Loss: 1.3529 Acc: 0.8042\n",
            "\n",
            "Epoch 96/100\n",
            "--------------------\n",
            "train Loss: 0.0003 Acc: 1.0000\n",
            "valid Loss: 1.3303 Acc: 0.8125\n",
            "\n",
            "Epoch 97/100\n",
            "--------------------\n",
            "train Loss: 0.0003 Acc: 1.0000\n",
            "valid Loss: 1.3290 Acc: 0.8125\n",
            "\n",
            "Epoch 98/100\n",
            "--------------------\n",
            "train Loss: 0.0004 Acc: 1.0000\n",
            "valid Loss: 1.3349 Acc: 0.8125\n",
            "\n",
            "Epoch 99/100\n",
            "--------------------\n",
            "train Loss: 0.0003 Acc: 1.0000\n",
            "valid Loss: 1.3273 Acc: 0.8125\n",
            "\n",
            "Epoch 100/100\n",
            "--------------------\n",
            "train Loss: 0.0003 Acc: 1.0000\n",
            "valid Loss: 1.3488 Acc: 0.8083\n",
            "\n",
            "Training complete in 12m 23s\n",
            "Best val Acc: 0.825000\n"
          ]
        }
      ],
      "source": [
        "vgg = train_model(vgg, criterion,optimizer, exp_lr_scheduler, dataloaders_rgb, dataloader_rgb_sizes, num_epochs=epochs)"
      ]
    },
    {
      "cell_type": "markdown",
      "source": [
        "### **Evaluarte**"
      ],
      "metadata": {
        "id": "T-vMk0gwGkcE"
      }
    },
    {
      "cell_type": "code",
      "source": [
        "evaluate_model(vgg, criterion, dataloaders_rgb, dataloader_rgb_sizes)"
      ],
      "metadata": {
        "colab": {
          "base_uri": "https://localhost:8080/"
        },
        "id": "W_E5IZWjF8i9",
        "outputId": "6fe6f5c5-f660-4dfe-c385-66c3caf8dff5"
      },
      "execution_count": 103,
      "outputs": [
        {
          "output_type": "stream",
          "name": "stdout",
          "text": [
            "--------------------\n",
            "test Loss: 0.7754 Acc: 0.7967\n"
          ]
        }
      ]
    },
    {
      "cell_type": "markdown",
      "metadata": {
        "id": "rfFFF-NNkUbQ"
      },
      "source": [
        "## **ViT**"
      ]
    },
    {
      "cell_type": "code",
      "execution_count": null,
      "metadata": {
        "id": "k-kjwMUhnpOQ"
      },
      "outputs": [],
      "source": [
        "vit = torchvision.models.vit_b_16(pretrained=True)"
      ]
    },
    {
      "cell_type": "code",
      "execution_count": null,
      "metadata": {
        "colab": {
          "base_uri": "https://localhost:8080/"
        },
        "id": "enNBPur8rRwz",
        "outputId": "e5d87d9c-f600-47ed-f638-5c52208099be"
      },
      "outputs": [
        {
          "data": {
            "text/plain": [
              "Sequential(\n",
              "  (head): Linear(in_features=768, out_features=1000, bias=True)\n",
              ")"
            ]
          },
          "execution_count": 62,
          "metadata": {},
          "output_type": "execute_result"
        }
      ],
      "source": [
        "vit.train().heads"
      ]
    },
    {
      "cell_type": "code",
      "execution_count": null,
      "metadata": {
        "id": "vxkCVvvRrd8Y"
      },
      "outputs": [],
      "source": [
        "num_ftrs = vit.heads.head.in_features\n",
        "vit.heads =  nn.Sequential(\n",
        "    nn.Linear(num_ftrs, 1024),\n",
        "    nn.ReLU(),\n",
        "    nn.Dropout(0.2),\n",
        "    nn.Linear(1024, 1),\n",
        "    nn.Sigmoid()\n",
        ")\n"
      ]
    },
    {
      "cell_type": "code",
      "execution_count": null,
      "metadata": {
        "id": "duUHrL-Ftjg-"
      },
      "outputs": [],
      "source": [
        "vit.train().heads"
      ]
    },
    {
      "cell_type": "code",
      "execution_count": null,
      "metadata": {
        "id": "Lj25Hg9hsSml"
      },
      "outputs": [],
      "source": [
        "vit = vit.to(device)"
      ]
    },
    {
      "cell_type": "code",
      "execution_count": null,
      "metadata": {
        "id": "4r1hGA4GsXRx"
      },
      "outputs": [],
      "source": [
        "learning_rate = 1e-2\n",
        "epochs = 20\n",
        "\n",
        "criterion = nn.BCELoss()\n",
        "\n",
        "# Observe that all parameters are being optimized\n",
        "optimizer = torch.optim.Adam(vit.parameters(), lr=learning_rate)\n",
        "# optimizer = torch.optim.SGD(vgg.parameters(), lr=learning_rate, momentum=0.9)\n",
        "# optimizer = torch.optim.Adadelta(vgg.parameters(), lr=learning_rate, weight_decay=0.95)\n",
        "\n",
        "# Decay LR by a factor of 0.1 every 7 epochs\n",
        "exp_lr_scheduler = torch.optim.lr_scheduler.StepLR(optimizer, step_size=7, gamma=0.1)"
      ]
    },
    {
      "cell_type": "code",
      "execution_count": null,
      "metadata": {
        "colab": {
          "base_uri": "https://localhost:8080/"
        },
        "id": "aY4QWI02sgJH",
        "outputId": "f8b3120d-b72c-41f5-874a-fa1cf37f9f66"
      },
      "outputs": [
        {
          "name": "stdout",
          "output_type": "stream",
          "text": [
            "Epoch 1/20\n",
            "--------------------\n",
            "train Loss: 23.5471 Acc: 0.7256\n",
            "valid Loss: 27.7344 Acc: 0.7227\n",
            "\n",
            "Epoch 2/20\n",
            "--------------------\n",
            "train Loss: 26.9531 Acc: 0.7305\n",
            "valid Loss: 26.5625 Acc: 0.7344\n",
            "\n",
            "Epoch 3/20\n",
            "--------------------\n",
            "train Loss: 26.6602 Acc: 0.7334\n",
            "valid Loss: 25.3906 Acc: 0.7461\n",
            "\n",
            "Epoch 4/20\n",
            "--------------------\n",
            "train Loss: 28.1250 Acc: 0.7188\n",
            "valid Loss: 26.5625 Acc: 0.7344\n",
            "\n",
            "Epoch 5/20\n",
            "--------------------\n",
            "train Loss: 27.5391 Acc: 0.7246\n",
            "valid Loss: 26.9531 Acc: 0.7305\n",
            "\n",
            "Epoch 6/20\n",
            "--------------------\n",
            "train Loss: 27.2461 Acc: 0.7275\n",
            "valid Loss: 27.7344 Acc: 0.7227\n",
            "\n",
            "Epoch 7/20\n",
            "--------------------\n",
            "train Loss: 27.2461 Acc: 0.7275\n",
            "valid Loss: 27.3438 Acc: 0.7266\n",
            "\n",
            "Epoch 8/20\n",
            "--------------------\n",
            "train Loss: 26.6602 Acc: 0.7334\n",
            "valid Loss: 26.5625 Acc: 0.7344\n",
            "\n",
            "Epoch 9/20\n",
            "--------------------\n",
            "train Loss: 27.2461 Acc: 0.7275\n",
            "valid Loss: 26.5625 Acc: 0.7344\n",
            "\n",
            "Epoch 10/20\n",
            "--------------------\n",
            "train Loss: 27.5391 Acc: 0.7246\n",
            "valid Loss: 26.1719 Acc: 0.7383\n",
            "\n",
            "Epoch 11/20\n",
            "--------------------\n",
            "train Loss: 27.8320 Acc: 0.7217\n",
            "valid Loss: 26.5625 Acc: 0.7344\n",
            "\n",
            "Epoch 12/20\n",
            "--------------------\n",
            "train Loss: 27.5391 Acc: 0.7246\n",
            "valid Loss: 26.1719 Acc: 0.7383\n",
            "\n",
            "Epoch 13/20\n",
            "--------------------\n",
            "train Loss: 27.2461 Acc: 0.7275\n",
            "valid Loss: 25.7812 Acc: 0.7422\n",
            "\n",
            "Epoch 14/20\n",
            "--------------------\n",
            "train Loss: 27.2461 Acc: 0.7275\n",
            "valid Loss: 26.1719 Acc: 0.7383\n",
            "\n",
            "Epoch 15/20\n",
            "--------------------\n",
            "train Loss: 27.5391 Acc: 0.7246\n",
            "valid Loss: 26.5625 Acc: 0.7344\n",
            "\n",
            "Epoch 16/20\n",
            "--------------------\n",
            "train Loss: 27.5391 Acc: 0.7246\n",
            "valid Loss: 27.7344 Acc: 0.7227\n",
            "\n",
            "Epoch 17/20\n",
            "--------------------\n",
            "train Loss: 27.2461 Acc: 0.7275\n",
            "valid Loss: 27.7344 Acc: 0.7227\n",
            "\n",
            "Epoch 18/20\n",
            "--------------------\n",
            "train Loss: 27.2461 Acc: 0.7275\n",
            "valid Loss: 25.7812 Acc: 0.7422\n",
            "\n",
            "Epoch 19/20\n",
            "--------------------\n",
            "train Loss: 27.2461 Acc: 0.7275\n",
            "valid Loss: 26.5625 Acc: 0.7344\n",
            "\n",
            "Epoch 20/20\n",
            "--------------------\n",
            "train Loss: 27.2461 Acc: 0.7275\n",
            "valid Loss: 26.5625 Acc: 0.7344\n",
            "\n",
            "Training complete in 10m 48s\n",
            "Best val Acc: 0.746094\n"
          ]
        }
      ],
      "source": [
        "vit = train_model(vit, criterion, optimizer, exp_lr_scheduler, dataloaders_rgb, dataloader_rgb_sizes, num_epochs=epochs)"
      ]
    },
    {
      "cell_type": "markdown",
      "metadata": {
        "id": "J6L_RRUPIlXC"
      },
      "source": [
        "## **CNN**"
      ]
    },
    {
      "cell_type": "code",
      "execution_count": null,
      "metadata": {
        "id": "DkC3IO5OIn-w"
      },
      "outputs": [],
      "source": [
        "class CNN(nn.Module):\n",
        "  def __init__(self):\n",
        "    super(CNN, self).__init__()\n",
        "    self.conv1 = nn.Conv2d(in_channels=1, out_channels=32, kernel_size=3)\n",
        "    self.conv2 = nn.Conv2d(in_channels=32, out_channels=16, kernel_size=3)\n",
        "    self.pool = nn.MaxPool2d(2, 2)\n",
        "    self.flatten = nn.Flatten()\n",
        "    self.linrear1 = nn.Linear(in_features=16 * 30 * 30, out_features=128)\n",
        "    self.linrear2 = nn.Linear(in_features=128, out_features=32)\n",
        "    self.output = nn.Linear(in_features=32, out_features=1)\n",
        "    self.relu = nn.ReLU()\n",
        "    self.sigmoid = nn.Sigmoid() \n",
        "\n",
        "  def forward(self, x):\n",
        "    x = self.relu(self.conv1(x))\n",
        "    x = self.pool(x)\n",
        "    x = self.relu(self.conv2(x))\n",
        "    x = self.pool(x)\n",
        "    x = x.view(-1, 16 * 30 * 30)\n",
        "    x = self.flatten(x)\n",
        "    x = self.relu(self.linrear1(x))\n",
        "    x = self.relu(self.linrear2(x))\n",
        "    x = self.sigmoid(self.output(x))\n",
        "    return x\n"
      ]
    },
    {
      "cell_type": "code",
      "execution_count": null,
      "metadata": {
        "id": "1i8h11AkV2fS"
      },
      "outputs": [],
      "source": [
        "model = CNN()"
      ]
    },
    {
      "cell_type": "code",
      "execution_count": null,
      "metadata": {
        "id": "TUwZAya0YXvh"
      },
      "outputs": [],
      "source": [
        "model = model.to(device)"
      ]
    },
    {
      "cell_type": "code",
      "execution_count": null,
      "metadata": {
        "id": "t706vSHIULuc"
      },
      "outputs": [],
      "source": [
        "learning_rate = 1e-3\n",
        "epochs = 100\n",
        "\n",
        "criterion = nn.BCELoss()\n",
        "\n",
        "# Observe that all parameters are being optimized\n",
        "optimizer = torch.optim.SGD(model.parameters(), lr=learning_rate, momentum=0.9)\n",
        "\n",
        "# Decay LR by a factor of 0.1 every 7 epochs\n",
        "exp_lr_scheduler = torch.optim.lr_scheduler.StepLR(optimizer, step_size=7, gamma=0.1)"
      ]
    },
    {
      "cell_type": "code",
      "execution_count": null,
      "metadata": {
        "id": "tTJiJhxtVhTC"
      },
      "outputs": [],
      "source": [
        "model_ft = train_model(model, criterion, optimizer, exp_lr_scheduler, dataloaders, dataloader_sizes, num_epochs=epochs)"
      ]
    }
  ],
  "metadata": {
    "accelerator": "GPU",
    "colab": {
      "collapsed_sections": [
        "iL-FNKBekJLJ",
        "pUn5U_UukZSX",
        "GX3YRfENLpjl",
        "H9bKlpoVMzby",
        "Ji24twrPU4E0",
        "zHaltusVcyqq",
        "2tqOkoXuc2EC",
        "nUhTJAx9ecBx",
        "tdRnSIgfP5Dq",
        "RFznc2chWf4v",
        "BdN7OTW2Hlt_",
        "PyT1bZJBH_lx",
        "94ONj06MTsKE",
        "rfFFF-NNkUbQ",
        "J6L_RRUPIlXC"
      ],
      "provenance": [],
      "include_colab_link": true
    },
    "gpuClass": "standard",
    "kernelspec": {
      "display_name": "Python 3",
      "name": "python3"
    },
    "language_info": {
      "name": "python"
    }
  },
  "nbformat": 4,
  "nbformat_minor": 0
}