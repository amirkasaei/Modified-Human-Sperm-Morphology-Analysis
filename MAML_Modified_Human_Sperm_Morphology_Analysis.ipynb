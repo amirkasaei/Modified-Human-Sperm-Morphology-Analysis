{
  "cells": [
    {
      "cell_type": "markdown",
      "metadata": {
        "id": "view-in-github",
        "colab_type": "text"
      },
      "source": [
        "<a href=\"https://colab.research.google.com/github/amirkasaei/Modified-Human-Sperm-Morphology-Analysis/blob/main/MAML_Modified_Human_Sperm_Morphology_Analysis.ipynb\" target=\"_parent\"><img src=\"https://colab.research.google.com/assets/colab-badge.svg\" alt=\"Open In Colab\"/></a>"
      ]
    },
    {
      "cell_type": "markdown",
      "metadata": {
        "id": "iL-FNKBekJLJ"
      },
      "source": [
        "# **Libraries**"
      ]
    },
    {
      "cell_type": "markdown",
      "metadata": {
        "id": "fS2fEHBUxjg8"
      },
      "source": [
        "## **Others**"
      ]
    },
    {
      "cell_type": "code",
      "execution_count": 1,
      "metadata": {
        "id": "E0rB-cgkur0l"
      },
      "outputs": [],
      "source": [
        "import pandas as pd\n",
        "import numpy as np\n",
        "import matplotlib.pyplot as plt\n",
        "\n",
        "from sklearn.model_selection import train_test_split, KFold\n",
        "from sklearn import metrics\n",
        "from sklearn.model_selection import KFold\n",
        "\n",
        "import copy\n",
        "import imageio\n",
        "import PIL.Image as Image\n",
        "\n",
        "import os\n",
        "import sys\n",
        "import time\n",
        "import random\n",
        "from tqdm import trange\n",
        "\n",
        "from google.colab import drive\n",
        "from numba import cuda"
      ]
    },
    {
      "cell_type": "code",
      "execution_count": 2,
      "metadata": {
        "colab": {
          "base_uri": "https://localhost:8080/"
        },
        "id": "4BjJPwyUvKLt",
        "outputId": "c7e46357-f517-4d33-fa23-9cb2eed49e16"
      },
      "outputs": [
        {
          "output_type": "stream",
          "name": "stdout",
          "text": [
            "Mounted at /content/drive\n"
          ]
        }
      ],
      "source": [
        "drive.mount('/content/drive')\n",
        "data_path = \"/content/drive/MyDrive/AI Projects/Meta-learning vision project/mhsma-dataset sperm images/mhsma/\""
      ]
    },
    {
      "cell_type": "markdown",
      "metadata": {
        "id": "JPTAJrSSw8Zk"
      },
      "source": [
        "## **Torch**"
      ]
    },
    {
      "cell_type": "code",
      "execution_count": 3,
      "metadata": {
        "colab": {
          "base_uri": "https://localhost:8080/"
        },
        "id": "zSzMBrt5MdWe",
        "outputId": "47ef0d2f-302e-4402-ce4d-34e8b00d67f8"
      },
      "outputs": [
        {
          "output_type": "stream",
          "name": "stdout",
          "text": [
            "\u001b[?25l     \u001b[90m━━━━━━━━━━━━━━━━━━━━━━━━━━━━━━━━━━━━━━━━\u001b[0m \u001b[32m0.0/158.4 kB\u001b[0m \u001b[31m?\u001b[0m eta \u001b[36m-:--:--\u001b[0m\r\u001b[2K     \u001b[91m━━━━━━━━━━━━━━━━━━━━━━━\u001b[0m\u001b[90m╺\u001b[0m\u001b[90m━━━━━━━━━━━━━━━━\u001b[0m \u001b[32m92.2/158.4 kB\u001b[0m \u001b[31m2.7 MB/s\u001b[0m eta \u001b[36m0:00:01\u001b[0m\r\u001b[2K     \u001b[90m━━━━━━━━━━━━━━━━━━━━━━━━━━━━━━━━━━━━━━━\u001b[0m \u001b[32m158.4/158.4 kB\u001b[0m \u001b[31m3.3 MB/s\u001b[0m eta \u001b[36m0:00:00\u001b[0m\n",
            "\u001b[?25h\u001b[?25l     \u001b[90m━━━━━━━━━━━━━━━━━━━━━━━━━━━━━━━━━━━━━━━━\u001b[0m \u001b[32m0.0/111.0 kB\u001b[0m \u001b[31m?\u001b[0m eta \u001b[36m-:--:--\u001b[0m\r\u001b[2K     \u001b[90m━━━━━━━━━━━━━━━━━━━━━━━━━━━━━━━━━━━━━━\u001b[0m \u001b[32m111.0/111.0 kB\u001b[0m \u001b[31m10.4 MB/s\u001b[0m eta \u001b[36m0:00:00\u001b[0m\n",
            "\u001b[?25h"
          ]
        }
      ],
      "source": [
        "!pip install -q torcheval"
      ]
    },
    {
      "cell_type": "code",
      "execution_count": 4,
      "metadata": {
        "id": "b9kubfRtqF3m"
      },
      "outputs": [],
      "source": [
        "pip install -q --upgrade torch"
      ]
    },
    {
      "cell_type": "code",
      "execution_count": 5,
      "metadata": {
        "id": "qydtc0OXpRZC"
      },
      "outputs": [],
      "source": [
        "pip install -q --upgrade torch torchvision"
      ]
    },
    {
      "cell_type": "code",
      "execution_count": 6,
      "metadata": {
        "id": "eebDe5smxNoz"
      },
      "outputs": [],
      "source": [
        "import torch\n",
        "from torch import nn\n",
        "from torch.utils.data import DataLoader\n",
        "import torchvision\n",
        "import torcheval\n",
        "from torcheval.metrics.functional import binary_accuracy\n",
        "from torchvision import transforms\n",
        "import torchvision.transforms as T\n",
        "from torchvision.transforms import ToTensor, ToPILImage, Normalize, Resize\n",
        "\n",
        "# PyTorch TensorBoard support\n",
        "from torch.utils.data import Dataset, DataLoader, Sampler\n",
        "from torch.utils.tensorboard import SummaryWriter\n",
        "from datetime import datetime"
      ]
    },
    {
      "cell_type": "markdown",
      "metadata": {
        "id": "RyLgptfAxWXL"
      },
      "source": [
        "## **learn2learn**"
      ]
    },
    {
      "cell_type": "code",
      "execution_count": 7,
      "metadata": {
        "colab": {
          "base_uri": "https://localhost:8080/"
        },
        "id": "pR3RIfzALrxd",
        "outputId": "61b74c5a-ad5d-41dc-e10b-0ec977979001"
      },
      "outputs": [
        {
          "output_type": "stream",
          "name": "stdout",
          "text": [
            "  Preparing metadata (setup.py) ... \u001b[?25l\u001b[?25hdone\n",
            "  Building wheel for qpth (setup.py) ... \u001b[?25l\u001b[?25hdone\n"
          ]
        }
      ],
      "source": [
        "!pip install -q git+https://github.com/locuslab/qpth"
      ]
    },
    {
      "cell_type": "code",
      "execution_count": 8,
      "metadata": {
        "colab": {
          "base_uri": "https://localhost:8080/"
        },
        "id": "tpS-pcoCNqcm",
        "outputId": "9dbb6182-b1df-4cfd-9277-9beb004b0cc5"
      },
      "outputs": [
        {
          "output_type": "stream",
          "name": "stdout",
          "text": [
            "\u001b[2K     \u001b[90m━━━━━━━━━━━━━━━━━━━━━━━━━━━━━━━━━━━━━━━━\u001b[0m \u001b[32m7.0/7.0 MB\u001b[0m \u001b[31m16.7 MB/s\u001b[0m eta \u001b[36m0:00:00\u001b[0m\n",
            "\u001b[?25h  Preparing metadata (setup.py) ... \u001b[?25l\u001b[?25hdone\n",
            "\u001b[2K     \u001b[90m━━━━━━━━━━━━━━━━━━━━━━━━━━━━━━━━━━━━━━━━\u001b[0m \u001b[32m3.0/3.0 MB\u001b[0m \u001b[31m93.7 MB/s\u001b[0m eta \u001b[36m0:00:00\u001b[0m\n",
            "\u001b[?25h  Preparing metadata (setup.py) ... \u001b[?25l\u001b[?25hdone\n",
            "\u001b[2K     \u001b[90m━━━━━━━━━━━━━━━━━━━━━━━━━━━━━━━━━━━━━━━━\u001b[0m \u001b[32m41.5/41.5 kB\u001b[0m \u001b[31m4.9 MB/s\u001b[0m eta \u001b[36m0:00:00\u001b[0m\n",
            "\u001b[2K     \u001b[90m━━━━━━━━━━━━━━━━━━━━━━━━━━━━━━━━━━━━━━━━\u001b[0m \u001b[32m89.7/89.7 kB\u001b[0m \u001b[31m12.4 MB/s\u001b[0m eta \u001b[36m0:00:00\u001b[0m\n",
            "\u001b[?25h  Preparing metadata (setup.py) ... \u001b[?25l\u001b[?25hdone\n",
            "  Preparing metadata (setup.py) ... \u001b[?25l\u001b[?25hdone\n",
            "\u001b[2K     \u001b[90m━━━━━━━━━━━━━━━━━━━━━━━━━━━━━━━━━━━━━━\u001b[0m \u001b[32m135.7/135.7 kB\u001b[0m \u001b[31m17.6 MB/s\u001b[0m eta \u001b[36m0:00:00\u001b[0m\n",
            "\u001b[2K     \u001b[90m━━━━━━━━━━━━━━━━━━━━━━━━━━━━━━━━━━━━━━━━\u001b[0m \u001b[32m96.6/96.6 kB\u001b[0m \u001b[31m13.0 MB/s\u001b[0m eta \u001b[36m0:00:00\u001b[0m\n",
            "\u001b[?25h  Preparing metadata (setup.py) ... \u001b[?25l\u001b[?25hdone\n",
            "\u001b[2K     \u001b[90m━━━━━━━━━━━━━━━━━━━━━━━━━━━━━━━━━━━━━━━━\u001b[0m \u001b[32m1.4/1.4 MB\u001b[0m \u001b[31m74.4 MB/s\u001b[0m eta \u001b[36m0:00:00\u001b[0m\n",
            "\u001b[?25h  Preparing metadata (setup.py) ... \u001b[?25l\u001b[?25hdone\n",
            "  Building wheel for learn2learn (setup.py) ... \u001b[?25l\u001b[?25hdone\n",
            "  Building wheel for gsutil (setup.py) ... \u001b[?25l\u001b[?25hdone\n",
            "  Building wheel for crcmod (setup.py) ... \u001b[?25l\u001b[?25hdone\n",
            "  Building wheel for gcs-oauth2-boto-plugin (setup.py) ... \u001b[?25l\u001b[?25hdone\n",
            "  Building wheel for retry_decorator (setup.py) ... \u001b[?25l\u001b[?25hdone\n",
            "  Building wheel for pyu2f (setup.py) ... \u001b[?25l\u001b[?25hdone\n"
          ]
        }
      ],
      "source": [
        "!pip install -q learn2learn"
      ]
    },
    {
      "cell_type": "code",
      "execution_count": 9,
      "metadata": {
        "id": "AmxAWlZqyXHU"
      },
      "outputs": [],
      "source": [
        "import learn2learn as l2l\n",
        "from learn2learn.data.transforms import (NWays, KShots, LoadData, RemapLabels, ConsecutiveLabels)"
      ]
    },
    {
      "cell_type": "markdown",
      "metadata": {
        "id": "pUn5U_UukZSX"
      },
      "source": [
        "# **Preprocessing**"
      ]
    },
    {
      "cell_type": "markdown",
      "metadata": {
        "id": "48nZStleLlQM"
      },
      "source": [
        "## **Load Data**"
      ]
    },
    {
      "cell_type": "code",
      "execution_count": 10,
      "metadata": {
        "colab": {
          "base_uri": "https://localhost:8080/"
        },
        "id": "V3BZta8VjU9O",
        "outputId": "5afe101f-081f-4819-faf9-da7aad10bd03"
      },
      "outputs": [
        {
          "output_type": "stream",
          "name": "stderr",
          "text": [
            "/usr/local/lib/python3.10/dist-packages/ipykernel/ipkernel.py:283: DeprecationWarning: `should_run_async` will not call `transform_cell` automatically in the future. Please pass the result to `transformed_cell` argument and any exception that happen during thetransform in `preprocessing_exc_tuple` in IPython 7.17 and above.\n",
            "  and should_run_async(code)\n"
          ]
        },
        {
          "output_type": "stream",
          "name": "stdout",
          "text": [
            "Cloning into 'Modified-Human-Sperm-Morphology-Analysis'...\n",
            "remote: Enumerating objects: 72, done.\u001b[K\n",
            "remote: Counting objects: 100% (72/72), done.\u001b[K\n",
            "remote: Compressing objects: 100% (70/70), done.\u001b[K\n",
            "remote: Total 72 (delta 25), reused 0 (delta 0), pack-reused 0\u001b[K\n",
            "Receiving objects: 100% (72/72), 13.88 MiB | 3.92 MiB/s, done.\n",
            "Resolving deltas: 100% (25/25), done.\n"
          ]
        }
      ],
      "source": [
        "!git clone https://github.com/amirkasaei/Modified-Human-Sperm-Morphology-Analysis/\n",
        "path=\"/content/Modified-Human-Sperm-Morphology-Analysis/mhsma-dataset/mhsma/\""
      ]
    },
    {
      "cell_type": "code",
      "execution_count": 11,
      "metadata": {
        "colab": {
          "base_uri": "https://localhost:8080/"
        },
        "id": "TcXjuMm2ujRj",
        "outputId": "a4b413b8-b42b-4998-ea6b-8ff39e7d1c70"
      },
      "outputs": [
        {
          "output_type": "stream",
          "name": "stdout",
          "text": [
            "x_train shape: (1000, 64, 64) ----- y_acrosome_train shape: (1000,)\n",
            "x_valid shape: (240, 64, 64) ----- y_acrosome_valid shape: (240,)\n",
            "x_test shape: (300, 64, 64) ----- y_acrosome_test shape: (300,)\n"
          ]
        }
      ],
      "source": [
        "size = '64'\n",
        "x_train = np.load(path + 'x_' + size + '_train.npy').astype('float32')\n",
        "y_acrosome_train = np.load(path + 'y_acrosome_train.npy').astype('float32')\n",
        "y_head_train = np.load(path + 'y_head_train.npy').astype('float32')\n",
        "y_tail_train = np.load(path + 'y_tail_train.npy').astype('float32')\n",
        "y_vacuole_train = np.load(path + 'y_vacuole_train.npy').astype('float32')\n",
        "\n",
        "x_valid = np.load(path+'x_' + size + '_valid.npy').astype('float32')\n",
        "y_acrosome_valid = np.load(path + 'y_acrosome_valid.npy').astype('float32')\n",
        "y_head_valid = np.load(path + 'y_head_valid.npy').astype('float32')\n",
        "y_tail_valid = np.load(path + 'y_tail_valid.npy').astype('float32')\n",
        "y_vacuole_valid = np.load(path + 'y_vacuole_valid.npy').astype('float32')\n",
        "\n",
        "x_test = np.load(path+'x_' + size + '_test.npy').astype('float32')\n",
        "y_acrosome_test = np.load(path + 'y_acrosome_test.npy').astype('float32')\n",
        "y_head_test = np.load(path + 'y_head_test.npy').astype('float32')\n",
        "y_tail_test = np.load(path + 'y_tail_test.npy').astype('float32')\n",
        "y_vacuole_test = np.load(path + 'y_vacuole_test.npy').astype('float32')\n",
        "\n",
        "print('x_train shape:', x_train.shape, '----- y_acrosome_train shape:', y_acrosome_train.shape)\n",
        "print('x_valid shape:', x_valid.shape, '----- y_acrosome_valid shape:', y_acrosome_valid.shape)\n",
        "print('x_test shape:', x_test.shape, '----- y_acrosome_test shape:', y_acrosome_test.shape)"
      ]
    },
    {
      "cell_type": "code",
      "execution_count": 12,
      "metadata": {
        "colab": {
          "base_uri": "https://localhost:8080/"
        },
        "id": "-Mq6u2TgN9RN",
        "outputId": "b2137d83-8bf6-45cb-ef37-35288edbef8a"
      },
      "outputs": [
        {
          "output_type": "execute_result",
          "data": {
            "text/plain": [
              "0.727"
            ]
          },
          "metadata": {},
          "execution_count": 12
        }
      ],
      "source": [
        "np.count_nonzero(y_head_train == 0)/y_head_train.shape[0]"
      ]
    },
    {
      "cell_type": "code",
      "execution_count": 13,
      "metadata": {
        "colab": {
          "base_uri": "https://localhost:8080/"
        },
        "id": "8rQKTPEBrrwn",
        "outputId": "c859176f-820e-4aa6-da44-b3bf0df531bf"
      },
      "outputs": [
        {
          "output_type": "execute_result",
          "data": {
            "text/plain": [
              "0.73"
            ]
          },
          "metadata": {},
          "execution_count": 13
        }
      ],
      "source": [
        "np.count_nonzero(y_head_test == 0)/y_head_test.shape[0]"
      ]
    },
    {
      "cell_type": "markdown",
      "metadata": {
        "id": "GX3YRfENLpjl"
      },
      "source": [
        "## **Reshape Data**"
      ]
    },
    {
      "cell_type": "code",
      "execution_count": 14,
      "metadata": {
        "id": "v5thlpHvKmTd"
      },
      "outputs": [],
      "source": [
        "x_train = x_train.reshape((x_train.shape[0], x_train.shape[1], x_train.shape[2], 1))\n",
        "# y_acrosome_train = y_acrosome_train.reshape((-1,1))\n",
        "# y_head_train = y_head_train.reshape((-1,1))\n",
        "# y_tail_train = y_tail_train.reshape((-1,1))\n",
        "# y_vacuole_train = y_vacuole_train.reshape((-1,1))\n",
        "\n",
        "x_valid = x_valid.reshape((x_valid.shape[0], x_valid.shape[1], x_valid.shape[2], 1))\n",
        "# y_acrosome_valid = y_acrosome_valid.reshape((-1,1))\n",
        "# y_head_valid = y_head_valid.reshape((-1,1))\n",
        "# y_tail_valid = y_tail_valid.reshape((-1,1))\n",
        "# y_vacuole_valid = y_vacuole_valid.reshape((-1,1))\n",
        "\n",
        "x_test = x_test.reshape((x_test.shape[0], x_test.shape[1], x_test.shape[2], 1))\n",
        "# y_acrosome_test = y_acrosome_test.reshape((-1,1))\n",
        "# y_head_test = y_head_test.reshape((-1,1))\n",
        "# y_tail_test = y_tail_test.reshape((-1,1))\n",
        "# y_vacuole_test = y_vacuole_test.reshape((-1,1))"
      ]
    },
    {
      "cell_type": "code",
      "execution_count": 15,
      "metadata": {
        "colab": {
          "base_uri": "https://localhost:8080/"
        },
        "id": "VNKyge5IJQmh",
        "outputId": "f4d0fd6e-0a36-4601-974d-0ecd10e808a6"
      },
      "outputs": [
        {
          "output_type": "execute_result",
          "data": {
            "text/plain": [
              "(64, 64, 1)"
            ]
          },
          "metadata": {},
          "execution_count": 15
        }
      ],
      "source": [
        "input_shape = x_train.shape[1:]\n",
        "input_shape"
      ]
    },
    {
      "cell_type": "markdown",
      "metadata": {
        "id": "H9bKlpoVMzby"
      },
      "source": [
        "## **Torch**"
      ]
    },
    {
      "cell_type": "code",
      "execution_count": 16,
      "metadata": {
        "id": "Hk_DWJDjM4us"
      },
      "outputs": [],
      "source": [
        "y_acrosome_train_tensor = torch.from_numpy(y_acrosome_train)\n",
        "y_head_train_tensor = torch.from_numpy(y_head_train)\n",
        "y_tail_train_tensor = torch.from_numpy(y_tail_train)\n",
        "y_vacuole_train_tensor = torch.from_numpy(y_vacuole_train)\n",
        "\n",
        "y_acrosome_valid_tensor = torch.from_numpy(y_acrosome_valid)\n",
        "y_head_valid_tensor = torch.from_numpy(y_head_valid)\n",
        "y_tail_valid_tensor = torch.from_numpy(y_tail_valid)\n",
        "y_vacuole_valid_tensor = torch.from_numpy(y_vacuole_valid)\n",
        "\n",
        "y_acrosome_test_tensor = torch.from_numpy(y_acrosome_test)\n",
        "y_head_test_tensor = torch.from_numpy(y_head_test)\n",
        "y_tail_test_tensor = torch.from_numpy(y_tail_test)\n",
        "y_vacuole_test_tensor = torch.from_numpy(y_vacuole_test)\n"
      ]
    },
    {
      "cell_type": "code",
      "execution_count": 17,
      "metadata": {
        "id": "_LGUZeq2SJtS"
      },
      "outputs": [],
      "source": [
        "Tensor = T.Compose([\n",
        "    ToTensor()\n",
        "])\n",
        "\n",
        "PILimage = T.Compose([\n",
        "    ToPILImage()\n",
        "])\n",
        "\n",
        "Tensor224 = T.Compose([\n",
        "    ToTensor(),\n",
        "    Resize(size = (224,224), interpolation=torchvision.transforms.InterpolationMode.BICUBIC)\n",
        "])"
      ]
    },
    {
      "cell_type": "code",
      "execution_count": 18,
      "metadata": {
        "id": "pAJ3atnmUdOS"
      },
      "outputs": [],
      "source": [
        "x_train_tensor = torch.stack([Tensor(img) for img in x_train])\n",
        "\n",
        "x_valid_tensor = torch.stack([Tensor(img) for img in x_valid])\n",
        "\n",
        "x_test_tensor = torch.stack([Tensor(img) for img in x_test])"
      ]
    },
    {
      "cell_type": "code",
      "execution_count": 19,
      "metadata": {
        "colab": {
          "base_uri": "https://localhost:8080/"
        },
        "id": "CXWPjaqYpcbN",
        "outputId": "0c3d3e46-514c-4b4b-c50c-f69a869e05eb"
      },
      "outputs": [
        {
          "output_type": "execute_result",
          "data": {
            "text/plain": [
              "torch.Size([1000, 1, 64, 64])"
            ]
          },
          "metadata": {},
          "execution_count": 19
        }
      ],
      "source": [
        "x_train_tensor.shape"
      ]
    },
    {
      "cell_type": "code",
      "execution_count": 20,
      "metadata": {
        "colab": {
          "base_uri": "https://localhost:8080/",
          "height": 0
        },
        "id": "QmOhUrG1lNrQ",
        "outputId": "f66f3872-679f-47f3-c465-d69f488d9acd"
      },
      "outputs": [
        {
          "output_type": "execute_result",
          "data": {
            "text/plain": [
              "<matplotlib.image.AxesImage at 0x789dbf5f18d0>"
            ]
          },
          "metadata": {},
          "execution_count": 20
        },
        {
          "output_type": "display_data",
          "data": {
            "text/plain": [
              "<Figure size 640x480 with 1 Axes>"
            ],
            "image/png": "[encoded data removed]"
          },
          "metadata": {}
        }
      ],
      "source": [
        "plt.imshow(PILimage(x_train_tensor[0]))"
      ]
    },
    {
      "cell_type": "markdown",
      "metadata": {
        "id": "Ji24twrPU4E0"
      },
      "source": [
        "## **Data Normalization**"
      ]
    },
    {
      "cell_type": "markdown",
      "metadata": {
        "id": "zHaltusVcyqq"
      },
      "source": [
        "### **Mean**"
      ]
    },
    {
      "cell_type": "code",
      "execution_count": 21,
      "metadata": {
        "id": "MTQ71V-PbmUC"
      },
      "outputs": [],
      "source": [
        "mean_train = x_train_tensor.view(1, -1).mean(dim=1)\n",
        "mean_valid = x_valid_tensor.view(1, -1).mean(dim=1)\n",
        "mean_test = x_test_tensor.view(1, -1).mean(dim=1)"
      ]
    },
    {
      "cell_type": "code",
      "execution_count": 22,
      "metadata": {
        "colab": {
          "base_uri": "https://localhost:8080/"
        },
        "id": "atK-WnG6XBBB",
        "outputId": "4b7a63f3-7258-475b-c10c-6a0dcca17ea5"
      },
      "outputs": [
        {
          "output_type": "execute_result",
          "data": {
            "text/plain": [
              "(tensor([125.7673]), tensor([126.1020]), tensor([125.9759]))"
            ]
          },
          "metadata": {},
          "execution_count": 22
        }
      ],
      "source": [
        "mean_train, mean_valid, mean_test"
      ]
    },
    {
      "cell_type": "markdown",
      "metadata": {
        "id": "2tqOkoXuc2EC"
      },
      "source": [
        "### **Standard Deviation**"
      ]
    },
    {
      "cell_type": "code",
      "execution_count": 23,
      "metadata": {
        "id": "3i-_ru4PcFLm"
      },
      "outputs": [],
      "source": [
        "std_train = x_train_tensor.view(1, -1).std(dim=1)\n",
        "std_valid = x_valid_tensor.view(1, -1).std(dim=1)\n",
        "std_test = x_test_tensor.view(1, -1).std(dim=1)"
      ]
    },
    {
      "cell_type": "code",
      "execution_count": 24,
      "metadata": {
        "colab": {
          "base_uri": "https://localhost:8080/"
        },
        "id": "TvjLKtkeYOV1",
        "outputId": "82d3920d-1dce-49cb-a860-ffa9e0d64c50"
      },
      "outputs": [
        {
          "output_type": "execute_result",
          "data": {
            "text/plain": [
              "(tensor([13.1974]), tensor([13.4397]), tensor([13.3606]))"
            ]
          },
          "metadata": {},
          "execution_count": 24
        }
      ],
      "source": [
        "std_train, std_valid, std_test"
      ]
    },
    {
      "cell_type": "markdown",
      "metadata": {
        "id": "nUhTJAx9ecBx"
      },
      "source": [
        "### **Normalizarion**"
      ]
    },
    {
      "cell_type": "code",
      "execution_count": 25,
      "metadata": {
        "id": "X3RsifoYQKQ6"
      },
      "outputs": [],
      "source": [
        "Normalizer = Normalize(128, 8)\n",
        "x_train_norm = Normalizer(x_train_tensor)"
      ]
    },
    {
      "cell_type": "code",
      "execution_count": 26,
      "metadata": {
        "id": "Jga9XJfseN8H"
      },
      "outputs": [],
      "source": [
        "Normalizer = Normalize(mean_valid, std_valid)\n",
        "x_valid_norm = Normalizer(x_valid_tensor)"
      ]
    },
    {
      "cell_type": "code",
      "execution_count": 27,
      "metadata": {
        "id": "DDWTnWeqQ-9J"
      },
      "outputs": [],
      "source": [
        "Normalizer = Normalize(mean_test, std_test)\n",
        "x_test_norm = Normalizer(x_test_tensor)"
      ]
    },
    {
      "cell_type": "code",
      "execution_count": 28,
      "metadata": {
        "colab": {
          "base_uri": "https://localhost:8080/",
          "height": 0
        },
        "id": "elcdgjAlYTbZ",
        "outputId": "e75b7290-6d14-458e-e974-4a7b136f6b07"
      },
      "outputs": [
        {
          "output_type": "execute_result",
          "data": {
            "text/plain": [
              "<matplotlib.image.AxesImage at 0x789dbf5f3040>"
            ]
          },
          "metadata": {},
          "execution_count": 28
        },
        {
          "output_type": "display_data",
          "data": {
            "text/plain": [
              "<Figure size 640x480 with 1 Axes>"
            ],
            "image/png": "[encoded data removed]"
          },
          "metadata": {}
        }
      ],
      "source": [
        "plt.imshow(PILimage(x_train_norm[0]))"
      ]
    },
    {
      "cell_type": "markdown",
      "metadata": {
        "id": "tdRnSIgfP5Dq"
      },
      "source": [
        "## **RGB**"
      ]
    },
    {
      "cell_type": "code",
      "execution_count": 29,
      "metadata": {
        "id": "N8SbiiJmP9z-"
      },
      "outputs": [],
      "source": [
        "x_train_rgb = torch.stack([img.repeat(3, 1, 1) for img in x_train_tensor])\n",
        "\n",
        "x_valid_rgb = torch.stack([img.repeat(3, 1, 1) for img in x_valid_tensor])\n",
        "\n",
        "x_test_rgb = torch.stack([img.repeat(3, 1, 1) for img in x_test_tensor])"
      ]
    },
    {
      "cell_type": "code",
      "execution_count": 30,
      "metadata": {
        "colab": {
          "base_uri": "https://localhost:8080/",
          "height": 0
        },
        "id": "pKrW1EyjHVcw",
        "outputId": "fe8579fb-ad8c-4b09-89ee-099abf7d7933"
      },
      "outputs": [
        {
          "output_type": "execute_result",
          "data": {
            "text/plain": [
              "<matplotlib.image.AxesImage at 0x789dba4fe440>"
            ]
          },
          "metadata": {},
          "execution_count": 30
        },
        {
          "output_type": "display_data",
          "data": {
            "text/plain": [
              "<Figure size 640x480 with 1 Axes>"
            ],
            "image/png": "[encoded data removed]"
          },
          "metadata": {}
        }
      ],
      "source": [
        "plt.imshow(PILimage(x_train_rgb[0]))"
      ]
    },
    {
      "cell_type": "markdown",
      "metadata": {
        "id": "vJzq-l_pQrky"
      },
      "source": [
        "## **Data Augmentation**"
      ]
    },
    {
      "cell_type": "code",
      "source": [
        "transformers = [\n",
        "    T.functional.vflip,\n",
        "    T.functional.invert,\n",
        "    T.functional.hflip,\n",
        "]"
      ],
      "metadata": {
        "id": "j-iERXq-2p2B"
      },
      "execution_count": 31,
      "outputs": []
    },
    {
      "cell_type": "code",
      "source": [
        "randomAug = T.RandomApply([T.RandomChoice(transformers, p=[0.5, 0.5, 0.5])], p=0.5)"
      ],
      "metadata": {
        "id": "8Nn0-ttV0gfJ"
      },
      "execution_count": 32,
      "outputs": []
    },
    {
      "cell_type": "code",
      "source": [
        "x_def = x_train_rgb[:5]\n",
        "x_aug = torch.stack([randomAug(x) for x in x_def])"
      ],
      "metadata": {
        "id": "CHnMAQawTVGA"
      },
      "execution_count": 33,
      "outputs": []
    },
    {
      "cell_type": "code",
      "source": [
        "fig, axs = plt.subplots(nrows=1, ncols=2, squeeze=False, figsize=(10,5))\n",
        "\n",
        "axs[0, 0].title.set_text('default')\n",
        "axs[0, 1].title.set_text('augmented')\n",
        "axs[0, 0].imshow(PILimage(x_def[0]))\n",
        "axs[0, 1].imshow(PILimage(x_aug[0]))\n",
        "\n",
        "plt.show()"
      ],
      "metadata": {
        "id": "8iZrf0G50PSv",
        "colab": {
          "base_uri": "https://localhost:8080/",
          "height": 0
        },
        "outputId": "4910fc1c-5fab-43e1-c950-b7d67e08d355"
      },
      "execution_count": 34,
      "outputs": [
        {
          "output_type": "display_data",
          "data": {
            "text/plain": [
              "<Figure size 1000x500 with 2 Axes>"
            ],
            "image/png": "[encoded data removed]"
          },
          "metadata": {}
        }
      ]
    },
    {
      "cell_type": "code",
      "source": [
        "type(x_def), type(x_aug[0])"
      ],
      "metadata": {
        "colab": {
          "base_uri": "https://localhost:8080/"
        },
        "id": "BA5iGLEWQkYv",
        "outputId": "9dfa5ac7-cb90-48ed-9664-1e0cfbb82f65"
      },
      "execution_count": 35,
      "outputs": [
        {
          "output_type": "execute_result",
          "data": {
            "text/plain": [
              "(torch.Tensor, torch.Tensor)"
            ]
          },
          "metadata": {},
          "execution_count": 35
        }
      ]
    },
    {
      "cell_type": "markdown",
      "metadata": {
        "id": "-Gzi1adbPslv"
      },
      "source": [
        "### **Equal Distribution**"
      ]
    },
    {
      "cell_type": "code",
      "execution_count": 36,
      "metadata": {
        "colab": {
          "base_uri": "https://localhost:8080/"
        },
        "id": "bXppTtQ3QfN9",
        "outputId": "e64dd2ee-2416-47be-f8ea-ca466947c957"
      },
      "outputs": [
        {
          "output_type": "execute_result",
          "data": {
            "text/plain": [
              "(array([0., 1.], dtype=float32), array([727, 273]))"
            ]
          },
          "metadata": {},
          "execution_count": 36
        }
      ],
      "source": [
        "classes, class_samples = np.unique(y_head_train_tensor, return_counts=True)\n",
        "classes, class_samples"
      ]
    },
    {
      "cell_type": "code",
      "execution_count": 37,
      "metadata": {
        "id": "QZAf8-AjRPXb"
      },
      "outputs": [],
      "source": [
        "false_ids = np.random.choice(np.where(y_head_train_tensor == classes[0])[0], size=class_samples[1])\n",
        "true_ids = np.where(y_head_train_tensor == classes[1])[0]\n",
        "ids = np.sort(np.concatenate((false_ids, true_ids), axis=0))"
      ]
    },
    {
      "cell_type": "code",
      "execution_count": 38,
      "metadata": {
        "colab": {
          "base_uri": "https://localhost:8080/"
        },
        "id": "SYyV1TQuR1cz",
        "outputId": "99a8ba14-3e1a-4be3-daa5-eb2ff52df376"
      },
      "outputs": [
        {
          "output_type": "execute_result",
          "data": {
            "text/plain": [
              "(torch.Size([546, 1, 64, 64]), torch.Size([546]))"
            ]
          },
          "metadata": {},
          "execution_count": 38
        }
      ],
      "source": [
        "x_train_equal = x_train_tensor[ids]\n",
        "y_head_train_equal = y_head_train_tensor[ids]\n",
        "x_train_equal.shape, y_head_train_equal.shape"
      ]
    },
    {
      "cell_type": "code",
      "execution_count": 39,
      "metadata": {
        "id": "YN3BVcQ4V9lh",
        "colab": {
          "base_uri": "https://localhost:8080/"
        },
        "outputId": "ccd85236-2e80-4a49-b949-76e1f3876f18"
      },
      "outputs": [
        {
          "output_type": "execute_result",
          "data": {
            "text/plain": [
              "tensor([1., 1., 1., 0., 1., 0., 1., 1., 0., 1., 1., 0., 1., 1., 1., 0., 0., 1.,\n",
              "        1., 1., 0., 1., 1., 0., 0., 0., 0., 1., 0., 0., 1., 0., 1., 0., 1., 1.,\n",
              "        1., 0., 1., 1., 1., 0., 1., 1., 1., 1., 0., 1., 1., 1., 1., 1., 1., 0.,\n",
              "        1., 0., 0., 0., 1., 1., 0., 0., 0., 0., 0., 0., 1., 0., 0., 1., 0., 1.,\n",
              "        1., 0., 0., 0., 0., 0., 1., 1., 1., 1., 0., 0., 0., 1., 1., 1., 0., 1.,\n",
              "        1., 0., 1., 0., 0., 0., 0., 0., 0., 0., 1., 1., 1., 1., 1., 1., 1., 1.,\n",
              "        0., 0., 0., 0., 1., 1., 0., 0., 1., 0., 1., 0., 1., 1., 0., 1., 0., 1.,\n",
              "        0., 1., 1., 1., 1., 0., 0., 0., 1., 1., 1., 0., 1., 1., 1., 0., 0., 0.,\n",
              "        0., 0., 1., 1., 1., 0., 0., 0., 0., 0., 1., 1., 0., 0., 0., 0., 1., 0.,\n",
              "        0., 1., 1., 1., 0., 0., 0., 0., 0., 0., 0., 1., 1., 1., 0., 0., 0., 0.,\n",
              "        1., 1., 0., 1., 0., 1., 1., 0., 0., 1., 0., 0., 0., 0., 0., 1., 0., 0.,\n",
              "        1., 1., 1., 0., 0., 1., 0., 0., 0., 1., 1., 1., 0., 1., 0., 0., 0., 1.,\n",
              "        1., 1., 1., 0., 0., 0., 0., 1., 0., 1., 0., 0., 1., 1., 1., 0., 1., 1.,\n",
              "        0., 1., 0., 0., 1., 0., 0., 0., 1., 0., 1., 0., 1., 0., 1., 0., 0., 0.,\n",
              "        1., 1., 1., 0., 0., 1., 0., 0., 1., 1., 1., 1., 1., 0., 0., 1., 1., 1.,\n",
              "        0., 0., 0., 0., 1., 0., 1., 0., 1., 0., 1., 0., 0., 1., 1., 0., 1., 0.,\n",
              "        0., 0., 0., 0., 0., 1., 0., 1., 1., 0., 1., 0., 1., 0., 0., 0., 0., 0.,\n",
              "        1., 0., 0., 0., 1., 0., 0., 0., 1., 0., 1., 0., 1., 1., 1., 1., 1., 1.,\n",
              "        1., 0., 0., 1., 0., 1., 1., 1., 1., 1., 1., 1., 1., 1., 1., 1., 1., 0.,\n",
              "        1., 1., 1., 0., 0., 0., 0., 1., 0., 0., 1., 1., 1., 1., 0., 0., 0., 0.,\n",
              "        0., 0., 0., 0., 0., 1., 0., 1., 1., 1., 0., 1., 1., 1., 0., 0., 0., 1.,\n",
              "        0., 0., 1., 1., 1., 1., 1., 0., 1., 0., 0., 1., 1., 0., 0., 1., 1., 1.,\n",
              "        0., 0., 0., 1., 0., 0., 0., 1., 0., 0., 1., 0., 0., 1., 0., 0., 0., 1.,\n",
              "        1., 0., 1., 1., 0., 0., 1., 0., 1., 0., 1., 1., 0., 1., 1., 0., 0., 0.,\n",
              "        0., 0., 1., 0., 1., 1., 1., 1., 1., 0., 1., 1., 1., 0., 1., 0., 0., 1.,\n",
              "        1., 0., 0., 0., 1., 1., 0., 1., 0., 0., 1., 1., 0., 0., 0., 1., 1., 0.,\n",
              "        0., 1., 1., 0., 0., 1., 1., 1., 1., 1., 1., 1., 1., 1., 1., 1., 1., 1.,\n",
              "        1., 1., 0., 1., 1., 1., 0., 1., 1., 1., 1., 1., 0., 0., 0., 0., 0., 0.,\n",
              "        0., 1., 1., 1., 0., 0., 0., 1., 1., 0., 0., 0., 0., 1., 0., 0., 0., 1.,\n",
              "        1., 0., 0., 0., 1., 1., 1., 1., 1., 0., 0., 0., 0., 1., 1., 1., 0., 0.,\n",
              "        0., 0., 0., 1., 0., 1.])"
            ]
          },
          "metadata": {},
          "execution_count": 39
        }
      ],
      "source": [
        "y_head_train_equal"
      ]
    },
    {
      "cell_type": "markdown",
      "metadata": {
        "id": "RFznc2chWf4v"
      },
      "source": [
        "## **Dataset**"
      ]
    },
    {
      "cell_type": "code",
      "execution_count": 40,
      "metadata": {
        "id": "zEoKquW7nhpl"
      },
      "outputs": [],
      "source": [
        "class MHSMADataset(Dataset):\n",
        "  def __init__(self, x, y, transform=None, target_transform=None):\n",
        "    self.img_labels = y\n",
        "    self.imgs = x\n",
        "    self.transform = transform\n",
        "    self.target_transform = target_transform\n",
        "\n",
        "  def __len__(self):\n",
        "    return len(self.img_labels)\n",
        "\n",
        "  def __getitem__(self, idx):\n",
        "    image = self.imgs[idx]\n",
        "    label = self.img_labels[idx]\n",
        "    if self.transform:\n",
        "        image = self.transform(image)\n",
        "    if self.target_transform:\n",
        "        label = self.target_transform(label)\n",
        "    return image, label"
      ]
    },
    {
      "cell_type": "code",
      "source": [
        "class MultiLabelMHSMADataset(Dataset):\n",
        "  def __init__(self, x, y_acrosome, y_head, y_tail, y_vacuole, transform=None, target_transform=None):\n",
        "\n",
        "    self.imgs = x\n",
        "\n",
        "    self.len = len(y_acrosome)\n",
        "\n",
        "    self.img_labels = {}\n",
        "    self.img_labels['acrosome'] = y_acrosome\n",
        "    self.img_labels['head'] = y_head\n",
        "    self.img_labels['tail'] = y_tail\n",
        "    self.img_labels['vacuole'] = y_vacuole\n",
        "\n",
        "    self.transform = transform\n",
        "    self.target_transform = target_transform\n",
        "\n",
        "  def __len__(self):\n",
        "    return self.len\n",
        "\n",
        "  def __getitem__(self, idx):\n",
        "    image = self.imgs[idx]\n",
        "\n",
        "    label = {}\n",
        "    label['acrosome'] = self.img_labels['acrosome'][idx]\n",
        "    label['head'] = self.img_labels['head'][idx]\n",
        "    label['tail'] = self.img_labels['tail'][idx]\n",
        "    label['vacuole'] = self.img_labels['vacuole'][idx]\n",
        "\n",
        "    if self.transform:\n",
        "        image = self.transform(image)\n",
        "    if self.target_transform:\n",
        "        label = self.target_transform(label)\n",
        "    return image, label"
      ],
      "metadata": {
        "id": "wlN4V9hSv6MC"
      },
      "execution_count": 41,
      "outputs": []
    },
    {
      "cell_type": "code",
      "execution_count": 42,
      "metadata": {
        "id": "waA3JNJqucuv"
      },
      "outputs": [],
      "source": [
        "MHSMAData = {}\n",
        "\n",
        "MHSMAData['train'] = MHSMADataset(x=x_train_tensor, y=y_head_train_tensor)\n",
        "\n",
        "MHSMAData['valid'] = MHSMADataset(x=x_valid_tensor, y=y_head_valid_tensor)\n",
        "\n",
        "MHSMAData['test'] = MHSMADataset(x=x_test_tensor, y=y_head_test_tensor)"
      ]
    },
    {
      "cell_type": "code",
      "source": [
        "dataset_sizes = {}\n",
        "\n",
        "dataset_sizes['train'] = len(MHSMAData['train'])\n",
        "dataset_sizes['valid'] = len(MHSMAData['valid'])\n",
        "dataset_sizes['test'] = len(MHSMAData['test'])"
      ],
      "metadata": {
        "id": "05A0CKP8z7Hc"
      },
      "execution_count": 43,
      "outputs": []
    },
    {
      "cell_type": "code",
      "execution_count": 44,
      "metadata": {
        "id": "_Nt3sMRfQpzT"
      },
      "outputs": [],
      "source": [
        "MHSMADataRGB = {}\n",
        "\n",
        "MHSMADataRGB['train'] = MHSMADataset(x=x_train_rgb, y=y_head_train_tensor)\n",
        "\n",
        "MHSMADataRGB['valid'] = MHSMADataset(x=x_valid_rgb, y=y_head_valid_tensor)\n",
        "\n",
        "MHSMADataRGB['test'] = MHSMADataset(x=x_test_rgb, y=y_head_test_tensor)"
      ]
    },
    {
      "cell_type": "code",
      "source": [
        "MultiLabelMHSMADataset\n",
        "\n",
        "MultiLabelMHSMADataRGB = {}\n",
        "\n",
        "MultiLabelMHSMADataRGB['train'] = MultiLabelMHSMADataset(x_train_rgb, y_acrosome_train, y_head_train, y_tail_train, y_vacuole_train)\n",
        "\n",
        "MultiLabelMHSMADataRGB['valid'] = MultiLabelMHSMADataset(x_valid_rgb, y_acrosome_valid, y_head_valid, y_tail_valid, y_vacuole_valid)\n",
        "\n",
        "MultiLabelMHSMADataRGB['test'] = MultiLabelMHSMADataset(x_test_rgb, y_acrosome_test, y_head_test, y_tail_test, y_vacuole_test)"
      ],
      "metadata": {
        "id": "gjvc-Vg6Haw4"
      },
      "execution_count": 45,
      "outputs": []
    },
    {
      "cell_type": "markdown",
      "metadata": {
        "id": "ZnlY0Ctgnbd8"
      },
      "source": [
        "## **Data Loader**"
      ]
    },
    {
      "cell_type": "markdown",
      "metadata": {
        "id": "BdN7OTW2Hlt_"
      },
      "source": [
        "### **Default Dataloader**"
      ]
    },
    {
      "cell_type": "code",
      "execution_count": 46,
      "metadata": {
        "id": "xNFfvSGXH4Ms"
      },
      "outputs": [],
      "source": [
        "batch_size=64\n",
        "dataloaders = {}\n",
        "\n",
        "dataloaders['train'] = DataLoader(MHSMAData['train'], batch_size=batch_size, shuffle=True)\n",
        "dataloaders['valid'] = DataLoader(MHSMAData['valid'], batch_size=batch_size, shuffle=True)\n",
        "dataloaders['test'] = DataLoader(MHSMAData['test'], batch_size=batch_size, shuffle=True)"
      ]
    },
    {
      "cell_type": "code",
      "execution_count": 47,
      "metadata": {
        "id": "4i5l2FDVSRnH"
      },
      "outputs": [],
      "source": [
        "dataloader_sizes = {}\n",
        "\n",
        "dataloader_sizes['train'] = len(dataloaders['train'])\n",
        "dataloader_sizes['valid'] = len(dataloaders['valid'])\n",
        "dataloader_sizes['test'] = len(dataloaders['test'])"
      ]
    },
    {
      "cell_type": "markdown",
      "metadata": {
        "id": "PyT1bZJBH_lx"
      },
      "source": [
        "### **RGB Dataloader**"
      ]
    },
    {
      "cell_type": "code",
      "execution_count": 48,
      "metadata": {
        "id": "gRGCYNntRLF6"
      },
      "outputs": [],
      "source": [
        "batch_size=64\n",
        "dataloaders_rgb = {}\n",
        "dataloaders_rgb['train'] = DataLoader(MHSMADataRGB['train'], batch_size=batch_size, shuffle=True, num_workers=2)\n",
        "dataloaders_rgb['valid'] = DataLoader(MHSMADataRGB['valid'], batch_size=batch_size, shuffle=True, num_workers=2)\n",
        "dataloaders_rgb['test'] = DataLoader(MHSMADataRGB['test'], batch_size=batch_size, shuffle=True, num_workers=2)"
      ]
    },
    {
      "cell_type": "code",
      "execution_count": 49,
      "metadata": {
        "id": "XKY7hupgvgf4"
      },
      "outputs": [],
      "source": [
        "dataloader_rgb_sizes = {}\n",
        "\n",
        "dataloader_rgb_sizes['train'] = len(dataloaders_rgb['train'])\n",
        "dataloader_rgb_sizes['valid'] = len(dataloaders_rgb['valid'])\n",
        "dataloader_rgb_sizes['test'] = len(dataloaders_rgb['test'])"
      ]
    },
    {
      "cell_type": "code",
      "execution_count": 50,
      "metadata": {
        "id": "4hEI8s9Dfcpf"
      },
      "outputs": [],
      "source": [
        "train_batch_num = len(dataloaders_rgb['train'])"
      ]
    },
    {
      "cell_type": "code",
      "execution_count": 51,
      "metadata": {
        "id": "PENI9Um8waCF"
      },
      "outputs": [],
      "source": [
        "# train_features, train_labels = next(iter(train_dataloader))"
      ]
    },
    {
      "cell_type": "markdown",
      "metadata": {
        "id": "-xW5mHB5wuzX"
      },
      "source": [
        "### **Meta**"
      ]
    },
    {
      "cell_type": "code",
      "execution_count": 52,
      "metadata": {
        "id": "UI2pj7r9wttS"
      },
      "outputs": [],
      "source": [
        "train_metadata = l2l.data.MetaDataset(MHSMADataRGB['train'])\n",
        "\n",
        "valid_metadata = l2l.data.MetaDataset(MHSMADataRGB['valid'])\n",
        "\n",
        "test_metadata = l2l.data.MetaDataset(MHSMADataRGB['test'])"
      ]
    },
    {
      "cell_type": "code",
      "execution_count": 53,
      "metadata": {
        "id": "Fz8bveJV2diT"
      },
      "outputs": [],
      "source": [
        "transforms = [\n",
        "    l2l.data.transforms.NWays(train_metadata, n=2), # number of output classes\n",
        "    l2l.data.transforms.KShots(train_metadata, k=2*5), # number of shots per iteration\n",
        "    l2l.data.transforms.LoadData(train_metadata),\n",
        "]\n",
        "tasksets = {}\n",
        "tasksets['train'] = l2l.data.Taskset(train_metadata, transforms, num_tasks=1)\n",
        "tasksets['valid'] = l2l.data.Taskset(train_metadata, transforms, num_tasks=1)\n",
        "tasksets['test'] = l2l.data.Taskset(train_metadata, transforms, num_tasks=1)"
      ]
    },
    {
      "cell_type": "code",
      "execution_count": 54,
      "metadata": {
        "id": "EkcYCqvbPezx"
      },
      "outputs": [],
      "source": [
        "# batch_size=32\n",
        "\n",
        "# train_metaDataloader_rgb = DataLoader(train_metadata, batch_size=batch_size, shuffle=True, num_workers=2)\n",
        "# valid_metaDataloader_rgb = DataLoader(valid_metadata, batch_size=batch_size, shuffle=True, num_workers=2)\n",
        "# test_metaDataloader_rgb = DataLoader(test_metadata, batch_size=batch_size, shuffle=True, num_workers=2)"
      ]
    },
    {
      "cell_type": "code",
      "execution_count": 55,
      "metadata": {
        "id": "_34Mxs7SQT7Q"
      },
      "outputs": [],
      "source": [
        "# metaDataloaders_rgb = {}\n",
        "\n",
        "# metaDataloaders_rgb['train'] = train_metaDataloader_rgb\n",
        "# metaDataloaders_rgb['valid'] = valid_metaDataloader_rgb\n",
        "# metaDataloaders_rgb['test'] = test_metaDataloader_rgb"
      ]
    },
    {
      "cell_type": "code",
      "execution_count": 56,
      "metadata": {
        "id": "NhpY4dmuOyp8"
      },
      "outputs": [],
      "source": [
        "# metaDataloader_rgb_sizes ={}\n",
        "\n",
        "# metaDataloader_rgb_sizes['train'] = len(train_dataloader_rgb)\n",
        "# metaDataloader_rgb_sizes['valid'] = len(valid_dataloader_rgb)\n",
        "# metaDataloader_rgb_sizes['test'] = len(test_dataloader_rgb)"
      ]
    },
    {
      "cell_type": "markdown",
      "metadata": {
        "id": "o-EiJgnMHHI6"
      },
      "source": [
        "# **Helper Functions**"
      ]
    },
    {
      "cell_type": "markdown",
      "source": [
        "### **GPU**"
      ],
      "metadata": {
        "id": "y_XRMxd9j4FF"
      }
    },
    {
      "cell_type": "code",
      "source": [
        "def setGPU(seed=42):\n",
        "  random.seed(seed)\n",
        "  np.random.seed(seed)\n",
        "  torch.manual_seed(seed)\n",
        "  device = torch.device('cpu')\n",
        "\n",
        "  if cuda:\n",
        "      torch.cuda.manual_seed(seed)\n",
        "      device = torch.device('cuda')\n",
        "\n",
        "  return device\n",
        "\n",
        "device = setGPU()\n",
        "print(device)"
      ],
      "metadata": {
        "colab": {
          "base_uri": "https://localhost:8080/"
        },
        "id": "XcTVbpt-jIQ1",
        "outputId": "e9bf4c9b-9a10-4ebc-c6d6-d558708575bd"
      },
      "execution_count": 63,
      "outputs": [
        {
          "output_type": "stream",
          "name": "stdout",
          "text": [
            "cuda\n"
          ]
        }
      ]
    },
    {
      "cell_type": "markdown",
      "metadata": {
        "id": "94ONj06MTsKE"
      },
      "source": [
        "### **Train**"
      ]
    },
    {
      "cell_type": "code",
      "execution_count": 64,
      "metadata": {
        "id": "zbuFLMNxtx3G"
      },
      "outputs": [],
      "source": [
        "def train_model(model, criterion, optimizer, scheduler, dataloader, dataloader_size, num_epochs=25):\n",
        "  since = time.time()\n",
        "\n",
        "  best_model_wts = copy.deepcopy(model.state_dict())\n",
        "  best_acc = 0.0\n",
        "\n",
        "  for epoch in range(num_epochs):\n",
        "    print(f'Epoch {epoch+1}/{num_epochs}')\n",
        "    print('-' * 20)\n",
        "\n",
        "    # Each epoch has a training and validation phase\n",
        "    for phase in ['train', 'valid']:\n",
        "      if phase == 'train':\n",
        "        model.train()  # Set model to training mode\n",
        "      else:\n",
        "        model.eval()   # Set model to evaluate mode\n",
        "\n",
        "      running_loss = 0.0\n",
        "      running_corrects = 0\n",
        "      # running_acc = 0.0\n",
        "\n",
        "      # Iterate over data.\n",
        "      for inputs, labels in dataloader[phase]:\n",
        "        inputs = inputs.to(device)\n",
        "        labels = labels.type(torch.LongTensor).to(device)\n",
        "\n",
        "        # zero the parameter gradients\n",
        "        optimizer.zero_grad()\n",
        "\n",
        "        # forward\n",
        "        # track history if only in train\n",
        "        with torch.set_grad_enabled(phase == 'train'):\n",
        "          outputs = model(inputs)\n",
        "          _, preds = torch.max(outputs, 1)\n",
        "          loss = criterion(outputs, labels)\n",
        "          # acc = binary_accuracy(outputs.reshape(outputs.shape[0]), labels.reshape(labels.shape[0]), threshold=0.5)\n",
        "\n",
        "          # backward + optimize only if in training phase\n",
        "          if phase == 'train':\n",
        "            loss.backward()\n",
        "            optimizer.step()\n",
        "\n",
        "        # statistics\n",
        "        running_loss += loss.item() * inputs.size(0)\n",
        "        running_corrects += torch.sum(preds == labels.data)\n",
        "        # running_acc += acc\n",
        "\n",
        "        # if phase == 'train':\n",
        "        #   scheduler.step()\n",
        "\n",
        "      epoch_loss = running_loss / dataset_sizes[phase]\n",
        "      epoch_acc = running_corrects.double() / dataset_sizes[phase]\n",
        "\n",
        "      print(f'{phase} Loss: {epoch_loss:.4f} Acc: {epoch_acc:.4f}')\n",
        "\n",
        "      # deep copy the model\n",
        "      if phase == 'valid' and epoch_acc > best_acc:\n",
        "        best_acc = epoch_acc\n",
        "        best_model_wts = copy.deepcopy(model.state_dict())\n",
        "\n",
        "    print()\n",
        "\n",
        "  time_elapsed = time.time() - since\n",
        "  print(f'Training complete in {time_elapsed // 60:.0f}m {time_elapsed % 60:.0f}s')\n",
        "  print(f'Best val Acc: {best_acc:4f}')\n",
        "\n",
        "  # load best model weights\n",
        "  model.load_state_dict(best_model_wts)\n",
        "  return model"
      ]
    },
    {
      "cell_type": "markdown",
      "metadata": {
        "id": "wTGavrOZ0DPn"
      },
      "source": [
        "### **Evaluation**"
      ]
    },
    {
      "cell_type": "code",
      "source": [
        "def accuracy(predictions, targets):\n",
        "    predictions = predictions.argmax(dim=1).view(targets.shape)\n",
        "    return (predictions == targets).sum().float() / targets.size(0)"
      ],
      "metadata": {
        "id": "Zpe0LJYCnoQy"
      },
      "execution_count": 88,
      "outputs": []
    },
    {
      "cell_type": "code",
      "execution_count": 65,
      "metadata": {
        "id": "VBOzU-Uyn_15"
      },
      "outputs": [],
      "source": [
        "def evaluate_model(model, criterion, dataloader, dataloader_size, dataset_size):\n",
        "  since = time.time()\n",
        "\n",
        "  # print('-' * 20)\n",
        "\n",
        "  # Each epoch has a training and validation phase\n",
        "  model.eval()   # Set model to evaluate mode\n",
        "\n",
        "  running_loss = 0.0\n",
        "  running_corrects = 0\n",
        "  # running_acc = 0.0\n",
        "\n",
        "  # Iterate over data.\n",
        "  for inputs, labels in dataloader:\n",
        "    inputs = inputs.to(device)\n",
        "    labels = labels.type(torch.LongTensor).to(device)\n",
        "\n",
        "    # forward\n",
        "    # track history if only in train\n",
        "    with torch.set_grad_enabled(False):\n",
        "      outputs = model(inputs)\n",
        "      _, preds = torch.max(outputs, 1)\n",
        "      loss = criterion(outputs, labels)\n",
        "\n",
        "    # statistics\n",
        "    running_loss += loss.item() * inputs.size(0)\n",
        "    running_corrects += torch.sum(preds == labels.data)\n",
        "\n",
        "  eval_loss = running_loss / dataset_size\n",
        "  eval_acc = running_corrects.double() / dataset_size\n",
        "\n",
        "  return eval_loss, eval_acc\n",
        "\n",
        "  # print(f'test Loss: {eval_loss:.4f} Acc: {eval_acc:.4f}')"
      ]
    },
    {
      "cell_type": "markdown",
      "metadata": {
        "id": "rZvqR2S8GA0X"
      },
      "source": [
        "# **Models**"
      ]
    },
    {
      "cell_type": "markdown",
      "metadata": {
        "id": "-zxNScAR7LEe"
      },
      "source": [
        "### **N-Shot Task Sampler**"
      ]
    },
    {
      "cell_type": "code",
      "execution_count": 66,
      "metadata": {
        "id": "lk4r4aIV4eaz"
      },
      "outputs": [],
      "source": [
        "class NShotTaskSampler(Sampler):\n",
        "    def __init__(self,\n",
        "                 dataset: torch.utils.data.Dataset,\n",
        "                 episodes_per_epoch: int = None,\n",
        "                 n: int = None,\n",
        "                 k: int = None,\n",
        "                 q: int = None,\n",
        "                 num_tasks: int = 1):\n",
        "        \"\"\"PyTorch Sampler subclass that generates batches of n-shot, k-way,\n",
        "        q-query tasks.\n",
        "\n",
        "        Each n-shot task contains a \"support set\" of `k` sets of `n` samples and\n",
        "        a \"query set\" of `k` sets of `q` samples. The support set and the query set\n",
        "        are all grouped into one Tensor such that the first n * k samples are from\n",
        "        the support set while the remaining q * k samples are from the query set.\n",
        "\n",
        "        The support and query sets are sampled such that they are disjoint\n",
        "        i.e. do not contain overlapping samples.\n",
        "\n",
        "        # Arguments\n",
        "            dataset: Instance of torch.utils.data.Dataset from which to draw samples\n",
        "            episodes_per_epoch: Arbitrary number of batches of n-shot tasks to\n",
        "                                generate in one epoch\n",
        "            n_shot: int. Number of samples for each class in the n-shot\n",
        "                            classification tasks.\n",
        "            k_way: int. Number of classes in the n-shot classification tasks.\n",
        "            q_queries: int. Number query samples for each class in the n-shot\n",
        "                            classification tasks.\n",
        "            num_tasks: Number of n-shot tasks to group into a single batch\n",
        "        \"\"\"\n",
        "        super(NShotTaskSampler, self).__init__(dataset)\n",
        "        self.episodes_per_epoch = episodes_per_epoch\n",
        "        self.dataset = dataset\n",
        "        if num_tasks < 1:\n",
        "            raise ValueError('num_tasks must be > 1.')\n",
        "\n",
        "        self.num_tasks = num_tasks\n",
        "        # TODO: Raise errors if initialise badly\n",
        "        self.k = k\n",
        "        self.n = n\n",
        "        self.q = q\n",
        "\n",
        "    def __len__(self):\n",
        "        return self.episodes_per_epoch\n",
        "\n",
        "    def __iter__(self):\n",
        "        for _ in range(self.episodes_per_epoch):\n",
        "            batch = []\n",
        "\n",
        "            for task in range(self.num_tasks):\n",
        "                # Get random classes\n",
        "                episode_classes = np.unique(self.dataset.img_labels, return_counts=False)\n",
        "\n",
        "\n",
        "                for k in episode_classes:\n",
        "                    # Randomly choose support indicies\n",
        "                    support_ids = np.random.choice(np.where(self.dataset.img_labels == k)[0], size=self.n)\n",
        "                    for x in support_ids:\n",
        "                        batch.append(x)\n",
        "\n",
        "                for k in episode_classes:\n",
        "                  # Randomly choose query indicies (except selected indicies in support)\n",
        "                    query=np.setdiff1d(np.where(self.dataset.img_labels == k)[0], support_ids)\n",
        "                    query = query[np.random.choice(query.shape[0], self.q, replace=False)]\n",
        "                    for x in query:\n",
        "                        batch.append(x)\n",
        "\n",
        "            yield np.stack(batch)\n"
      ]
    },
    {
      "cell_type": "markdown",
      "metadata": {
        "id": "DhC0fjB2mK3S"
      },
      "source": [
        "### **Meta Adaption Functions**"
      ]
    },
    {
      "cell_type": "markdown",
      "source": [
        "#### **Fast Adapt**"
      ],
      "metadata": {
        "id": "u9GFPKEXncNM"
      }
    },
    {
      "cell_type": "code",
      "source": [
        "def fast_adapt(batch, learner, loss, adaptation_steps, shots, ways, device):\n",
        "    data, labels = batch\n",
        "    data, labels = data.to(device), labels.type(torch.LongTensor).to(device)\n",
        "\n",
        "    # Separate data into adaptation/evalutation sets\n",
        "    adaptation_indices = np.arange(shots*ways) * 2 # even indicies\n",
        "    evaluation_indices = np.arange(shots*ways) * 2 + 1 # odd indicies\n",
        "\n",
        "    # adaptation_data, adaptation_labels = data[adaptation_indices], labels[adaptation_indices]\n",
        "    adaptation_data = torch.stack([randomAug(data[i]) for i in adaptation_indices])\n",
        "    adaptation_labels = labels[adaptation_indices]\n",
        "    evaluation_data, evaluation_labels = data[evaluation_indices], labels[evaluation_indices]\n",
        "\n",
        "    # Adapt the model\n",
        "    for step in range(adaptation_steps):\n",
        "        adaptation_error = loss(learner(adaptation_data), adaptation_labels)\n",
        "        learner.adapt(adaptation_error)\n",
        "\n",
        "    # Evaluate the adapted model\n",
        "    predictions = learner(evaluation_data)\n",
        "    evaluation_error = loss(predictions, evaluation_labels)\n",
        "    evaluation_accuracy = accuracy(predictions, evaluation_labels)\n",
        "    return evaluation_error, evaluation_accuracy"
      ],
      "metadata": {
        "id": "Vkp5lm7Kn1ge"
      },
      "execution_count": 121,
      "outputs": []
    },
    {
      "cell_type": "markdown",
      "source": [
        "#### **Meta Train**"
      ],
      "metadata": {
        "id": "bzKZVxIOnhOh"
      }
    },
    {
      "cell_type": "code",
      "execution_count": 105,
      "metadata": {
        "id": "MjO3QDEOkrbN"
      },
      "outputs": [],
      "source": [
        "def meta_train(ways=2,\n",
        "          shots=10,\n",
        "          meta_lr=0.001,#0.003\n",
        "          fast_lr=0.003,#0.5\n",
        "          meta_batch_size=32,#32\n",
        "          adaptation_steps=2,\n",
        "          num_iterations=100,#60000\n",
        "          cuda=True,\n",
        "          seed=42):\n",
        "\n",
        "    best_valid_error = float('inf')\n",
        "    best_valid_acc = 0\n",
        "\n",
        "    for iteration in range(num_iterations):\n",
        "        opt.zero_grad()\n",
        "        meta_train_error = 0.0\n",
        "        meta_train_accuracy = 0.0\n",
        "        meta_valid_error = 0.0\n",
        "        meta_valid_accuracy = 0.0\n",
        "        learner = None\n",
        "        for train_batch, val_batch in zip(train_taskloader, dev_taskloader): # epoch_len     #range(meta_batch_size):\n",
        "            # Compute meta-training loss\n",
        "            learner = maml.clone()\n",
        "            evaluation_error, evaluation_accuracy = fast_adapt(train_batch, learner, loss, adaptation_steps, shots, ways, device)\n",
        "\n",
        "            evaluation_error.backward()\n",
        "            meta_train_error += evaluation_error.item()\n",
        "            meta_train_accuracy += evaluation_accuracy.item()\n",
        "\n",
        "            # Compute meta-validation loss\n",
        "            learner = maml.clone()\n",
        "\n",
        "            evaluation_error, evaluation_accuracy = fast_adapt(val_batch, learner, loss, adaptation_steps, shots, ways, device)\n",
        "\n",
        "            meta_valid_error += evaluation_error.item()\n",
        "            meta_valid_accuracy += evaluation_accuracy.item()\n",
        "\n",
        "        # Compute validation loss and accuracy\n",
        "        valid_error, valid_acc = evaluate_model(learner, loss, dataloaders_rgb['valid'], dataloader_rgb_sizes['valid'], dataset_sizes['valid'])\n",
        "\n",
        "        if valid_acc > best_valid_acc:\n",
        "          best_valid_acc = valid_acc\n",
        "          best_valid_error = valid_error\n",
        "          print(f'\\n** best val acc: {best_valid_acc:.4f} **')\n",
        "          torch.save(learner, MAML_path)\n",
        "\n",
        "        # Print some metrics\n",
        "        print('\\n')\n",
        "        print('Iteration', iteration + 1)\n",
        "        print('Meta Train Error', meta_train_error / meta_batch_size)\n",
        "        print('Meta Train Accuracy', meta_train_accuracy / meta_batch_size)\n",
        "        print('Meta Valid Error', meta_valid_error / meta_batch_size)\n",
        "        print('Meta Valid Accuracy', meta_valid_accuracy / meta_batch_size)\n",
        "        print(f'Valid Error: {valid_error:.4f}')\n",
        "        print(f'Valid Accuracy: {valid_acc:.4f}')\n",
        "\n",
        "        # Average the accumulated gradients and optimize\n",
        "        for p in maml.parameters():\n",
        "          if p.requires_grad:\n",
        "            p.grad.data.mul_(1.0 / meta_batch_size)\n",
        "\n",
        "        opt.step()"
      ]
    },
    {
      "cell_type": "markdown",
      "metadata": {
        "id": "4kjP5H3v8m32"
      },
      "source": [
        "### **MAML**"
      ]
    },
    {
      "cell_type": "markdown",
      "metadata": {
        "id": "z4BqH_jYRP-F"
      },
      "source": [
        "#### **Task Sampler**"
      ]
    },
    {
      "cell_type": "code",
      "execution_count": 99,
      "metadata": {
        "id": "y24m_isA5kjq"
      },
      "outputs": [],
      "source": [
        "ways=2\n",
        "shots=10\n",
        "meta_batch_size=32\n",
        "epoch_len = meta_batch_size\n",
        "\n",
        "train_taskloader = DataLoader(MHSMADataRGB['train'], batch_sampler=NShotTaskSampler(MHSMADataRGB['train'], epoch_len, n=2*shots, k=ways, q=0, num_tasks=1), num_workers=2)\n",
        "\n",
        "dev_taskloader = DataLoader(MHSMADataRGB['valid'], batch_sampler=NShotTaskSampler(MHSMADataRGB['valid'], epoch_len, n=0, k=ways, q=2*shots, num_tasks=1), num_workers=2)\n",
        "\n",
        "test_taskloader = DataLoader(MHSMADataRGB['test'], batch_sampler=NShotTaskSampler(MHSMADataRGB['test'], epoch_len, n=0, k=ways, q=2*shots, num_tasks=1), num_workers=2)\n"
      ]
    },
    {
      "cell_type": "markdown",
      "metadata": {
        "id": "s1yAdFKxRVBE"
      },
      "source": [
        "#### **Base Model**"
      ]
    },
    {
      "cell_type": "markdown",
      "metadata": {
        "id": "XJzmSnGD7L8j"
      },
      "source": [
        "##### **VGG11**"
      ]
    },
    {
      "cell_type": "markdown",
      "metadata": {
        "id": "JsJNGckwNpmW"
      },
      "source": [
        "###### **Configuration**"
      ]
    },
    {
      "cell_type": "code",
      "source": [
        "#64 shot = 10, adaption = 10"
      ],
      "metadata": {
        "id": "v8ubtJRneU4b"
      },
      "execution_count": null,
      "outputs": []
    },
    {
      "cell_type": "code",
      "execution_count": null,
      "metadata": {
        "colab": {
          "base_uri": "https://localhost:8080/"
        },
        "id": "vCnoVyE28gfG",
        "outputId": "495ab1ec-bbfa-447b-cf18-67607ef0f2b0"
      },
      "outputs": [
        {
          "name": "stderr",
          "output_type": "stream",
          "text": [
            "/usr/local/lib/python3.10/dist-packages/torchvision/models/_utils.py:208: UserWarning: The parameter 'pretrained' is deprecated since 0.13 and may be removed in the future, please use 'weights' instead.\n",
            "  warnings.warn(\n",
            "/usr/local/lib/python3.10/dist-packages/torchvision/models/_utils.py:223: UserWarning: Arguments other than a weight enum or `None` for 'weights' are deprecated since 0.13 and may be removed in the future. The current behavior is equivalent to passing `weights=VGG11_BN_Weights.IMAGENET1K_V1`. You can also use `weights=VGG11_BN_Weights.DEFAULT` to get the most up-to-date weights.\n",
            "  warnings.warn(msg)\n",
            "Downloading: \"https://download.pytorch.org/models/vgg11_bn-6002323d.pth\" to /root/.cache/torch/hub/checkpoints/vgg11_bn-6002323d.pth\n",
            "100%|██████████| 507M/507M [00:09<00:00, 53.4MB/s]\n"
          ]
        },
        {
          "data": {
            "text/plain": [
              "Sequential(\n",
              "  (0): Linear(in_features=25088, out_features=2048, bias=True)\n",
              "  (1): ReLU()\n",
              "  (2): Dropout(p=0.9, inplace=False)\n",
              "  (3): Linear(in_features=2048, out_features=1024, bias=True)\n",
              "  (4): Sigmoid()\n",
              "  (5): Dropout(p=0.9, inplace=False)\n",
              "  (6): Linear(in_features=1024, out_features=2, bias=True)\n",
              ")"
            ]
          },
          "execution_count": 60,
          "metadata": {},
          "output_type": "execute_result"
        }
      ],
      "source": [
        "vgg11 = torchvision.models.vgg11_bn(pretrained=True)\n",
        "num_ftrs = vgg11.classifier[0].in_features\n",
        "vgg11.classifier = nn.Sequential(\n",
        "    nn.Linear(num_ftrs, 2048),\n",
        "    nn.ReLU(),\n",
        "    nn.Dropout(0.9),\n",
        "    nn.Linear(2048, 1024),\n",
        "    nn.Sigmoid(),\n",
        "    nn.Dropout(0.9),\n",
        "    nn.Linear(1024, 2)\n",
        ")\n",
        "MAML_path = \"/content/drive/MyDrive/AI Projects/Meta-learning vision project/MAML_head_vgg11_2.pt\"\n",
        "vgg11.classifier"
      ]
    },
    {
      "cell_type": "markdown",
      "metadata": {
        "id": "q4VxmULuRn3B"
      },
      "source": [
        "###### **Train**"
      ]
    },
    {
      "cell_type": "code",
      "execution_count": null,
      "metadata": {
        "id": "C8evXJiV64Pz"
      },
      "outputs": [],
      "source": [
        "meta_lr=1e-3\n",
        "fast_lr=1e-3\n",
        "adaptation_steps=10\n",
        "num_iterations=50\n",
        "seed=42\n",
        "\n",
        "# Create model\n",
        "model = vgg11\n",
        "model.to(device)\n",
        "maml = l2l.algorithms.MAML(model, lr=fast_lr, first_order=False, allow_nograd=True)\n",
        "opt = torch.optim.Adam(filter(lambda p: p.requires_grad, maml.parameters()), meta_lr)\n",
        "loss = nn.CrossEntropyLoss()"
      ]
    },
    {
      "cell_type": "code",
      "execution_count": null,
      "metadata": {
        "colab": {
          "base_uri": "https://localhost:8080/"
        },
        "id": "PEvG-ukt5l0u",
        "outputId": "8f48703e-ec58-4eb7-dadf-cf2911fcd9d2"
      },
      "outputs": [
        {
          "name": "stdout",
          "output_type": "stream",
          "text": [
            "\n",
            "\n",
            "Iteration 1\n",
            "Meta Train Error 0.813240384683013\n",
            "Meta Train Accuracy 0.5328125087544322\n",
            "Meta Valid Error 0.8616312202066183\n",
            "Meta Valid Accuracy 0.5031250081956387\n",
            "\n",
            "\n",
            "Iteration 2\n",
            "Meta Train Error 0.9225683398544788\n",
            "Meta Train Accuracy 0.5000000121071935\n",
            "Meta Valid Error 0.9172832202166319\n",
            "Meta Valid Accuracy 0.4937500115483999\n",
            "\n",
            "\n",
            "Iteration 3\n",
            "Meta Train Error 0.8668925389647484\n",
            "Meta Train Accuracy 0.528125012293458\n",
            "Meta Valid Error 0.8840543460100889\n",
            "Meta Valid Accuracy 0.5421875128522515\n",
            "\n",
            "\n",
            "Iteration 4\n",
            "Meta Train Error 0.7893159557133913\n",
            "Meta Train Accuracy 0.5406250152736902\n",
            "Meta Valid Error 0.8251598887145519\n",
            "Meta Valid Accuracy 0.5453125070780516\n",
            "\n",
            "\n",
            "Iteration 5\n",
            "Meta Train Error 0.751199415884912\n",
            "Meta Train Accuracy 0.5703125093132257\n",
            "Meta Valid Error 0.7692701797932386\n",
            "Meta Valid Accuracy 0.5765625098720193\n",
            "\n",
            "\n",
            "Iteration 6\n",
            "Meta Train Error 0.7073700977489352\n",
            "Meta Train Accuracy 0.6265625134110451\n",
            "Meta Valid Error 0.8464559074491262\n",
            "Meta Valid Accuracy 0.5437500141561031\n",
            "\n",
            "\n",
            "Iteration 7\n",
            "Meta Train Error 0.6489816764369607\n",
            "Meta Train Accuracy 0.6671875109896064\n",
            "Meta Valid Error 0.7556084953248501\n",
            "Meta Valid Accuracy 0.6187500134110451\n",
            "\n",
            "\n",
            "Iteration 8\n",
            "Meta Train Error 0.6598426988348365\n",
            "Meta Train Accuracy 0.675000011920929\n",
            "Meta Valid Error 0.7714388454332948\n",
            "Meta Valid Accuracy 0.6015625111758709\n",
            "\n",
            "\n",
            "Iteration 9\n",
            "Meta Train Error 0.5980341555550694\n",
            "Meta Train Accuracy 0.7062500072643161\n",
            "Meta Valid Error 0.7998667620122433\n",
            "Meta Valid Accuracy 0.6156250080093741\n",
            "\n",
            "\n",
            "Iteration 10\n",
            "Meta Train Error 0.5787595976144075\n",
            "Meta Train Accuracy 0.7375000100582838\n",
            "Meta Valid Error 0.7996484916657209\n",
            "Meta Valid Accuracy 0.6375000141561031\n",
            "\n",
            "\n",
            "Iteration 11\n",
            "Meta Train Error 0.5695050526410341\n",
            "Meta Train Accuracy 0.753125011920929\n",
            "Meta Valid Error 0.7708873506635427\n",
            "Meta Valid Accuracy 0.6640625139698386\n",
            "\n",
            "\n",
            "Iteration 12\n",
            "Meta Train Error 0.46752493968233466\n",
            "Meta Train Accuracy 0.823437511920929\n",
            "Meta Valid Error 0.7958078272640705\n",
            "Meta Valid Accuracy 0.6468750182539225\n",
            "\n",
            "\n",
            "Iteration 13\n",
            "Meta Train Error 0.46277004946023226\n",
            "Meta Train Accuracy 0.812500013038516\n",
            "Meta Valid Error 0.759435529820621\n",
            "Meta Valid Accuracy 0.671875013038516\n",
            "\n",
            "\n",
            "Iteration 14\n",
            "Meta Train Error 0.5348011627793312\n",
            "Meta Train Accuracy 0.7828125171363354\n",
            "Meta Valid Error 0.7201218837872148\n",
            "Meta Valid Accuracy 0.6890625106170774\n",
            "\n",
            "\n",
            "Iteration 15\n",
            "Meta Train Error 0.5087601193226874\n",
            "Meta Train Accuracy 0.7953125145286322\n",
            "Meta Valid Error 0.7680556094273925\n",
            "Meta Valid Accuracy 0.7000000141561031\n",
            "\n",
            "\n",
            "Iteration 16\n",
            "Meta Train Error 0.3416028758510947\n",
            "Meta Train Accuracy 0.8453125134110451\n",
            "Meta Valid Error 0.7000147299841046\n",
            "Meta Valid Accuracy 0.7296875100582838\n",
            "\n",
            "\n",
            "Iteration 17\n",
            "Meta Train Error 0.38228527014143765\n",
            "Meta Train Accuracy 0.848437512293458\n",
            "Meta Valid Error 0.8622914412990212\n",
            "Meta Valid Accuracy 0.6546875163912773\n",
            "\n",
            "\n",
            "Iteration 18\n",
            "Meta Train Error 0.3578467534389347\n",
            "Meta Train Accuracy 0.8515625149011612\n",
            "Meta Valid Error 0.7166855577379465\n",
            "Meta Valid Accuracy 0.7281250134110451\n",
            "\n",
            "\n",
            "Iteration 19\n",
            "Meta Train Error 0.36171631421893835\n",
            "Meta Train Accuracy 0.8437500167638063\n",
            "Meta Valid Error 0.7674543131142855\n",
            "Meta Valid Accuracy 0.6875000111758709\n",
            "\n",
            "\n",
            "Iteration 20\n",
            "Meta Train Error 0.29609260032884777\n",
            "Meta Train Accuracy 0.8968750108033419\n",
            "Meta Valid Error 0.8347944254055619\n",
            "Meta Valid Accuracy 0.6609375150874257\n",
            "\n",
            "\n",
            "Iteration 21\n",
            "Meta Train Error 0.3324043464381248\n",
            "Meta Train Accuracy 0.8750000167638063\n",
            "Meta Valid Error 0.9068232476711273\n",
            "Meta Valid Accuracy 0.6562500158324838\n",
            "\n",
            "\n",
            "Iteration 22\n",
            "Meta Train Error 0.30015216185711324\n",
            "Meta Train Accuracy 0.895312512293458\n",
            "Meta Valid Error 0.8011490842327476\n",
            "Meta Valid Accuracy 0.676562512293458\n",
            "\n",
            "\n",
            "Iteration 23\n",
            "Meta Train Error 0.2911376991542056\n",
            "Meta Train Accuracy 0.9000000115483999\n",
            "Meta Valid Error 0.7950866390019655\n",
            "Meta Valid Accuracy 0.6906250147148967\n",
            "\n",
            "\n",
            "Iteration 24\n",
            "Meta Train Error 0.26741717546246946\n",
            "Meta Train Accuracy 0.9125000089406967\n",
            "Meta Valid Error 0.7299976106733084\n",
            "Meta Valid Accuracy 0.7156250104308128\n",
            "\n",
            "\n",
            "Iteration 25\n",
            "Meta Train Error 0.25212319439742714\n",
            "Meta Train Accuracy 0.898437513038516\n",
            "Meta Valid Error 0.7257621972821653\n",
            "Meta Valid Accuracy 0.7390625104308128\n",
            "\n",
            "\n",
            "Iteration 26\n",
            "Meta Train Error 0.22827273944858462\n",
            "Meta Train Accuracy 0.929687513038516\n",
            "Meta Valid Error 0.9928102069534361\n",
            "Meta Valid Accuracy 0.6390625135973096\n",
            "\n",
            "\n",
            "Iteration 27\n",
            "Meta Train Error 0.1774940328905359\n",
            "Meta Train Accuracy 0.9421875048428774\n",
            "Meta Valid Error 0.7483026180416346\n",
            "Meta Valid Accuracy 0.7343750111758709\n",
            "\n",
            "\n",
            "Iteration 28\n",
            "Meta Train Error 0.16968697390984744\n",
            "Meta Train Accuracy 0.9421875011175871\n",
            "Meta Valid Error 0.7530532705131918\n",
            "Meta Valid Accuracy 0.7203125106170774\n",
            "\n",
            "\n",
            "Iteration 29\n",
            "Meta Train Error 0.12725609628250822\n",
            "Meta Train Accuracy 0.9562500044703484\n",
            "Meta Valid Error 0.8166364035569131\n",
            "Meta Valid Accuracy 0.709375012665987\n",
            "\n",
            "\n",
            "Iteration 30\n",
            "Meta Train Error 0.1598986226017587\n",
            "Meta Train Accuracy 0.9468750040978193\n",
            "Meta Valid Error 0.8976136865094304\n",
            "Meta Valid Accuracy 0.7234375113621354\n",
            "\n",
            "\n",
            "Iteration 31\n",
            "Meta Train Error 0.11066799453692511\n",
            "Meta Train Accuracy 0.9687499962747097\n",
            "Meta Valid Error 0.780077310744673\n",
            "Meta Valid Accuracy 0.7484375163912773\n",
            "\n",
            "\n",
            "Iteration 32\n",
            "Meta Train Error 0.10197177471127361\n",
            "Meta Train Accuracy 0.9734375029802322\n",
            "Meta Valid Error 0.8904653564095497\n",
            "Meta Valid Accuracy 0.7343750037252903\n",
            "\n",
            "\n",
            "Iteration 33\n",
            "Meta Train Error 0.1447843576897867\n",
            "Meta Train Accuracy 0.9515625070780516\n",
            "Meta Valid Error 1.038343533873558\n",
            "Meta Valid Accuracy 0.6906250081956387\n",
            "\n",
            "\n",
            "Iteration 34\n",
            "Meta Train Error 0.10689074467518367\n",
            "Meta Train Accuracy 0.9703124985098839\n",
            "Meta Valid Error 1.0773700485005975\n",
            "Meta Valid Accuracy 0.7109375139698386\n",
            "\n",
            "\n",
            "Iteration 35\n",
            "Meta Train Error 0.13446783646941185\n",
            "Meta Train Accuracy 0.9531250037252903\n",
            "Meta Valid Error 0.9600491146557033\n",
            "Meta Valid Accuracy 0.7296875016763806\n",
            "\n",
            "\n",
            "Iteration 36\n",
            "Meta Train Error 0.1469628757040482\n",
            "Meta Train Accuracy 0.9546875022351742\n",
            "Meta Valid Error 1.112419874407351\n",
            "Meta Valid Accuracy 0.701562512665987\n",
            "\n",
            "\n",
            "Iteration 37\n",
            "Meta Train Error 0.17300680343760177\n",
            "Meta Train Accuracy 0.9437500052154064\n",
            "Meta Valid Error 1.1556439250707626\n",
            "Meta Valid Accuracy 0.6859375117346644\n",
            "\n",
            "\n",
            "Iteration 38\n",
            "Meta Train Error 0.14112129504792392\n",
            "Meta Train Accuracy 0.9578125067055225\n",
            "Meta Valid Error 1.0943369548767805\n",
            "Meta Valid Accuracy 0.6953125055879354\n",
            "\n",
            "\n",
            "Iteration 39\n",
            "Meta Train Error 0.18350887205451727\n",
            "Meta Train Accuracy 0.9359375070780516\n",
            "Meta Valid Error 1.1693078484386206\n",
            "Meta Valid Accuracy 0.6921875067055225\n",
            "\n",
            "\n",
            "Iteration 40\n",
            "Meta Train Error 0.12225099292118102\n",
            "Meta Train Accuracy 0.9593750033527613\n",
            "Meta Valid Error 1.007012608461082\n",
            "Meta Valid Accuracy 0.7328125117346644\n",
            "\n",
            "\n",
            "Iteration 41\n",
            "Meta Train Error 0.16499703022418544\n",
            "Meta Train Accuracy 0.951562499627471\n",
            "Meta Valid Error 1.1184158395044506\n",
            "Meta Valid Accuracy 0.7015625145286322\n",
            "\n",
            "\n",
            "Iteration 42\n",
            "Meta Train Error 0.08816691813990474\n",
            "Meta Train Accuracy 0.9703125022351742\n",
            "Meta Valid Error 0.9785206168889999\n",
            "Meta Valid Accuracy 0.7296875100582838\n",
            "\n",
            "\n",
            "Iteration 43\n",
            "Meta Train Error 0.08117998242960311\n",
            "Meta Train Accuracy 0.9718750026077032\n",
            "Meta Valid Error 0.9902888322249055\n",
            "Meta Valid Accuracy 0.7312500141561031\n",
            "\n",
            "\n",
            "Iteration 44\n",
            "Meta Train Error 0.10549308807821944\n",
            "Meta Train Accuracy 0.9718750007450581\n",
            "Meta Valid Error 1.1649694815278053\n",
            "Meta Valid Accuracy 0.6687500113621354\n",
            "\n",
            "\n",
            "Iteration 45\n",
            "Meta Train Error 0.07994474400766194\n",
            "Meta Train Accuracy 0.9796874988824129\n",
            "Meta Valid Error 1.0808025430887938\n",
            "Meta Valid Accuracy 0.7000000150874257\n",
            "\n",
            "\n",
            "Iteration 46\n",
            "Meta Train Error 0.10884436350897886\n",
            "Meta Train Accuracy 0.9640625026077032\n",
            "Meta Valid Error 1.053099106065929\n",
            "Meta Valid Accuracy 0.7078125150874257\n",
            "\n",
            "\n",
            "Iteration 47\n",
            "Meta Train Error 0.0908759902958991\n",
            "Meta Train Accuracy 0.9750000033527613\n",
            "Meta Valid Error 1.0644170376472175\n",
            "Meta Valid Accuracy 0.6984375081956387\n",
            "\n",
            "\n",
            "Iteration 48\n",
            "Meta Train Error 0.07246139759081416\n",
            "Meta Train Accuracy 0.9781250022351742\n",
            "Meta Valid Error 1.057772628031671\n",
            "Meta Valid Accuracy 0.7125000078231096\n",
            "\n",
            "\n",
            "Iteration 49\n",
            "Meta Train Error 0.08296817399968859\n",
            "Meta Train Accuracy 0.978125000372529\n",
            "Meta Valid Error 1.0854968391358852\n",
            "Meta Valid Accuracy 0.7093750145286322\n",
            "\n",
            "\n",
            "Iteration 50\n",
            "Meta Train Error 0.11402817632188089\n",
            "Meta Train Accuracy 0.9687499981373549\n",
            "Meta Valid Error 1.0592304947786033\n",
            "Meta Valid Accuracy 0.717187506146729\n",
            "Meta Test Error 1.1384105635806918\n",
            "Meta Test Accuracy 0.6859375089406967\n"
          ]
        }
      ],
      "source": [
        "meta_train(ways, shots, meta_lr, fast_lr, meta_batch_size, adaptation_steps, num_iterations)"
      ]
    },
    {
      "cell_type": "markdown",
      "metadata": {
        "id": "vOpKGvsnmC6W"
      },
      "source": [
        "###### **Evaluate**"
      ]
    },
    {
      "cell_type": "code",
      "execution_count": null,
      "metadata": {
        "id": "QB4ACx5mmC6X"
      },
      "outputs": [],
      "source": [
        "model = torch.load(MAML_path)"
      ]
    },
    {
      "cell_type": "code",
      "execution_count": null,
      "metadata": {
        "colab": {
          "base_uri": "https://localhost:8080/"
        },
        "id": "9GMu3snbmC6Y",
        "outputId": "9abfd39e-b036-497c-f259-8cb8e770be89"
      },
      "outputs": [
        {
          "name": "stdout",
          "output_type": "stream",
          "text": [
            "--------------------\n",
            "test Loss: 0.9532 Acc: 0.7625\n"
          ]
        }
      ],
      "source": [
        "evaluate_model(model, loss, dataloaders_rgb['valid'], dataloader_rgb_sizes['valid'], dataset_sizes['valid'])"
      ]
    },
    {
      "cell_type": "code",
      "execution_count": null,
      "metadata": {
        "colab": {
          "base_uri": "https://localhost:8080/"
        },
        "id": "bmS0fEvlmC6Y",
        "outputId": "6f4ea3ca-f0b2-46ca-841b-488850c15d94"
      },
      "outputs": [
        {
          "name": "stdout",
          "output_type": "stream",
          "text": [
            "--------------------\n",
            "test Loss: 0.9329 Acc: 0.7800\n"
          ]
        }
      ],
      "source": [
        "evaluate_model(model, loss, dataloaders_rgb['test'], dataloader_rgb_sizes['test'], dataset_sizes['test'])"
      ]
    },
    {
      "cell_type": "code",
      "execution_count": null,
      "metadata": {
        "id": "3NPDtQ1bmC6Z"
      },
      "outputs": [],
      "source": [
        "torch.save(model, '/content/drive/MyDrive/AI Projects/MAML models/MAML_head_vgg11.pt')"
      ]
    },
    {
      "cell_type": "markdown",
      "metadata": {
        "id": "qBCvj0bq7SDK"
      },
      "source": [
        "##### **VGG19**"
      ]
    },
    {
      "cell_type": "markdown",
      "metadata": {
        "id": "pAiluePmODR9"
      },
      "source": [
        "###### **Configuration**"
      ]
    },
    {
      "cell_type": "code",
      "execution_count": null,
      "metadata": {
        "colab": {
          "base_uri": "https://localhost:8080/"
        },
        "id": "tQ9wqCzV7WSa",
        "outputId": "62148a6b-0f6e-4376-c9bc-575d601c6d5c"
      },
      "outputs": [
        {
          "name": "stderr",
          "output_type": "stream",
          "text": [
            "/usr/local/lib/python3.10/dist-packages/torchvision/models/_utils.py:208: UserWarning: The parameter 'pretrained' is deprecated since 0.13 and may be removed in the future, please use 'weights' instead.\n",
            "  warnings.warn(\n",
            "/usr/local/lib/python3.10/dist-packages/torchvision/models/_utils.py:223: UserWarning: Arguments other than a weight enum or `None` for 'weights' are deprecated since 0.13 and may be removed in the future. The current behavior is equivalent to passing `weights=VGG19_BN_Weights.IMAGENET1K_V1`. You can also use `weights=VGG19_BN_Weights.DEFAULT` to get the most up-to-date weights.\n",
            "  warnings.warn(msg)\n"
          ]
        },
        {
          "data": {
            "text/plain": [
              "Sequential(\n",
              "  (0): Linear(in_features=25088, out_features=4096, bias=True)\n",
              "  (1): ReLU(inplace=True)\n",
              "  (2): Dropout(p=0.5, inplace=False)\n",
              "  (3): Linear(in_features=4096, out_features=4096, bias=True)\n",
              "  (4): ReLU(inplace=True)\n",
              "  (5): Dropout(p=0.5, inplace=False)\n",
              "  (6): Linear(in_features=4096, out_features=2, bias=True)\n",
              ")"
            ]
          },
          "execution_count": 204,
          "metadata": {},
          "output_type": "execute_result"
        }
      ],
      "source": [
        "vgg19 = torchvision.models.vgg19_bn(pretrained=True)\n",
        "num_ftrs = vgg19.classifier[-1].in_features\n",
        "vgg19.classifier[-1] = nn.Linear(num_ftrs, 2)\n",
        "# vgg19.classifier = nn.Sequential(\n",
        "#     nn.Linear(num_ftrs, 2048),\n",
        "#     nn.ReLU(),\n",
        "#     nn.Dropout(0.9),\n",
        "#     nn.Linear(2048, 1024),\n",
        "#     nn.Sigmoid(),\n",
        "#     nn.Dropout(0.9),\n",
        "#     nn.Linear(1024, 2)\n",
        "# )\n",
        "\n",
        "MAML_path = \"/content/drive/MyDrive/AI Projects/Meta-learning vision project/MAML_head_vgg19.pt\"\n",
        "vgg19.classifier"
      ]
    },
    {
      "cell_type": "code",
      "execution_count": null,
      "metadata": {
        "id": "gg1RpFOAO2QN"
      },
      "outputs": [],
      "source": [
        "for param_name, param in vgg19.features.named_parameters():\n",
        "  param.requires_grad = False\n",
        "  # print(param_name, param.requires_grad)"
      ]
    },
    {
      "cell_type": "code",
      "execution_count": null,
      "metadata": {
        "id": "RcYgQkgPYDvj"
      },
      "outputs": [],
      "source": [
        "for param_name, param in vgg19.avgpool.named_parameters():\n",
        "  param.requires_grad = False"
      ]
    },
    {
      "cell_type": "code",
      "execution_count": null,
      "metadata": {
        "id": "UYrBNx8wZ9ZU"
      },
      "outputs": [],
      "source": [
        "for param_name, param in vgg19.classifier.named_parameters():\n",
        "  param.requires_grad = True\n",
        "  # print(param_name, param.requires_grad)"
      ]
    },
    {
      "cell_type": "markdown",
      "metadata": {
        "id": "AK3fDOI7OADX"
      },
      "source": [
        "###### **Train**"
      ]
    },
    {
      "cell_type": "code",
      "execution_count": null,
      "metadata": {
        "id": "dAgiHhLEhvyw"
      },
      "outputs": [],
      "source": [
        "meta_lr=2e-3\n",
        "fast_lr=2e-3\n",
        "adaptation_steps=5\n",
        "num_iterations=50\n",
        "seed=42\n",
        "\n",
        "random.seed(seed)\n",
        "np.random.seed(seed)\n",
        "torch.manual_seed(seed)\n",
        "device = torch.device('cpu')\n",
        "\n",
        "if cuda:\n",
        "  torch.cuda.manual_seed(seed)\n",
        "  device = torch.device('cuda')"
      ]
    },
    {
      "cell_type": "code",
      "execution_count": null,
      "metadata": {
        "id": "ug28i6ipOADY"
      },
      "outputs": [],
      "source": [
        "# Create model\n",
        "vgg19.to(device)\n",
        "maml = l2l.algorithms.MAML(vgg19, lr=fast_lr, first_order=False, allow_nograd=True)\n",
        "# opt = torch.optim.Adam(maml.parameters(), meta_lr)\n",
        "opt = torch.optim.Adam(filter(lambda p: p.requires_grad, maml.parameters()), meta_lr)\n",
        "loss = nn.CrossEntropyLoss()"
      ]
    },
    {
      "cell_type": "code",
      "execution_count": null,
      "metadata": {
        "id": "AMRtE0CEOADZ"
      },
      "outputs": [],
      "source": [
        "meta_train(ways, shots, meta_lr, fast_lr, meta_batch_size, adaptation_steps, num_iterations)"
      ]
    },
    {
      "cell_type": "markdown",
      "metadata": {
        "id": "LhI8Q16llqRH"
      },
      "source": [
        "#### **Temp**"
      ]
    },
    {
      "cell_type": "code",
      "execution_count": 122,
      "metadata": {
        "id": "PDdSxN_9T51j",
        "colab": {
          "base_uri": "https://localhost:8080/"
        },
        "outputId": "53456798-0369-4aea-e6be-31b970eba32a"
      },
      "outputs": [
        {
          "output_type": "stream",
          "name": "stderr",
          "text": [
            "/usr/local/lib/python3.10/dist-packages/torchvision/models/_utils.py:208: UserWarning: The parameter 'pretrained' is deprecated since 0.13 and may be removed in the future, please use 'weights' instead.\n",
            "  warnings.warn(\n",
            "/usr/local/lib/python3.10/dist-packages/torchvision/models/_utils.py:223: UserWarning: Arguments other than a weight enum or `None` for 'weights' are deprecated since 0.13 and may be removed in the future. The current behavior is equivalent to passing `weights=VGG11_BN_Weights.IMAGENET1K_V1`. You can also use `weights=VGG11_BN_Weights.DEFAULT` to get the most up-to-date weights.\n",
            "  warnings.warn(msg)\n"
          ]
        },
        {
          "output_type": "execute_result",
          "data": {
            "text/plain": [
              "Sequential(\n",
              "  (0): Linear(in_features=25088, out_features=2048, bias=True)\n",
              "  (1): ReLU()\n",
              "  (2): Dropout(p=0.9, inplace=False)\n",
              "  (3): Linear(in_features=2048, out_features=1024, bias=True)\n",
              "  (4): Sigmoid()\n",
              "  (5): Dropout(p=0.9, inplace=False)\n",
              "  (6): Linear(in_features=1024, out_features=2, bias=True)\n",
              ")"
            ]
          },
          "metadata": {},
          "execution_count": 122
        }
      ],
      "source": [
        "vgg11 = torchvision.models.vgg11_bn(pretrained=True)\n",
        "num_ftrs = vgg11.classifier[0].in_features\n",
        "vgg11.classifier = nn.Sequential(\n",
        "    nn.Linear(num_ftrs, 2048),\n",
        "    nn.ReLU(),\n",
        "    nn.Dropout(0.9),\n",
        "    nn.Linear(2048, 1024),\n",
        "    nn.Sigmoid(),\n",
        "    nn.Dropout(0.9),\n",
        "    nn.Linear(1024, 2)\n",
        ")\n",
        "MAML_path = \"/content/drive/MyDrive/AI Projects/Meta-learning vision project/MAML_head_vgg11_3.pt\"\n",
        "vgg11.classifier"
      ]
    },
    {
      "cell_type": "code",
      "execution_count": 123,
      "metadata": {
        "id": "0bx-qIxGltTY"
      },
      "outputs": [],
      "source": [
        "meta_lr=1e-3\n",
        "fast_lr=1e-3\n",
        "adaptation_steps=5\n",
        "num_iterations=50\n",
        "\n",
        "\n",
        "# Create model\n",
        "vgg11.to(device)\n",
        "maml = l2l.algorithms.MAML(vgg11, lr=fast_lr, first_order=False, allow_nograd=True)\n",
        "opt = torch.optim.Adam(filter(lambda p: p.requires_grad, maml.parameters()), meta_lr)\n",
        "loss = nn.CrossEntropyLoss()"
      ]
    },
    {
      "cell_type": "code",
      "execution_count": null,
      "metadata": {
        "id": "m3pMHDOSlySv",
        "colab": {
          "base_uri": "https://localhost:8080/"
        },
        "outputId": "ba364690-bd1f-47de-9c4e-8009d887ef43"
      },
      "outputs": [
        {
          "output_type": "stream",
          "name": "stdout",
          "text": [
            "\n",
            "** best val acc: 0.7333 **\n",
            "\n",
            "\n",
            "Iteration 1\n",
            "Meta Train Error 0.8923158179968596\n",
            "Meta Train Accuracy 0.47968750912696123\n",
            "Meta Valid Error 0.8599483165889978\n",
            "Meta Valid Accuracy 0.5062500145286322\n",
            "Valid Error: 0.6138\n",
            "Valid Accuracy: 0.7333\n",
            "\n",
            "\n",
            "Iteration 2\n",
            "Meta Train Error 0.8440498225390911\n",
            "Meta Train Accuracy 0.5218750117346644\n",
            "Meta Valid Error 0.8920969925820827\n",
            "Meta Valid Accuracy 0.5078125093132257\n",
            "Valid Error: 0.7544\n",
            "Valid Accuracy: 0.3250\n",
            "\n",
            "\n",
            "Iteration 3\n",
            "Meta Train Error 0.9538863636553288\n",
            "Meta Train Accuracy 0.4546875096857548\n",
            "Meta Valid Error 0.9808514006435871\n",
            "Meta Valid Accuracy 0.4453125046566129\n",
            "Valid Error: 0.7693\n",
            "Valid Accuracy: 0.3292\n",
            "\n",
            "\n",
            "Iteration 4\n",
            "Meta Train Error 0.8400100413709879\n",
            "Meta Train Accuracy 0.5234375111758709\n",
            "Meta Valid Error 0.8358618672937155\n",
            "Meta Valid Accuracy 0.5171875078231096\n",
            "Valid Error: 0.7569\n",
            "Valid Accuracy: 0.3375\n",
            "\n",
            "\n",
            "Iteration 5\n",
            "Meta Train Error 0.8247400633990765\n",
            "Meta Train Accuracy 0.5156250121071935\n",
            "Meta Valid Error 0.8603099137544632\n",
            "Meta Valid Accuracy 0.539062513038516\n",
            "Valid Error: 0.7075\n",
            "Valid Accuracy: 0.4208\n",
            "\n",
            "\n",
            "Iteration 6\n",
            "Meta Train Error 0.8072569947689772\n",
            "Meta Train Accuracy 0.5312500116415322\n",
            "Meta Valid Error 0.7417991515249014\n",
            "Meta Valid Accuracy 0.562500013038516\n",
            "Valid Error: 0.6634\n",
            "Valid Accuracy: 0.6958\n",
            "\n",
            "\n",
            "Iteration 7\n",
            "Meta Train Error 0.6541824201121926\n",
            "Meta Train Accuracy 0.6375000132247806\n",
            "Meta Valid Error 0.7896602991968393\n",
            "Meta Valid Accuracy 0.5578125128522515\n",
            "Valid Error: 0.6464\n",
            "Valid Accuracy: 0.6958\n",
            "\n",
            "\n",
            "Iteration 8\n",
            "Meta Train Error 0.7096681408584118\n",
            "Meta Train Accuracy 0.6296875150874257\n",
            "Meta Valid Error 0.7912071142345667\n",
            "Meta Valid Accuracy 0.6000000135973096\n",
            "Valid Error: 0.7197\n",
            "Valid Accuracy: 0.5958\n",
            "\n",
            "\n",
            "Iteration 9\n",
            "Meta Train Error 0.6210149163380265\n",
            "Meta Train Accuracy 0.6921875132247806\n",
            "Meta Valid Error 0.8032986670732498\n",
            "Meta Valid Accuracy 0.5781250149011612\n",
            "Valid Error: 0.7849\n",
            "Valid Accuracy: 0.6083\n",
            "\n",
            "\n",
            "Iteration 10\n",
            "Meta Train Error 0.6083813477307558\n",
            "Meta Train Accuracy 0.7031250139698386\n",
            "Meta Valid Error 0.8541770223528147\n",
            "Meta Valid Accuracy 0.5843750154599547\n",
            "Valid Error: 0.8975\n",
            "Valid Accuracy: 0.5750\n",
            "\n",
            "\n",
            "Iteration 11\n",
            "Meta Train Error 0.5426421919837594\n",
            "Meta Train Accuracy 0.756250012665987\n",
            "Meta Valid Error 0.8350454475730658\n",
            "Meta Valid Accuracy 0.5906250132247806\n",
            "Valid Error: 0.7606\n",
            "Valid Accuracy: 0.6792\n",
            "\n",
            "\n",
            "Iteration 12\n",
            "Meta Train Error 0.552074858918786\n",
            "Meta Train Accuracy 0.7671875134110451\n",
            "Meta Valid Error 0.784458577632904\n",
            "Meta Valid Accuracy 0.6359375147148967\n",
            "Valid Error: 0.8475\n",
            "Valid Accuracy: 0.6333\n",
            "\n",
            "\n",
            "Iteration 13\n",
            "Meta Train Error 0.47218247363343835\n",
            "Meta Train Accuracy 0.7937500141561031\n",
            "Meta Valid Error 0.768344609066844\n",
            "Meta Valid Accuracy 0.6671875175088644\n",
            "Valid Error: 1.1030\n",
            "Valid Accuracy: 0.5083\n",
            "\n",
            "\n",
            "Iteration 14\n",
            "Meta Train Error 0.3668370535597205\n",
            "Meta Train Accuracy 0.8531250208616257\n",
            "Meta Valid Error 0.6986844101920724\n",
            "Meta Valid Accuracy 0.6937500135973096\n",
            "Valid Error: 0.9238\n",
            "Valid Accuracy: 0.6083\n",
            "\n",
            "\n",
            "Iteration 15\n",
            "Meta Train Error 0.40959394024685025\n",
            "Meta Train Accuracy 0.831250011920929\n",
            "Meta Valid Error 0.8659646157175303\n",
            "Meta Valid Accuracy 0.6390625098720193\n",
            "Valid Error: 0.9473\n",
            "Valid Accuracy: 0.6333\n",
            "\n",
            "\n",
            "Iteration 16\n",
            "Meta Train Error 0.3167376662604511\n",
            "Meta Train Accuracy 0.8875000085681677\n",
            "Meta Valid Error 0.7247848296537995\n",
            "Meta Valid Accuracy 0.6875000102445483\n",
            "Valid Error: 1.7875\n",
            "Valid Accuracy: 0.4292\n",
            "\n",
            "\n",
            "Iteration 17\n",
            "Meta Train Error 0.34726768964901567\n",
            "Meta Train Accuracy 0.8671875074505806\n",
            "Meta Valid Error 0.8711053933948278\n",
            "Meta Valid Accuracy 0.6656250106170774\n",
            "Valid Error: 0.9385\n",
            "Valid Accuracy: 0.6833\n",
            "\n",
            "\n",
            "Iteration 18\n",
            "Meta Train Error 0.3626326962839812\n",
            "Meta Train Accuracy 0.8750000111758709\n",
            "Meta Valid Error 0.8459065007045865\n",
            "Meta Valid Accuracy 0.678125006146729\n",
            "Valid Error: 0.9813\n",
            "Valid Accuracy: 0.6458\n",
            "\n",
            "\n",
            "Iteration 19\n",
            "Meta Train Error 0.27867089956998825\n",
            "Meta Train Accuracy 0.8984375149011612\n",
            "Meta Valid Error 0.8522926205769181\n",
            "Meta Valid Accuracy 0.6984375137835741\n",
            "Valid Error: 0.8959\n",
            "Valid Accuracy: 0.6917\n",
            "\n",
            "\n",
            "Iteration 20\n",
            "Meta Train Error 0.24970332719385624\n",
            "Meta Train Accuracy 0.9000000096857548\n",
            "Meta Valid Error 0.8446470592170954\n",
            "Meta Valid Accuracy 0.695312513038516\n",
            "Valid Error: 1.0431\n",
            "Valid Accuracy: 0.6500\n",
            "\n",
            "\n",
            "Iteration 21\n",
            "Meta Train Error 0.27449714252725244\n",
            "Meta Train Accuracy 0.896875012665987\n",
            "Meta Valid Error 0.9278153879567981\n",
            "Meta Valid Accuracy 0.6718750167638063\n",
            "Valid Error: 1.1313\n",
            "Valid Accuracy: 0.6417\n",
            "\n",
            "\n",
            "Iteration 22\n",
            "Meta Train Error 0.23686686379369348\n",
            "Meta Train Accuracy 0.9265625067055225\n",
            "Meta Valid Error 0.9717761841602623\n",
            "Meta Valid Accuracy 0.664062513038516\n",
            "Valid Error: 0.9056\n",
            "Valid Accuracy: 0.7042\n",
            "\n",
            "\n",
            "Iteration 23\n",
            "Meta Train Error 0.179488594410941\n",
            "Meta Train Accuracy 0.9359375089406967\n",
            "Meta Valid Error 1.075418807566166\n",
            "Meta Valid Accuracy 0.6750000100582838\n",
            "Valid Error: 1.0872\n",
            "Valid Accuracy: 0.6708\n",
            "\n",
            "\n",
            "Iteration 24\n",
            "Meta Train Error 0.17742071859538555\n",
            "Meta Train Accuracy 0.946875000372529\n",
            "Meta Valid Error 1.0204801065847278\n",
            "Meta Valid Accuracy 0.693750012665987\n",
            "Valid Error: 3.8877\n",
            "Valid Accuracy: 0.2667\n",
            "\n",
            "\n",
            "Iteration 25\n",
            "Meta Train Error 0.1370275245863013\n",
            "Meta Train Accuracy 0.9593750014901161\n",
            "Meta Valid Error 0.9977200776338577\n",
            "Meta Valid Accuracy 0.7031250093132257\n",
            "Valid Error: 1.1475\n",
            "Valid Accuracy: 0.6625\n",
            "\n",
            "\n",
            "Iteration 26\n",
            "Meta Train Error 0.24752911034738645\n",
            "Meta Train Accuracy 0.9218750055879354\n",
            "Meta Valid Error 1.0559302307665348\n",
            "Meta Valid Accuracy 0.6968750134110451\n",
            "Valid Error: 1.7337\n",
            "Valid Accuracy: 0.5542\n",
            "\n",
            "\n",
            "Iteration 27\n",
            "Meta Train Error 0.17274219752289355\n",
            "Meta Train Accuracy 0.9515625014901161\n",
            "Meta Valid Error 1.0800460195168853\n",
            "Meta Valid Accuracy 0.6906250193715096\n",
            "Valid Error: 4.0680\n",
            "Valid Accuracy: 0.2667\n"
          ]
        }
      ],
      "source": [
        "meta_train(ways, shots, meta_lr, fast_lr, meta_batch_size, adaptation_steps, num_iterations)"
      ]
    },
    {
      "cell_type": "markdown",
      "metadata": {
        "id": "ujKaeAcWjGM7"
      },
      "source": [
        "##### **Evaluate**"
      ]
    },
    {
      "cell_type": "code",
      "source": [
        "loss = nn.CrossEntropyLoss()"
      ],
      "metadata": {
        "id": "NO7djVhVkdht"
      },
      "execution_count": 72,
      "outputs": []
    },
    {
      "cell_type": "code",
      "execution_count": 70,
      "metadata": {
        "id": "U7PVGS9v1gXY"
      },
      "outputs": [],
      "source": [
        "model = torch.load( '/content/drive/MyDrive/AI Projects/MAML models/MAML_head_vgg11_3.pt')"
      ]
    },
    {
      "cell_type": "code",
      "execution_count": null,
      "metadata": {
        "id": "8ElbjoJPY-QC"
      },
      "outputs": [],
      "source": [
        "evaluate_model(model, loss, dataloaders_rgb['valid'], dataloader_rgb_sizes['valid'], dataset_sizes['valid'])"
      ]
    },
    {
      "cell_type": "code",
      "execution_count": null,
      "metadata": {
        "id": "34UVKWe0UHN3"
      },
      "outputs": [],
      "source": [
        "evaluate_model(model, loss, dataloaders_rgb['test'], dataloader_rgb_sizes['test'], dataset_sizes['test'])"
      ]
    },
    {
      "cell_type": "code",
      "execution_count": 88,
      "metadata": {
        "id": "Xn5lvF29r_nq"
      },
      "outputs": [],
      "source": [
        "torch.save(model, '/content/drive/MyDrive/AI Projects/MAML models/MAML_head_vgg11_3.pt')"
      ]
    }
  ],
  "metadata": {
    "accelerator": "GPU",
    "colab": {
      "collapsed_sections": [
        "iL-FNKBekJLJ",
        "fS2fEHBUxjg8",
        "JPTAJrSSw8Zk",
        "RyLgptfAxWXL",
        "48nZStleLlQM",
        "GX3YRfENLpjl",
        "H9bKlpoVMzby",
        "Ji24twrPU4E0",
        "zHaltusVcyqq",
        "2tqOkoXuc2EC",
        "nUhTJAx9ecBx",
        "tdRnSIgfP5Dq",
        "vJzq-l_pQrky",
        "-Gzi1adbPslv",
        "RFznc2chWf4v",
        "ZnlY0Ctgnbd8",
        "BdN7OTW2Hlt_",
        "PyT1bZJBH_lx",
        "-xW5mHB5wuzX",
        "o-EiJgnMHHI6",
        "y_XRMxd9j4FF",
        "94ONj06MTsKE",
        "wTGavrOZ0DPn",
        "-zxNScAR7LEe",
        "u9GFPKEXncNM",
        "bzKZVxIOnhOh",
        "z4BqH_jYRP-F",
        "s1yAdFKxRVBE",
        "XJzmSnGD7L8j",
        "JsJNGckwNpmW",
        "q4VxmULuRn3B",
        "vOpKGvsnmC6W",
        "qBCvj0bq7SDK",
        "pAiluePmODR9",
        "AK3fDOI7OADX",
        "ujKaeAcWjGM7"
      ],
      "provenance": [],
      "include_colab_link": true
    },
    "kernelspec": {
      "display_name": "Python 3",
      "name": "python3"
    },
    "language_info": {
      "name": "python"
    }
  },
  "nbformat": 4,
  "nbformat_minor": 0
}