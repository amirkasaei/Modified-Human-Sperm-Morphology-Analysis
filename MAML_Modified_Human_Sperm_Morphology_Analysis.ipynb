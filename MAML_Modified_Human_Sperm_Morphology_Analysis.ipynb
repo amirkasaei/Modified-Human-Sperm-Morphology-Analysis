{
  "cells": [
    {
      "cell_type": "markdown",
      "metadata": {
        "id": "view-in-github",
        "colab_type": "text"
      },
      "source": [
        "<a href=\"https://colab.research.google.com/github/amirkasaei/Modified-Human-Sperm-Morphology-Analysis/blob/main/MAML_Modified_Human_Sperm_Morphology_Analysis.ipynb\" target=\"_parent\"><img src=\"https://colab.research.google.com/assets/colab-badge.svg\" alt=\"Open In Colab\"/></a>"
      ]
    },
    {
      "cell_type": "markdown",
      "metadata": {
        "id": "iL-FNKBekJLJ"
      },
      "source": [
        "# **Libraries**"
      ]
    },
    {
      "cell_type": "markdown",
      "metadata": {
        "id": "fS2fEHBUxjg8"
      },
      "source": [
        "## **Others**"
      ]
    },
    {
      "cell_type": "code",
      "execution_count": 77,
      "metadata": {
        "id": "E0rB-cgkur0l"
      },
      "outputs": [],
      "source": [
        "import pandas as pd\n",
        "import numpy as np\n",
        "import matplotlib.pyplot as plt\n",
        "\n",
        "from sklearn.model_selection import train_test_split, KFold\n",
        "from sklearn import metrics\n",
        "from sklearn.model_selection import KFold\n",
        "\n",
        "import copy\n",
        "import imageio\n",
        "import PIL.Image as Image\n",
        "\n",
        "import os\n",
        "import sys\n",
        "import time\n",
        "import random\n",
        "from tqdm import trange\n",
        "\n",
        "from google.colab import drive\n",
        "from numba import cuda\n",
        "from sklearn.metrics import accuracy_score, confusion_matrix, precision_score, recall_score, f1_score\n",
        "import seaborn as sns"
      ]
    },
    {
      "cell_type": "code",
      "execution_count": 2,
      "metadata": {
        "colab": {
          "base_uri": "https://localhost:8080/"
        },
        "id": "4BjJPwyUvKLt",
        "outputId": "03356c53-bec3-4e30-e91a-5ea3b42282ba"
      },
      "outputs": [
        {
          "output_type": "stream",
          "name": "stdout",
          "text": [
            "Mounted at /content/drive\n"
          ]
        }
      ],
      "source": [
        "drive.mount('/content/drive')\n",
        "data_path = \"/content/drive/MyDrive/AI Projects/Meta-learning vision project/mhsma-dataset sperm images/mhsma/\""
      ]
    },
    {
      "cell_type": "markdown",
      "metadata": {
        "id": "JPTAJrSSw8Zk"
      },
      "source": [
        "## **Torch**"
      ]
    },
    {
      "cell_type": "code",
      "execution_count": 3,
      "metadata": {
        "colab": {
          "base_uri": "https://localhost:8080/"
        },
        "id": "zSzMBrt5MdWe",
        "outputId": "a9687c53-d8d2-466c-c7b8-e43795891ded"
      },
      "outputs": [
        {
          "output_type": "stream",
          "name": "stdout",
          "text": [
            "\u001b[?25l     \u001b[90m━━━━━━━━━━━━━━━━━━━━━━━━━━━━━━━━━━━━━━━━\u001b[0m \u001b[32m0.0/158.4 kB\u001b[0m \u001b[31m?\u001b[0m eta \u001b[36m-:--:--\u001b[0m\r\u001b[2K     \u001b[91m━━━━━━━━━━━━━━━━━━━━━━━━━━━━━━━━━━━━━\u001b[0m\u001b[91m╸\u001b[0m\u001b[90m━\u001b[0m \u001b[32m153.6/158.4 kB\u001b[0m \u001b[31m4.4 MB/s\u001b[0m eta \u001b[36m0:00:01\u001b[0m\r\u001b[2K     \u001b[90m━━━━━━━━━━━━━━━━━━━━━━━━━━━━━━━━━━━━━━━\u001b[0m \u001b[32m158.4/158.4 kB\u001b[0m \u001b[31m3.5 MB/s\u001b[0m eta \u001b[36m0:00:00\u001b[0m\n",
            "\u001b[?25h\u001b[?25l     \u001b[90m━━━━━━━━━━━━━━━━━━━━━━━━━━━━━━━━━━━━━━━━\u001b[0m \u001b[32m0.0/111.0 kB\u001b[0m \u001b[31m?\u001b[0m eta \u001b[36m-:--:--\u001b[0m\r\u001b[2K     \u001b[90m━━━━━━━━━━━━━━━━━━━━━━━━━━━━━━━━━━━━━━\u001b[0m \u001b[32m111.0/111.0 kB\u001b[0m \u001b[31m11.9 MB/s\u001b[0m eta \u001b[36m0:00:00\u001b[0m\n",
            "\u001b[?25h"
          ]
        }
      ],
      "source": [
        "!pip install -q torcheval"
      ]
    },
    {
      "cell_type": "code",
      "execution_count": 4,
      "metadata": {
        "id": "b9kubfRtqF3m"
      },
      "outputs": [],
      "source": [
        "pip install -q --upgrade torch"
      ]
    },
    {
      "cell_type": "code",
      "execution_count": 5,
      "metadata": {
        "id": "qydtc0OXpRZC"
      },
      "outputs": [],
      "source": [
        "pip install -q --upgrade torch torchvision"
      ]
    },
    {
      "cell_type": "code",
      "execution_count": 6,
      "metadata": {
        "id": "eebDe5smxNoz"
      },
      "outputs": [],
      "source": [
        "import torch\n",
        "from torch import nn\n",
        "from torch.utils.data import DataLoader\n",
        "import torchvision\n",
        "import torcheval\n",
        "from torcheval.metrics.functional import binary_accuracy\n",
        "from torchvision import transforms\n",
        "import torchvision.transforms as T\n",
        "from torchvision.transforms import ToTensor, ToPILImage, Normalize, Resize\n",
        "\n",
        "# PyTorch TensorBoard support\n",
        "from torch.utils.data import Dataset, DataLoader, Sampler\n",
        "from torch.utils.tensorboard import SummaryWriter\n",
        "from datetime import datetime"
      ]
    },
    {
      "cell_type": "markdown",
      "metadata": {
        "id": "RyLgptfAxWXL"
      },
      "source": [
        "## **learn2learn**"
      ]
    },
    {
      "cell_type": "code",
      "execution_count": 7,
      "metadata": {
        "colab": {
          "base_uri": "https://localhost:8080/"
        },
        "id": "pR3RIfzALrxd",
        "outputId": "2f55d9a7-4f82-4259-8cfe-66305decbaf9"
      },
      "outputs": [
        {
          "output_type": "stream",
          "name": "stdout",
          "text": [
            "  Preparing metadata (setup.py) ... \u001b[?25l\u001b[?25hdone\n",
            "  Building wheel for qpth (setup.py) ... \u001b[?25l\u001b[?25hdone\n"
          ]
        }
      ],
      "source": [
        "!pip install -q git+https://github.com/locuslab/qpth"
      ]
    },
    {
      "cell_type": "code",
      "execution_count": 8,
      "metadata": {
        "colab": {
          "base_uri": "https://localhost:8080/"
        },
        "id": "tpS-pcoCNqcm",
        "outputId": "1d7ce1cd-7f56-427b-c5c6-7b6b6e6364d1"
      },
      "outputs": [
        {
          "output_type": "stream",
          "name": "stdout",
          "text": [
            "\u001b[2K     \u001b[90m━━━━━━━━━━━━━━━━━━━━━━━━━━━━━━━━━━━━━━━━\u001b[0m \u001b[32m7.0/7.0 MB\u001b[0m \u001b[31m17.5 MB/s\u001b[0m eta \u001b[36m0:00:00\u001b[0m\n",
            "\u001b[?25h  Preparing metadata (setup.py) ... \u001b[?25l\u001b[?25hdone\n",
            "\u001b[2K     \u001b[90m━━━━━━━━━━━━━━━━━━━━━━━━━━━━━━━━━━━━━━━━\u001b[0m \u001b[32m3.0/3.0 MB\u001b[0m \u001b[31m35.9 MB/s\u001b[0m eta \u001b[36m0:00:00\u001b[0m\n",
            "\u001b[?25h  Preparing metadata (setup.py) ... \u001b[?25l\u001b[?25hdone\n",
            "\u001b[2K     \u001b[90m━━━━━━━━━━━━━━━━━━━━━━━━━━━━━━━━━━━━━━━━\u001b[0m \u001b[32m41.5/41.5 kB\u001b[0m \u001b[31m4.6 MB/s\u001b[0m eta \u001b[36m0:00:00\u001b[0m\n",
            "\u001b[2K     \u001b[90m━━━━━━━━━━━━━━━━━━━━━━━━━━━━━━━━━━━━━━━━\u001b[0m \u001b[32m89.7/89.7 kB\u001b[0m \u001b[31m10.9 MB/s\u001b[0m eta \u001b[36m0:00:00\u001b[0m\n",
            "\u001b[?25h  Preparing metadata (setup.py) ... \u001b[?25l\u001b[?25hdone\n",
            "  Preparing metadata (setup.py) ... \u001b[?25l\u001b[?25hdone\n",
            "\u001b[2K     \u001b[90m━━━━━━━━━━━━━━━━━━━━━━━━━━━━━━━━━━━━━━\u001b[0m \u001b[32m135.7/135.7 kB\u001b[0m \u001b[31m10.3 MB/s\u001b[0m eta \u001b[36m0:00:00\u001b[0m\n",
            "\u001b[2K     \u001b[90m━━━━━━━━━━━━━━━━━━━━━━━━━━━━━━━━━━━━━━━━\u001b[0m \u001b[32m96.6/96.6 kB\u001b[0m \u001b[31m11.2 MB/s\u001b[0m eta \u001b[36m0:00:00\u001b[0m\n",
            "\u001b[?25h  Preparing metadata (setup.py) ... \u001b[?25l\u001b[?25hdone\n",
            "\u001b[2K     \u001b[90m━━━━━━━━━━━━━━━━━━━━━━━━━━━━━━━━━━━━━━━━\u001b[0m \u001b[32m1.4/1.4 MB\u001b[0m \u001b[31m37.0 MB/s\u001b[0m eta \u001b[36m0:00:00\u001b[0m\n",
            "\u001b[?25h  Preparing metadata (setup.py) ... \u001b[?25l\u001b[?25hdone\n",
            "  Building wheel for learn2learn (setup.py) ... \u001b[?25l\u001b[?25hdone\n",
            "  Building wheel for gsutil (setup.py) ... \u001b[?25l\u001b[?25hdone\n",
            "  Building wheel for crcmod (setup.py) ... \u001b[?25l\u001b[?25hdone\n",
            "  Building wheel for gcs-oauth2-boto-plugin (setup.py) ... \u001b[?25l\u001b[?25hdone\n",
            "  Building wheel for retry_decorator (setup.py) ... \u001b[?25l\u001b[?25hdone\n",
            "  Building wheel for pyu2f (setup.py) ... \u001b[?25l\u001b[?25hdone\n"
          ]
        }
      ],
      "source": [
        "!pip install -q learn2learn"
      ]
    },
    {
      "cell_type": "code",
      "execution_count": 9,
      "metadata": {
        "id": "AmxAWlZqyXHU"
      },
      "outputs": [],
      "source": [
        "import learn2learn as l2l\n",
        "from learn2learn.data.transforms import (NWays, KShots, LoadData, RemapLabels, ConsecutiveLabels)"
      ]
    },
    {
      "cell_type": "markdown",
      "metadata": {
        "id": "pUn5U_UukZSX"
      },
      "source": [
        "# **Preprocessing**"
      ]
    },
    {
      "cell_type": "markdown",
      "metadata": {
        "id": "48nZStleLlQM"
      },
      "source": [
        "## **Load Data**"
      ]
    },
    {
      "cell_type": "code",
      "execution_count": 10,
      "metadata": {
        "colab": {
          "base_uri": "https://localhost:8080/"
        },
        "id": "V3BZta8VjU9O",
        "outputId": "d072cf14-c4a3-4a13-ae08-f2f6eb51d94d"
      },
      "outputs": [
        {
          "output_type": "stream",
          "name": "stderr",
          "text": [
            "/usr/local/lib/python3.10/dist-packages/ipykernel/ipkernel.py:283: DeprecationWarning: `should_run_async` will not call `transform_cell` automatically in the future. Please pass the result to `transformed_cell` argument and any exception that happen during thetransform in `preprocessing_exc_tuple` in IPython 7.17 and above.\n",
            "  and should_run_async(code)\n"
          ]
        },
        {
          "output_type": "stream",
          "name": "stdout",
          "text": [
            "Cloning into 'Modified-Human-Sperm-Morphology-Analysis'...\n",
            "remote: Enumerating objects: 81, done.\u001b[K\n",
            "remote: Counting objects: 100% (81/81), done.\u001b[K\n",
            "remote: Compressing objects: 100% (79/79), done.\u001b[K\n",
            "remote: Total 81 (delta 31), reused 0 (delta 0), pack-reused 0\u001b[K\n",
            "Receiving objects: 100% (81/81), 13.94 MiB | 3.90 MiB/s, done.\n",
            "Resolving deltas: 100% (31/31), done.\n"
          ]
        }
      ],
      "source": [
        "!git clone https://github.com/amirkasaei/Modified-Human-Sperm-Morphology-Analysis/\n",
        "path=\"/content/Modified-Human-Sperm-Morphology-Analysis/mhsma-dataset/mhsma/\""
      ]
    },
    {
      "cell_type": "code",
      "execution_count": 11,
      "metadata": {
        "colab": {
          "base_uri": "https://localhost:8080/"
        },
        "id": "TcXjuMm2ujRj",
        "outputId": "935ad064-2dd2-4fdd-ba7f-d33f32300d12"
      },
      "outputs": [
        {
          "output_type": "stream",
          "name": "stdout",
          "text": [
            "x_train shape: (1000, 64, 64) ----- y_acrosome_train shape: (1000,)\n",
            "x_valid shape: (240, 64, 64) ----- y_acrosome_valid shape: (240,)\n",
            "x_test shape: (300, 64, 64) ----- y_acrosome_test shape: (300,)\n"
          ]
        }
      ],
      "source": [
        "size = '64'\n",
        "x_train = np.load(path + 'x_' + size + '_train.npy').astype('float32')\n",
        "y_acrosome_train = np.load(path + 'y_acrosome_train.npy').astype('float32')\n",
        "y_head_train = np.load(path + 'y_head_train.npy').astype('float32')\n",
        "y_tail_train = np.load(path + 'y_tail_train.npy').astype('float32')\n",
        "y_vacuole_train = np.load(path + 'y_vacuole_train.npy').astype('float32')\n",
        "\n",
        "x_valid = np.load(path+'x_' + size + '_valid.npy').astype('float32')\n",
        "y_acrosome_valid = np.load(path + 'y_acrosome_valid.npy').astype('float32')\n",
        "y_head_valid = np.load(path + 'y_head_valid.npy').astype('float32')\n",
        "y_tail_valid = np.load(path + 'y_tail_valid.npy').astype('float32')\n",
        "y_vacuole_valid = np.load(path + 'y_vacuole_valid.npy').astype('float32')\n",
        "\n",
        "x_test = np.load(path+'x_' + size + '_test.npy').astype('float32')\n",
        "y_acrosome_test = np.load(path + 'y_acrosome_test.npy').astype('float32')\n",
        "y_head_test = np.load(path + 'y_head_test.npy').astype('float32')\n",
        "y_tail_test = np.load(path + 'y_tail_test.npy').astype('float32')\n",
        "y_vacuole_test = np.load(path + 'y_vacuole_test.npy').astype('float32')\n",
        "\n",
        "print('x_train shape:', x_train.shape, '----- y_acrosome_train shape:', y_acrosome_train.shape)\n",
        "print('x_valid shape:', x_valid.shape, '----- y_acrosome_valid shape:', y_acrosome_valid.shape)\n",
        "print('x_test shape:', x_test.shape, '----- y_acrosome_test shape:', y_acrosome_test.shape)"
      ]
    },
    {
      "cell_type": "code",
      "source": [
        "classes = ['Normal', 'Abnormal']"
      ],
      "metadata": {
        "colab": {
          "base_uri": "https://localhost:8080/"
        },
        "id": "MNHz8pd8Cr2h",
        "outputId": "0bd4eccd-c77b-473f-ab5b-ea2f7d829f65"
      },
      "execution_count": 78,
      "outputs": [
        {
          "output_type": "stream",
          "name": "stderr",
          "text": [
            "/usr/local/lib/python3.10/dist-packages/ipykernel/ipkernel.py:283: DeprecationWarning: `should_run_async` will not call `transform_cell` automatically in the future. Please pass the result to `transformed_cell` argument and any exception that happen during thetransform in `preprocessing_exc_tuple` in IPython 7.17 and above.\n",
            "  and should_run_async(code)\n"
          ]
        }
      ]
    },
    {
      "cell_type": "code",
      "execution_count": 12,
      "metadata": {
        "colab": {
          "base_uri": "https://localhost:8080/"
        },
        "id": "-Mq6u2TgN9RN",
        "outputId": "d22060b2-c41e-4020-d1a5-2d99a3e2070b"
      },
      "outputs": [
        {
          "output_type": "execute_result",
          "data": {
            "text/plain": [
              "0.727"
            ]
          },
          "metadata": {},
          "execution_count": 12
        }
      ],
      "source": [
        "np.count_nonzero(y_head_train == 0)/y_head_train.shape[0]"
      ]
    },
    {
      "cell_type": "code",
      "execution_count": 13,
      "metadata": {
        "colab": {
          "base_uri": "https://localhost:8080/"
        },
        "id": "8rQKTPEBrrwn",
        "outputId": "c8f957ca-6d74-40cd-afac-063b8060f9c7"
      },
      "outputs": [
        {
          "output_type": "execute_result",
          "data": {
            "text/plain": [
              "0.73"
            ]
          },
          "metadata": {},
          "execution_count": 13
        }
      ],
      "source": [
        "np.count_nonzero(y_head_test == 0)/y_head_test.shape[0]"
      ]
    },
    {
      "cell_type": "markdown",
      "metadata": {
        "id": "GX3YRfENLpjl"
      },
      "source": [
        "## **Reshape Data**"
      ]
    },
    {
      "cell_type": "code",
      "execution_count": 14,
      "metadata": {
        "id": "v5thlpHvKmTd"
      },
      "outputs": [],
      "source": [
        "x_train = x_train.reshape((x_train.shape[0], x_train.shape[1], x_train.shape[2], 1))\n",
        "# y_acrosome_train = y_acrosome_train.reshape((-1,1))\n",
        "# y_head_train = y_head_train.reshape((-1,1))\n",
        "# y_tail_train = y_tail_train.reshape((-1,1))\n",
        "# y_vacuole_train = y_vacuole_train.reshape((-1,1))\n",
        "\n",
        "x_valid = x_valid.reshape((x_valid.shape[0], x_valid.shape[1], x_valid.shape[2], 1))\n",
        "# y_acrosome_valid = y_acrosome_valid.reshape((-1,1))\n",
        "# y_head_valid = y_head_valid.reshape((-1,1))\n",
        "# y_tail_valid = y_tail_valid.reshape((-1,1))\n",
        "# y_vacuole_valid = y_vacuole_valid.reshape((-1,1))\n",
        "\n",
        "x_test = x_test.reshape((x_test.shape[0], x_test.shape[1], x_test.shape[2], 1))\n",
        "# y_acrosome_test = y_acrosome_test.reshape((-1,1))\n",
        "# y_head_test = y_head_test.reshape((-1,1))\n",
        "# y_tail_test = y_tail_test.reshape((-1,1))\n",
        "# y_vacuole_test = y_vacuole_test.reshape((-1,1))"
      ]
    },
    {
      "cell_type": "code",
      "execution_count": 15,
      "metadata": {
        "colab": {
          "base_uri": "https://localhost:8080/"
        },
        "id": "VNKyge5IJQmh",
        "outputId": "896ee9f8-d4b4-4e28-ab03-95d5d76a4415"
      },
      "outputs": [
        {
          "output_type": "execute_result",
          "data": {
            "text/plain": [
              "(64, 64, 1)"
            ]
          },
          "metadata": {},
          "execution_count": 15
        }
      ],
      "source": [
        "input_shape = x_train.shape[1:]\n",
        "input_shape"
      ]
    },
    {
      "cell_type": "markdown",
      "metadata": {
        "id": "H9bKlpoVMzby"
      },
      "source": [
        "## **Torch**"
      ]
    },
    {
      "cell_type": "code",
      "execution_count": 16,
      "metadata": {
        "id": "Hk_DWJDjM4us"
      },
      "outputs": [],
      "source": [
        "y_acrosome_train_tensor = torch.from_numpy(y_acrosome_train)\n",
        "y_head_train_tensor = torch.from_numpy(y_head_train)\n",
        "y_tail_train_tensor = torch.from_numpy(y_tail_train)\n",
        "y_vacuole_train_tensor = torch.from_numpy(y_vacuole_train)\n",
        "\n",
        "y_acrosome_valid_tensor = torch.from_numpy(y_acrosome_valid)\n",
        "y_head_valid_tensor = torch.from_numpy(y_head_valid)\n",
        "y_tail_valid_tensor = torch.from_numpy(y_tail_valid)\n",
        "y_vacuole_valid_tensor = torch.from_numpy(y_vacuole_valid)\n",
        "\n",
        "y_acrosome_test_tensor = torch.from_numpy(y_acrosome_test)\n",
        "y_head_test_tensor = torch.from_numpy(y_head_test)\n",
        "y_tail_test_tensor = torch.from_numpy(y_tail_test)\n",
        "y_vacuole_test_tensor = torch.from_numpy(y_vacuole_test)\n"
      ]
    },
    {
      "cell_type": "code",
      "execution_count": 17,
      "metadata": {
        "id": "_LGUZeq2SJtS"
      },
      "outputs": [],
      "source": [
        "Tensor = T.Compose([\n",
        "    ToTensor()\n",
        "])\n",
        "\n",
        "PILimage = T.Compose([\n",
        "    ToPILImage()\n",
        "])\n",
        "\n",
        "Tensor224 = T.Compose([\n",
        "    ToTensor(),\n",
        "    Resize(size = (224,224), interpolation=torchvision.transforms.InterpolationMode.BICUBIC)\n",
        "])"
      ]
    },
    {
      "cell_type": "code",
      "execution_count": 18,
      "metadata": {
        "id": "pAJ3atnmUdOS"
      },
      "outputs": [],
      "source": [
        "x_train_tensor = torch.stack([Tensor(img) for img in x_train])\n",
        "\n",
        "x_valid_tensor = torch.stack([Tensor(img) for img in x_valid])\n",
        "\n",
        "x_test_tensor = torch.stack([Tensor(img) for img in x_test])"
      ]
    },
    {
      "cell_type": "code",
      "execution_count": 19,
      "metadata": {
        "colab": {
          "base_uri": "https://localhost:8080/"
        },
        "id": "CXWPjaqYpcbN",
        "outputId": "1d7b120b-733b-4649-a7fe-34f3d239f157"
      },
      "outputs": [
        {
          "output_type": "execute_result",
          "data": {
            "text/plain": [
              "torch.Size([1000, 1, 64, 64])"
            ]
          },
          "metadata": {},
          "execution_count": 19
        }
      ],
      "source": [
        "x_train_tensor.shape"
      ]
    },
    {
      "cell_type": "code",
      "execution_count": 20,
      "metadata": {
        "colab": {
          "base_uri": "https://localhost:8080/",
          "height": 0
        },
        "id": "QmOhUrG1lNrQ",
        "outputId": "dc3fbb05-de89-4d95-a2d0-a5ba86af1299"
      },
      "outputs": [
        {
          "output_type": "execute_result",
          "data": {
            "text/plain": [
              "<matplotlib.image.AxesImage at 0x7d2c88162fe0>"
            ]
          },
          "metadata": {},
          "execution_count": 20
        },
        {
          "output_type": "display_data",
          "data": {
            "text/plain": [
              "<Figure size 640x480 with 1 Axes>"
            ],
            "image/png": "[encoded data removed]"
          },
          "metadata": {}
        }
      ],
      "source": [
        "plt.imshow(PILimage(x_train_tensor[0]))"
      ]
    },
    {
      "cell_type": "markdown",
      "metadata": {
        "id": "Ji24twrPU4E0"
      },
      "source": [
        "## **Data Normalization**"
      ]
    },
    {
      "cell_type": "markdown",
      "metadata": {
        "id": "zHaltusVcyqq"
      },
      "source": [
        "### **Mean**"
      ]
    },
    {
      "cell_type": "code",
      "execution_count": 21,
      "metadata": {
        "id": "MTQ71V-PbmUC"
      },
      "outputs": [],
      "source": [
        "mean_train = x_train_tensor.view(1, -1).mean(dim=1)\n",
        "mean_valid = x_valid_tensor.view(1, -1).mean(dim=1)\n",
        "mean_test = x_test_tensor.view(1, -1).mean(dim=1)"
      ]
    },
    {
      "cell_type": "code",
      "execution_count": 22,
      "metadata": {
        "colab": {
          "base_uri": "https://localhost:8080/"
        },
        "id": "atK-WnG6XBBB",
        "outputId": "dda86d8c-69f2-492d-f2fe-bc1fe615133c"
      },
      "outputs": [
        {
          "output_type": "execute_result",
          "data": {
            "text/plain": [
              "(tensor([125.7673]), tensor([126.1020]), tensor([125.9759]))"
            ]
          },
          "metadata": {},
          "execution_count": 22
        }
      ],
      "source": [
        "mean_train, mean_valid, mean_test"
      ]
    },
    {
      "cell_type": "markdown",
      "metadata": {
        "id": "2tqOkoXuc2EC"
      },
      "source": [
        "### **Standard Deviation**"
      ]
    },
    {
      "cell_type": "code",
      "execution_count": 23,
      "metadata": {
        "id": "3i-_ru4PcFLm"
      },
      "outputs": [],
      "source": [
        "std_train = x_train_tensor.view(1, -1).std(dim=1)\n",
        "std_valid = x_valid_tensor.view(1, -1).std(dim=1)\n",
        "std_test = x_test_tensor.view(1, -1).std(dim=1)"
      ]
    },
    {
      "cell_type": "code",
      "execution_count": 24,
      "metadata": {
        "colab": {
          "base_uri": "https://localhost:8080/"
        },
        "id": "TvjLKtkeYOV1",
        "outputId": "429e0c9e-bc4a-49bf-97a7-ccb3f22ed36a"
      },
      "outputs": [
        {
          "output_type": "execute_result",
          "data": {
            "text/plain": [
              "(tensor([13.1974]), tensor([13.4397]), tensor([13.3606]))"
            ]
          },
          "metadata": {},
          "execution_count": 24
        }
      ],
      "source": [
        "std_train, std_valid, std_test"
      ]
    },
    {
      "cell_type": "markdown",
      "metadata": {
        "id": "nUhTJAx9ecBx"
      },
      "source": [
        "### **Normalizarion**"
      ]
    },
    {
      "cell_type": "code",
      "execution_count": 25,
      "metadata": {
        "id": "X3RsifoYQKQ6"
      },
      "outputs": [],
      "source": [
        "Normalizer = Normalize(128, 8)\n",
        "x_train_norm = Normalizer(x_train_tensor)"
      ]
    },
    {
      "cell_type": "code",
      "execution_count": 26,
      "metadata": {
        "id": "Jga9XJfseN8H"
      },
      "outputs": [],
      "source": [
        "Normalizer = Normalize(mean_valid, std_valid)\n",
        "x_valid_norm = Normalizer(x_valid_tensor)"
      ]
    },
    {
      "cell_type": "code",
      "execution_count": 27,
      "metadata": {
        "id": "DDWTnWeqQ-9J"
      },
      "outputs": [],
      "source": [
        "Normalizer = Normalize(mean_test, std_test)\n",
        "x_test_norm = Normalizer(x_test_tensor)"
      ]
    },
    {
      "cell_type": "code",
      "execution_count": 28,
      "metadata": {
        "colab": {
          "base_uri": "https://localhost:8080/",
          "height": 0
        },
        "id": "elcdgjAlYTbZ",
        "outputId": "f2c1c8fa-fbe0-4cb8-e33b-72f1f34c645e"
      },
      "outputs": [
        {
          "output_type": "execute_result",
          "data": {
            "text/plain": [
              "<matplotlib.image.AxesImage at 0x7d2c88161f30>"
            ]
          },
          "metadata": {},
          "execution_count": 28
        },
        {
          "output_type": "display_data",
          "data": {
            "text/plain": [
              "<Figure size 640x480 with 1 Axes>"
            ],
            "image/png": "[encoded data removed]"
          },
          "metadata": {}
        }
      ],
      "source": [
        "plt.imshow(PILimage(x_train_norm[0]))"
      ]
    },
    {
      "cell_type": "markdown",
      "metadata": {
        "id": "tdRnSIgfP5Dq"
      },
      "source": [
        "## **RGB**"
      ]
    },
    {
      "cell_type": "code",
      "execution_count": 29,
      "metadata": {
        "id": "N8SbiiJmP9z-"
      },
      "outputs": [],
      "source": [
        "x_train_rgb = torch.stack([img.repeat(3, 1, 1) for img in x_train_tensor])\n",
        "\n",
        "x_valid_rgb = torch.stack([img.repeat(3, 1, 1) for img in x_valid_tensor])\n",
        "\n",
        "x_test_rgb = torch.stack([img.repeat(3, 1, 1) for img in x_test_tensor])"
      ]
    },
    {
      "cell_type": "code",
      "execution_count": 30,
      "metadata": {
        "colab": {
          "base_uri": "https://localhost:8080/",
          "height": 0
        },
        "id": "pKrW1EyjHVcw",
        "outputId": "365a1cd1-1642-47bd-f181-c9544bbb32e0"
      },
      "outputs": [
        {
          "output_type": "execute_result",
          "data": {
            "text/plain": [
              "<matplotlib.image.AxesImage at 0x7d2c8306a470>"
            ]
          },
          "metadata": {},
          "execution_count": 30
        },
        {
          "output_type": "display_data",
          "data": {
            "text/plain": [
              "<Figure size 640x480 with 1 Axes>"
            ],
            "image/png": "[encoded data removed]"
          },
          "metadata": {}
        }
      ],
      "source": [
        "plt.imshow(PILimage(x_train_rgb[0]))"
      ]
    },
    {
      "cell_type": "markdown",
      "metadata": {
        "id": "vJzq-l_pQrky"
      },
      "source": [
        "## **Data Augmentation**"
      ]
    },
    {
      "cell_type": "code",
      "source": [
        "transformers = [\n",
        "    T.functional.vflip,\n",
        "    # T.functional.invert,\n",
        "    T.functional.hflip,\n",
        "    T.RandomRotation((90, 90)),\n",
        "    T.RandomRotation((180, 180)),\n",
        "    T.RandomRotation((270, 270))\n",
        "]"
      ],
      "metadata": {
        "id": "j-iERXq-2p2B"
      },
      "execution_count": 31,
      "outputs": []
    },
    {
      "cell_type": "code",
      "source": [
        "randomAug = T.RandomApply([T.RandomChoice(transformers)], p=0.5)"
      ],
      "metadata": {
        "id": "8Nn0-ttV0gfJ"
      },
      "execution_count": 32,
      "outputs": []
    },
    {
      "cell_type": "code",
      "source": [
        "x_def = x_train_rgb[0]\n",
        "# x_aug = T.functional.vflip(x_def)\n",
        "x_aug = randomAug(x_def)\n"
      ],
      "metadata": {
        "id": "CHnMAQawTVGA"
      },
      "execution_count": 33,
      "outputs": []
    },
    {
      "cell_type": "code",
      "source": [
        "fig, axs = plt.subplots(nrows=1, ncols=2, squeeze=False, figsize=(10,5))\n",
        "\n",
        "axs[0, 0].title.set_text('default')\n",
        "axs[0, 1].title.set_text('augmented')\n",
        "axs[0, 0].imshow(PILimage(x_def))\n",
        "axs[0, 1].imshow(PILimage(x_aug))\n",
        "\n",
        "plt.show()"
      ],
      "metadata": {
        "id": "8iZrf0G50PSv",
        "colab": {
          "base_uri": "https://localhost:8080/",
          "height": 0
        },
        "outputId": "ce08c4e8-edf0-4232-9eee-5f39a6a98ace"
      },
      "execution_count": 34,
      "outputs": [
        {
          "output_type": "display_data",
          "data": {
            "text/plain": [
              "<Figure size 1000x500 with 2 Axes>"
            ],
            "image/png": "[encoded data removed]"
          },
          "metadata": {}
        }
      ]
    },
    {
      "cell_type": "code",
      "source": [
        "type(x_def), type(x_aug[0])"
      ],
      "metadata": {
        "colab": {
          "base_uri": "https://localhost:8080/"
        },
        "id": "BA5iGLEWQkYv",
        "outputId": "d1e613a6-a3dc-4eab-e703-ece5d1a67a76"
      },
      "execution_count": 35,
      "outputs": [
        {
          "output_type": "execute_result",
          "data": {
            "text/plain": [
              "(torch.Tensor, torch.Tensor)"
            ]
          },
          "metadata": {},
          "execution_count": 35
        }
      ]
    },
    {
      "cell_type": "markdown",
      "metadata": {
        "id": "-Gzi1adbPslv"
      },
      "source": [
        "### **Equal Distribution**"
      ]
    },
    {
      "cell_type": "code",
      "execution_count": 36,
      "metadata": {
        "colab": {
          "base_uri": "https://localhost:8080/"
        },
        "id": "bXppTtQ3QfN9",
        "outputId": "869a5461-179e-4dad-88e5-8921524e2553"
      },
      "outputs": [
        {
          "output_type": "execute_result",
          "data": {
            "text/plain": [
              "(array([0., 1.], dtype=float32), array([727, 273]))"
            ]
          },
          "metadata": {},
          "execution_count": 36
        }
      ],
      "source": [
        "classes, class_samples = np.unique(y_head_train_tensor, return_counts=True)\n",
        "classes, class_samples"
      ]
    },
    {
      "cell_type": "code",
      "execution_count": 37,
      "metadata": {
        "id": "QZAf8-AjRPXb"
      },
      "outputs": [],
      "source": [
        "false_ids = np.random.choice(np.where(y_head_train_tensor == classes[0])[0], size=class_samples[1])\n",
        "true_ids = np.where(y_head_train_tensor == classes[1])[0]\n",
        "ids = np.sort(np.concatenate((false_ids, true_ids), axis=0))"
      ]
    },
    {
      "cell_type": "code",
      "execution_count": 38,
      "metadata": {
        "colab": {
          "base_uri": "https://localhost:8080/"
        },
        "id": "SYyV1TQuR1cz",
        "outputId": "bdd62616-ea23-4fc5-e1de-048cd8fc0f18"
      },
      "outputs": [
        {
          "output_type": "execute_result",
          "data": {
            "text/plain": [
              "(torch.Size([546, 1, 64, 64]), torch.Size([546]))"
            ]
          },
          "metadata": {},
          "execution_count": 38
        }
      ],
      "source": [
        "x_train_equal = x_train_tensor[ids]\n",
        "y_head_train_equal = y_head_train_tensor[ids]\n",
        "x_train_equal.shape, y_head_train_equal.shape"
      ]
    },
    {
      "cell_type": "code",
      "execution_count": 39,
      "metadata": {
        "id": "YN3BVcQ4V9lh",
        "colab": {
          "base_uri": "https://localhost:8080/"
        },
        "outputId": "daa17bf8-c71b-4656-bb82-58e6498f96fe"
      },
      "outputs": [
        {
          "output_type": "execute_result",
          "data": {
            "text/plain": [
              "tensor([1., 0., 1., 1., 0., 0., 1., 0., 1., 1., 1., 1., 0., 0., 0., 1., 1., 1.,\n",
              "        0., 0., 1., 0., 0., 0., 0., 1., 0., 0., 1., 0., 1., 0., 1., 1., 0., 1.,\n",
              "        0., 0., 1., 1., 1., 1., 1., 0., 1., 0., 1., 0., 1., 1., 1., 1., 0., 0.,\n",
              "        0., 1., 1., 1., 1., 1., 0., 1., 1., 0., 0., 1., 1., 0., 0., 0., 1., 0.,\n",
              "        0., 1., 0., 1., 1., 0., 0., 0., 1., 1., 0., 0., 0., 0., 0., 1., 0., 0.,\n",
              "        1., 0., 0., 0., 0., 0., 1., 0., 0., 0., 1., 1., 0., 0., 1., 0., 0., 1.,\n",
              "        0., 0., 0., 1., 0., 0., 0., 0., 0., 1., 1., 1., 1., 1., 1., 1., 1., 0.,\n",
              "        1., 1., 1., 1., 0., 0., 1., 1., 1., 0., 0., 1., 1., 0., 1., 1., 0., 1.,\n",
              "        0., 1., 1., 1., 0., 1., 0., 1., 1., 0., 0., 0., 0., 1., 1., 1., 0., 1.,\n",
              "        1., 0., 1., 0., 1., 1., 0., 1., 0., 1., 1., 1., 0., 0., 0., 0., 1., 1.,\n",
              "        1., 0., 1., 1., 0., 1., 0., 0., 1., 0., 0., 0., 1., 0., 1., 1., 1., 0.,\n",
              "        1., 1., 1., 0., 1., 0., 1., 1., 1., 1., 0., 1., 1., 0., 1., 1., 0., 0.,\n",
              "        1., 1., 0., 0., 1., 0., 1., 0., 1., 0., 0., 0., 0., 1., 0., 0., 0., 0.,\n",
              "        0., 1., 0., 0., 0., 0., 1., 0., 1., 0., 1., 1., 1., 0., 1., 1., 0., 1.,\n",
              "        1., 1., 1., 1., 0., 1., 1., 0., 0., 0., 0., 0., 1., 0., 1., 0., 1., 1.,\n",
              "        0., 0., 1., 1., 0., 1., 0., 0., 0., 0., 1., 0., 0., 1., 0., 1., 0., 1.,\n",
              "        0., 1., 1., 0., 0., 0., 0., 0., 0., 1., 0., 0., 0., 1., 0., 0., 1., 0.,\n",
              "        0., 0., 0., 1., 1., 1., 1., 1., 0., 0., 1., 1., 0., 0., 1., 1., 1., 0.,\n",
              "        1., 1., 1., 0., 0., 1., 1., 0., 1., 0., 0., 0., 1., 1., 0., 1., 1., 1.,\n",
              "        1., 1., 0., 0., 0., 0., 0., 0., 0., 1., 0., 1., 1., 1., 1., 0., 1., 0.,\n",
              "        1., 1., 1., 1., 1., 1., 0., 0., 1., 0., 0., 1., 1., 0., 1., 1., 1., 0.,\n",
              "        1., 1., 0., 1., 0., 1., 1., 1., 0., 0., 1., 0., 0., 0., 0., 0., 0., 1.,\n",
              "        0., 0., 1., 0., 1., 0., 0., 0., 0., 1., 1., 0., 0., 1., 1., 0., 0., 0.,\n",
              "        1., 1., 1., 1., 0., 1., 1., 0., 0., 0., 0., 1., 1., 0., 1., 1., 0., 1.,\n",
              "        1., 0., 0., 1., 1., 0., 1., 0., 1., 0., 1., 0., 0., 1., 1., 0., 1., 0.,\n",
              "        1., 0., 0., 1., 1., 0., 0., 1., 1., 1., 1., 0., 0., 0., 1., 0., 1., 1.,\n",
              "        0., 1., 1., 1., 1., 1., 0., 1., 1., 1., 1., 1., 1., 1., 1., 1., 1., 1.,\n",
              "        0., 1., 1., 0., 0., 0., 1., 1., 0., 0., 0., 0., 0., 0., 0., 1., 1., 0.,\n",
              "        1., 0., 0., 0., 1., 1., 0., 0., 0., 1., 0., 0., 1., 0., 1., 0., 0., 0.,\n",
              "        0., 0., 0., 0., 1., 0., 1., 1., 0., 0., 1., 0., 1., 0., 0., 0., 0., 1.,\n",
              "        1., 1., 0., 1., 0., 1.])"
            ]
          },
          "metadata": {},
          "execution_count": 39
        }
      ],
      "source": [
        "y_head_train_equal"
      ]
    },
    {
      "cell_type": "markdown",
      "metadata": {
        "id": "RFznc2chWf4v"
      },
      "source": [
        "## **Dataset**"
      ]
    },
    {
      "cell_type": "code",
      "execution_count": 40,
      "metadata": {
        "id": "zEoKquW7nhpl"
      },
      "outputs": [],
      "source": [
        "class MHSMADataset(Dataset):\n",
        "  def __init__(self, x, y, transform=None, target_transform=None):\n",
        "    self.img_labels = y\n",
        "    self.imgs = x\n",
        "    self.transform = transform\n",
        "    self.target_transform = target_transform\n",
        "\n",
        "  def __len__(self):\n",
        "    return len(self.img_labels)\n",
        "\n",
        "  def __getitem__(self, idx):\n",
        "    image = self.imgs[idx]\n",
        "    label = self.img_labels[idx]\n",
        "    if self.transform:\n",
        "        image = self.transform(image)\n",
        "    if self.target_transform:\n",
        "        label = self.target_transform(label)\n",
        "    return image, label"
      ]
    },
    {
      "cell_type": "code",
      "source": [
        "class MultiLabelMHSMADataset(Dataset):\n",
        "  def __init__(self, x, y_acrosome, y_head, y_tail, y_vacuole, transform=None, target_transform=None):\n",
        "\n",
        "    self.imgs = x\n",
        "\n",
        "    self.len = len(y_acrosome)\n",
        "\n",
        "    self.img_labels = {}\n",
        "    self.img_labels['acrosome'] = y_acrosome\n",
        "    self.img_labels['head'] = y_head\n",
        "    self.img_labels['tail'] = y_tail\n",
        "    self.img_labels['vacuole'] = y_vacuole\n",
        "\n",
        "    self.transform = transform\n",
        "    self.target_transform = target_transform\n",
        "\n",
        "  def __len__(self):\n",
        "    return self.len\n",
        "\n",
        "  def __getitem__(self, idx):\n",
        "    image = self.imgs[idx]\n",
        "\n",
        "    label = {}\n",
        "    label['acrosome'] = self.img_labels['acrosome'][idx]\n",
        "    label['head'] = self.img_labels['head'][idx]\n",
        "    label['tail'] = self.img_labels['tail'][idx]\n",
        "    label['vacuole'] = self.img_labels['vacuole'][idx]\n",
        "\n",
        "    if self.transform:\n",
        "        image = self.transform(image)\n",
        "    if self.target_transform:\n",
        "        label = self.target_transform(label)\n",
        "    return image, label"
      ],
      "metadata": {
        "id": "wlN4V9hSv6MC"
      },
      "execution_count": 41,
      "outputs": []
    },
    {
      "cell_type": "code",
      "execution_count": 42,
      "metadata": {
        "id": "waA3JNJqucuv"
      },
      "outputs": [],
      "source": [
        "MHSMAData = {}\n",
        "\n",
        "MHSMAData['train'] = MHSMADataset(x=x_train_tensor, y=y_head_train_tensor)\n",
        "\n",
        "MHSMAData['valid'] = MHSMADataset(x=x_valid_tensor, y=y_head_valid_tensor)\n",
        "\n",
        "MHSMAData['test'] = MHSMADataset(x=x_test_tensor, y=y_head_test_tensor)"
      ]
    },
    {
      "cell_type": "code",
      "source": [
        "dataset_sizes = {}\n",
        "\n",
        "dataset_sizes['train'] = len(MHSMAData['train'])\n",
        "dataset_sizes['valid'] = len(MHSMAData['valid'])\n",
        "dataset_sizes['test'] = len(MHSMAData['test'])"
      ],
      "metadata": {
        "id": "05A0CKP8z7Hc"
      },
      "execution_count": 43,
      "outputs": []
    },
    {
      "cell_type": "code",
      "execution_count": 44,
      "metadata": {
        "id": "_Nt3sMRfQpzT"
      },
      "outputs": [],
      "source": [
        "MHSMADataRGB = {}\n",
        "\n",
        "MHSMADataRGB['train'] = MHSMADataset(x=x_train_rgb, y=y_head_train_tensor)\n",
        "\n",
        "MHSMADataRGB['valid'] = MHSMADataset(x=x_valid_rgb, y=y_head_valid_tensor)\n",
        "\n",
        "MHSMADataRGB['test'] = MHSMADataset(x=x_test_rgb, y=y_head_test_tensor)"
      ]
    },
    {
      "cell_type": "code",
      "source": [
        "MultiLabelMHSMADataset\n",
        "\n",
        "MultiLabelMHSMADataRGB = {}\n",
        "\n",
        "MultiLabelMHSMADataRGB['train'] = MultiLabelMHSMADataset(x_train_rgb, y_acrosome_train, y_head_train, y_tail_train, y_vacuole_train)\n",
        "\n",
        "MultiLabelMHSMADataRGB['valid'] = MultiLabelMHSMADataset(x_valid_rgb, y_acrosome_valid, y_head_valid, y_tail_valid, y_vacuole_valid)\n",
        "\n",
        "MultiLabelMHSMADataRGB['test'] = MultiLabelMHSMADataset(x_test_rgb, y_acrosome_test, y_head_test, y_tail_test, y_vacuole_test)"
      ],
      "metadata": {
        "id": "gjvc-Vg6Haw4"
      },
      "execution_count": 45,
      "outputs": []
    },
    {
      "cell_type": "markdown",
      "metadata": {
        "id": "ZnlY0Ctgnbd8"
      },
      "source": [
        "## **Data Loader**"
      ]
    },
    {
      "cell_type": "markdown",
      "metadata": {
        "id": "BdN7OTW2Hlt_"
      },
      "source": [
        "### **Default Dataloader**"
      ]
    },
    {
      "cell_type": "code",
      "execution_count": 46,
      "metadata": {
        "id": "xNFfvSGXH4Ms"
      },
      "outputs": [],
      "source": [
        "batch_size=64\n",
        "dataloaders = {}\n",
        "\n",
        "dataloaders['train'] = DataLoader(MHSMAData['train'], batch_size=batch_size, shuffle=True)\n",
        "dataloaders['valid'] = DataLoader(MHSMAData['valid'], batch_size=batch_size, shuffle=True)\n",
        "dataloaders['test'] = DataLoader(MHSMAData['test'], batch_size=batch_size, shuffle=True)"
      ]
    },
    {
      "cell_type": "code",
      "execution_count": 47,
      "metadata": {
        "id": "4i5l2FDVSRnH"
      },
      "outputs": [],
      "source": [
        "dataloader_sizes = {}\n",
        "\n",
        "dataloader_sizes['train'] = len(dataloaders['train'])\n",
        "dataloader_sizes['valid'] = len(dataloaders['valid'])\n",
        "dataloader_sizes['test'] = len(dataloaders['test'])"
      ]
    },
    {
      "cell_type": "markdown",
      "metadata": {
        "id": "PyT1bZJBH_lx"
      },
      "source": [
        "### **RGB Dataloader**"
      ]
    },
    {
      "cell_type": "code",
      "execution_count": 48,
      "metadata": {
        "id": "gRGCYNntRLF6"
      },
      "outputs": [],
      "source": [
        "batch_size=64\n",
        "dataloaders_rgb = {}\n",
        "dataloaders_rgb['train'] = DataLoader(MHSMADataRGB['train'], batch_size=batch_size, shuffle=True, num_workers=2)\n",
        "dataloaders_rgb['valid'] = DataLoader(MHSMADataRGB['valid'], batch_size=batch_size, shuffle=True, num_workers=2)\n",
        "dataloaders_rgb['test'] = DataLoader(MHSMADataRGB['test'], batch_size=batch_size, shuffle=True, num_workers=2)"
      ]
    },
    {
      "cell_type": "code",
      "execution_count": 49,
      "metadata": {
        "id": "XKY7hupgvgf4"
      },
      "outputs": [],
      "source": [
        "dataloader_rgb_sizes = {}\n",
        "\n",
        "dataloader_rgb_sizes['train'] = len(dataloaders_rgb['train'])\n",
        "dataloader_rgb_sizes['valid'] = len(dataloaders_rgb['valid'])\n",
        "dataloader_rgb_sizes['test'] = len(dataloaders_rgb['test'])"
      ]
    },
    {
      "cell_type": "code",
      "execution_count": 50,
      "metadata": {
        "id": "4hEI8s9Dfcpf"
      },
      "outputs": [],
      "source": [
        "train_batch_num = len(dataloaders_rgb['train'])"
      ]
    },
    {
      "cell_type": "code",
      "execution_count": 51,
      "metadata": {
        "id": "PENI9Um8waCF"
      },
      "outputs": [],
      "source": [
        "# train_features, train_labels = next(iter(train_dataloader))"
      ]
    },
    {
      "cell_type": "markdown",
      "metadata": {
        "id": "-xW5mHB5wuzX"
      },
      "source": [
        "### **Meta**"
      ]
    },
    {
      "cell_type": "code",
      "execution_count": 52,
      "metadata": {
        "id": "UI2pj7r9wttS"
      },
      "outputs": [],
      "source": [
        "train_metadata = l2l.data.MetaDataset(MHSMADataRGB['train'])\n",
        "\n",
        "valid_metadata = l2l.data.MetaDataset(MHSMADataRGB['valid'])\n",
        "\n",
        "test_metadata = l2l.data.MetaDataset(MHSMADataRGB['test'])"
      ]
    },
    {
      "cell_type": "code",
      "execution_count": 53,
      "metadata": {
        "id": "Fz8bveJV2diT"
      },
      "outputs": [],
      "source": [
        "transforms = [\n",
        "    l2l.data.transforms.NWays(train_metadata, n=2), # number of output classes\n",
        "    l2l.data.transforms.KShots(train_metadata, k=2*5), # number of shots per iteration\n",
        "    l2l.data.transforms.LoadData(train_metadata),\n",
        "]\n",
        "tasksets = {}\n",
        "tasksets['train'] = l2l.data.Taskset(train_metadata, transforms, num_tasks=1)\n",
        "tasksets['valid'] = l2l.data.Taskset(train_metadata, transforms, num_tasks=1)\n",
        "tasksets['test'] = l2l.data.Taskset(train_metadata, transforms, num_tasks=1)"
      ]
    },
    {
      "cell_type": "code",
      "execution_count": 54,
      "metadata": {
        "id": "EkcYCqvbPezx"
      },
      "outputs": [],
      "source": [
        "# batch_size=32\n",
        "\n",
        "# train_metaDataloader_rgb = DataLoader(train_metadata, batch_size=batch_size, shuffle=True, num_workers=2)\n",
        "# valid_metaDataloader_rgb = DataLoader(valid_metadata, batch_size=batch_size, shuffle=True, num_workers=2)\n",
        "# test_metaDataloader_rgb = DataLoader(test_metadata, batch_size=batch_size, shuffle=True, num_workers=2)"
      ]
    },
    {
      "cell_type": "code",
      "execution_count": 55,
      "metadata": {
        "id": "_34Mxs7SQT7Q"
      },
      "outputs": [],
      "source": [
        "# metaDataloaders_rgb = {}\n",
        "\n",
        "# metaDataloaders_rgb['train'] = train_metaDataloader_rgb\n",
        "# metaDataloaders_rgb['valid'] = valid_metaDataloader_rgb\n",
        "# metaDataloaders_rgb['test'] = test_metaDataloader_rgb"
      ]
    },
    {
      "cell_type": "code",
      "execution_count": 56,
      "metadata": {
        "id": "NhpY4dmuOyp8"
      },
      "outputs": [],
      "source": [
        "# metaDataloader_rgb_sizes ={}\n",
        "\n",
        "# metaDataloader_rgb_sizes['train'] = len(train_dataloader_rgb)\n",
        "# metaDataloader_rgb_sizes['valid'] = len(valid_dataloader_rgb)\n",
        "# metaDataloader_rgb_sizes['test'] = len(test_dataloader_rgb)"
      ]
    },
    {
      "cell_type": "markdown",
      "metadata": {
        "id": "o-EiJgnMHHI6"
      },
      "source": [
        "# **Helper Functions**"
      ]
    },
    {
      "cell_type": "markdown",
      "source": [
        "### **GPU**"
      ],
      "metadata": {
        "id": "y_XRMxd9j4FF"
      }
    },
    {
      "cell_type": "code",
      "source": [
        "def setGPU(seed=42):\n",
        "  random.seed(seed)\n",
        "  np.random.seed(seed)\n",
        "  torch.manual_seed(seed)\n",
        "  device = torch.device('cpu')\n",
        "\n",
        "  if cuda:\n",
        "      torch.cuda.manual_seed(seed)\n",
        "      device = torch.device('cuda')\n",
        "\n",
        "  return device\n",
        "\n",
        "device = setGPU()\n",
        "print(device)"
      ],
      "metadata": {
        "id": "XcTVbpt-jIQ1",
        "colab": {
          "base_uri": "https://localhost:8080/"
        },
        "outputId": "5f03d610-a63e-4a69-f581-6641a4c1e555"
      },
      "execution_count": 57,
      "outputs": [
        {
          "output_type": "stream",
          "name": "stdout",
          "text": [
            "cuda\n"
          ]
        }
      ]
    },
    {
      "cell_type": "markdown",
      "metadata": {
        "id": "94ONj06MTsKE"
      },
      "source": [
        "### **Train**"
      ]
    },
    {
      "cell_type": "code",
      "execution_count": 58,
      "metadata": {
        "id": "zbuFLMNxtx3G"
      },
      "outputs": [],
      "source": [
        "def train_model(model, criterion, optimizer, scheduler, dataloader, dataloader_size, num_epochs=25):\n",
        "  since = time.time()\n",
        "\n",
        "  best_model_wts = copy.deepcopy(model.state_dict())\n",
        "  best_acc = 0.0\n",
        "\n",
        "  for epoch in range(num_epochs):\n",
        "    print(f'Epoch {epoch+1}/{num_epochs}')\n",
        "    print('-' * 20)\n",
        "\n",
        "    # Each epoch has a training and validation phase\n",
        "    for phase in ['train', 'valid']:\n",
        "      if phase == 'train':\n",
        "        model.train()  # Set model to training mode\n",
        "      else:\n",
        "        model.eval()   # Set model to evaluate mode\n",
        "\n",
        "      running_loss = 0.0\n",
        "      running_corrects = 0\n",
        "      # running_acc = 0.0\n",
        "\n",
        "      # Iterate over data.\n",
        "      for inputs, labels in dataloader[phase]:\n",
        "        inputs = inputs.to(device)\n",
        "        labels = labels.type(torch.LongTensor).to(device)\n",
        "\n",
        "        # zero the parameter gradients\n",
        "        optimizer.zero_grad()\n",
        "\n",
        "        # forward\n",
        "        # track history if only in train\n",
        "        with torch.set_grad_enabled(phase == 'train'):\n",
        "          outputs = model(inputs)\n",
        "          _, preds = torch.max(outputs, 1)\n",
        "          loss = criterion(outputs, labels)\n",
        "          # acc = binary_accuracy(outputs.reshape(outputs.shape[0]), labels.reshape(labels.shape[0]), threshold=0.5)\n",
        "\n",
        "          # backward + optimize only if in training phase\n",
        "          if phase == 'train':\n",
        "            loss.backward()\n",
        "            optimizer.step()\n",
        "\n",
        "        # statistics\n",
        "        running_loss += loss.item() * inputs.size(0)\n",
        "        running_corrects += torch.sum(preds == labels.data)\n",
        "        # running_acc += acc\n",
        "\n",
        "        # if phase == 'train':\n",
        "        #   scheduler.step()\n",
        "\n",
        "      epoch_loss = running_loss / dataset_sizes[phase]\n",
        "      epoch_acc = running_corrects.double() / dataset_sizes[phase]\n",
        "\n",
        "      print(f'{phase} Loss: {epoch_loss:.4f} Acc: {epoch_acc:.4f}')\n",
        "\n",
        "      # deep copy the model\n",
        "      if phase == 'valid' and epoch_acc > best_acc:\n",
        "        best_acc = epoch_acc\n",
        "        best_model_wts = copy.deepcopy(model.state_dict())\n",
        "\n",
        "    print()\n",
        "\n",
        "  time_elapsed = time.time() - since\n",
        "  print(f'Training complete in {time_elapsed // 60:.0f}m {time_elapsed % 60:.0f}s')\n",
        "  print(f'Best val Acc: {best_acc:4f}')\n",
        "\n",
        "  # load best model weights\n",
        "  model.load_state_dict(best_model_wts)\n",
        "  return model"
      ]
    },
    {
      "cell_type": "markdown",
      "metadata": {
        "id": "wTGavrOZ0DPn"
      },
      "source": [
        "### **Evaluation**"
      ]
    },
    {
      "cell_type": "code",
      "source": [
        "def plot_confusionmatrix(y_pred,y_true, classes):\n",
        "  print('Confusion matrix')\n",
        "  cf = confusion_matrix(y_pred,y_true)\n",
        "  sns.heatmap(cf,annot=True,yticklabels=classes, xticklabels=classes, cmap='Blues', fmt='g')\n",
        "  plt.tight_layout()\n",
        "  plt.show()"
      ],
      "metadata": {
        "id": "92bJZOb6Bnmy"
      },
      "execution_count": 79,
      "outputs": []
    },
    {
      "cell_type": "code",
      "source": [
        "def accuracy(predictions, targets):\n",
        "    predictions = predictions.argmax(dim=1).view(targets.shape)\n",
        "    return (predictions == targets).sum().float() / targets.size(0)"
      ],
      "metadata": {
        "id": "Zpe0LJYCnoQy"
      },
      "execution_count": 80,
      "outputs": []
    },
    {
      "cell_type": "code",
      "execution_count": 81,
      "metadata": {
        "id": "VBOzU-Uyn_15"
      },
      "outputs": [],
      "source": [
        "def evaluate_model(model, criterion, dataloader, dataloader_size, dataset_size):\n",
        "  since = time.time()\n",
        "\n",
        "  # print('-' * 20)\n",
        "\n",
        "  # Each epoch has a training and validation phase\n",
        "  model.eval()   # Set model to evaluate mode\n",
        "\n",
        "  running_loss = 0.0\n",
        "  running_corrects = 0\n",
        "  # running_acc = 0.0\n",
        "\n",
        "  # Iterate over data.\n",
        "  for inputs, labels in dataloader:\n",
        "    inputs = inputs.to(device)\n",
        "    labels = labels.type(torch.LongTensor).to(device)\n",
        "\n",
        "    # forward\n",
        "    # track history if only in train\n",
        "    with torch.set_grad_enabled(False):\n",
        "      outputs = model(inputs)\n",
        "      _, preds = torch.max(outputs, 1)\n",
        "      loss = criterion(outputs, labels)\n",
        "\n",
        "    # statistics\n",
        "    running_loss += loss.item() * inputs.size(0)\n",
        "    running_corrects += torch.sum(preds == labels.data)\n",
        "\n",
        "  eval_loss = running_loss / dataset_size\n",
        "  eval_acc = running_corrects.double() / dataset_size\n",
        "\n",
        "  return eval_loss, eval_acc\n",
        "\n",
        "  # print(f'test Loss: {eval_loss:.4f} Acc: {eval_acc:.4f}')"
      ]
    },
    {
      "cell_type": "markdown",
      "metadata": {
        "id": "rZvqR2S8GA0X"
      },
      "source": [
        "# **Models**"
      ]
    },
    {
      "cell_type": "markdown",
      "metadata": {
        "id": "-zxNScAR7LEe"
      },
      "source": [
        "### **N-Shot Task Sampler**"
      ]
    },
    {
      "cell_type": "code",
      "execution_count": 61,
      "metadata": {
        "id": "lk4r4aIV4eaz"
      },
      "outputs": [],
      "source": [
        "class NShotTaskSampler(Sampler):\n",
        "    def __init__(self,\n",
        "                 dataset: torch.utils.data.Dataset,\n",
        "                 episodes_per_epoch: int = None,\n",
        "                 n: int = None,\n",
        "                 k: int = None,\n",
        "                 q: int = None,\n",
        "                 num_tasks: int = 1):\n",
        "        \"\"\"PyTorch Sampler subclass that generates batches of n-shot, k-way,\n",
        "        q-query tasks.\n",
        "\n",
        "        Each n-shot task contains a \"support set\" of `k` sets of `n` samples and\n",
        "        a \"query set\" of `k` sets of `q` samples. The support set and the query set\n",
        "        are all grouped into one Tensor such that the first n * k samples are from\n",
        "        the support set while the remaining q * k samples are from the query set.\n",
        "\n",
        "        The support and query sets are sampled such that they are disjoint\n",
        "        i.e. do not contain overlapping samples.\n",
        "\n",
        "        # Arguments\n",
        "            dataset: Instance of torch.utils.data.Dataset from which to draw samples\n",
        "            episodes_per_epoch: Arbitrary number of batches of n-shot tasks to\n",
        "                                generate in one epoch\n",
        "            n_shot: int. Number of samples for each class in the n-shot\n",
        "                            classification tasks.\n",
        "            k_way: int. Number of classes in the n-shot classification tasks.\n",
        "            q_queries: int. Number query samples for each class in the n-shot\n",
        "                            classification tasks.\n",
        "            num_tasks: Number of n-shot tasks to group into a single batch\n",
        "        \"\"\"\n",
        "        super(NShotTaskSampler, self).__init__(dataset)\n",
        "        self.episodes_per_epoch = episodes_per_epoch\n",
        "        self.dataset = dataset\n",
        "        if num_tasks < 1:\n",
        "            raise ValueError('num_tasks must be > 1.')\n",
        "\n",
        "        self.num_tasks = num_tasks\n",
        "        # TODO: Raise errors if initialise badly\n",
        "        self.k = k\n",
        "        self.n = n\n",
        "        self.q = q\n",
        "\n",
        "    def __len__(self):\n",
        "        return self.episodes_per_epoch\n",
        "\n",
        "    def __iter__(self):\n",
        "        for _ in range(self.episodes_per_epoch):\n",
        "            batch = []\n",
        "\n",
        "            for task in range(self.num_tasks):\n",
        "                # Get random classes\n",
        "                episode_classes = np.unique(self.dataset.img_labels, return_counts=False)\n",
        "\n",
        "\n",
        "                for k in episode_classes:\n",
        "                    # Randomly choose support indicies\n",
        "                    support_ids = np.random.choice(np.where(self.dataset.img_labels == k)[0], size=self.n)\n",
        "                    for x in support_ids:\n",
        "                        batch.append(x)\n",
        "\n",
        "                for k in episode_classes:\n",
        "                  # Randomly choose query indicies (except selected indicies in support)\n",
        "                    query=np.setdiff1d(np.where(self.dataset.img_labels == k)[0], support_ids)\n",
        "                    query = query[np.random.choice(query.shape[0], self.q, replace=False)]\n",
        "                    for x in query:\n",
        "                        batch.append(x)\n",
        "\n",
        "            yield np.stack(batch)\n"
      ]
    },
    {
      "cell_type": "markdown",
      "metadata": {
        "id": "DhC0fjB2mK3S"
      },
      "source": [
        "### **Meta Adaption Functions**"
      ]
    },
    {
      "cell_type": "markdown",
      "source": [
        "#### **Fast Adapt**"
      ],
      "metadata": {
        "id": "u9GFPKEXncNM"
      }
    },
    {
      "cell_type": "code",
      "source": [
        "def fast_adapt(batch, learner, loss, adaptation_steps, shots, ways, device, augmentation=False):\n",
        "    data, labels = batch\n",
        "    data, labels = data.to(device), labels.type(torch.LongTensor).to(device)\n",
        "\n",
        "    # Separate data into adaptation/evalutation sets\n",
        "    adaptation_indices = np.arange(shots*ways) * 2 # even indicies\n",
        "    evaluation_indices = np.arange(shots*ways) * 2 + 1 # odd indicies\n",
        "\n",
        "    # Apply augmentation on adaption set\n",
        "    if augmentation:\n",
        "      adaptation_data = torch.stack([randomAug(data[i]) for i in adaptation_indices])\n",
        "    else:\n",
        "      adaptation_data = data[adaptation_indices]\n",
        "\n",
        "    adaptation_labels = labels[adaptation_indices]\n",
        "\n",
        "    evaluation_data, evaluation_labels = data[evaluation_indices], labels[evaluation_indices]\n",
        "\n",
        "    # Adapt the model\n",
        "    for step in range(adaptation_steps):\n",
        "        adaptation_error = loss(learner(adaptation_data), adaptation_labels)\n",
        "        learner.adapt(adaptation_error)\n",
        "\n",
        "    # Evaluate the adapted model\n",
        "    predictions = learner(evaluation_data)\n",
        "    evaluation_error = loss(predictions, evaluation_labels)\n",
        "    evaluation_accuracy = accuracy(predictions, evaluation_labels)\n",
        "    return evaluation_error, evaluation_accuracy"
      ],
      "metadata": {
        "id": "Vkp5lm7Kn1ge"
      },
      "execution_count": null,
      "outputs": []
    },
    {
      "cell_type": "markdown",
      "source": [
        "#### **Meta Train**"
      ],
      "metadata": {
        "id": "bzKZVxIOnhOh"
      }
    },
    {
      "cell_type": "code",
      "execution_count": null,
      "metadata": {
        "id": "MjO3QDEOkrbN"
      },
      "outputs": [],
      "source": [
        "def meta_train(ways=2,\n",
        "          shots=10,\n",
        "          meta_lr=0.001,#0.003\n",
        "          fast_lr=0.003,#0.5\n",
        "          meta_batch_size=32,#32\n",
        "          adaptation_steps=2,\n",
        "          num_iterations=100,#60000\n",
        "          cuda=True,\n",
        "          seed=42):\n",
        "\n",
        "    best_valid_error = float('inf')\n",
        "    best_valid_acc = 0\n",
        "\n",
        "    for iteration in range(num_iterations):\n",
        "        opt.zero_grad()\n",
        "        meta_train_error = 0.0\n",
        "        meta_train_accuracy = 0.0\n",
        "        meta_valid_error = 0.0\n",
        "        meta_valid_accuracy = 0.0\n",
        "        learner = None\n",
        "        for train_batch, val_batch in zip(train_taskloader, dev_taskloader): # epoch_len     #range(meta_batch_size):\n",
        "            # Compute meta-training loss\n",
        "            learner = maml.clone()\n",
        "            evaluation_error, evaluation_accuracy = fast_adapt(train_batch, learner, loss, adaptation_steps, shots, ways, device, augmentation=True)\n",
        "\n",
        "            evaluation_error.backward()\n",
        "            meta_train_error += evaluation_error.item()\n",
        "            meta_train_accuracy += evaluation_accuracy.item()\n",
        "\n",
        "            # Compute meta-validation loss\n",
        "            learner = maml.clone()\n",
        "\n",
        "            evaluation_error, evaluation_accuracy = fast_adapt(val_batch, learner, loss, adaptation_steps, shots, ways, device)\n",
        "\n",
        "            meta_valid_error += evaluation_error.item()\n",
        "            meta_valid_accuracy += evaluation_accuracy.item()\n",
        "\n",
        "        # Compute validation loss and accuracy\n",
        "        valid_error, valid_acc = evaluate_model(learner, loss, dataloaders_rgb['valid'], dataloader_rgb_sizes['valid'], dataset_sizes['valid'])\n",
        "\n",
        "        if valid_acc > best_valid_acc:\n",
        "          best_valid_acc = valid_acc\n",
        "          best_valid_error = valid_error\n",
        "          print(f'\\n** best val acc: {best_valid_acc:.6f} **')\n",
        "          torch.save(learner, MAML_path)\n",
        "\n",
        "        # Print some metrics\n",
        "        print('\\n')\n",
        "        print('Iteration', iteration + 1)\n",
        "        print('Meta Train Error', meta_train_error / meta_batch_size)\n",
        "        print('Meta Train Accuracy', meta_train_accuracy / meta_batch_size)\n",
        "        print('Meta Valid Error', meta_valid_error / meta_batch_size)\n",
        "        print('Meta Valid Accuracy', meta_valid_accuracy / meta_batch_size)\n",
        "        print(f'Valid Error: {valid_error:.6f}')\n",
        "        print(f'Valid Accuracy: {valid_acc:.6f}')\n",
        "\n",
        "        # Average the accumulated gradients and optimize\n",
        "        for p in maml.parameters():\n",
        "          if p.requires_grad:\n",
        "            p.grad.data.mul_(1.0 / meta_batch_size)\n",
        "\n",
        "        opt.step()"
      ]
    },
    {
      "cell_type": "markdown",
      "metadata": {
        "id": "4kjP5H3v8m32"
      },
      "source": [
        "### **MAML**"
      ]
    },
    {
      "cell_type": "markdown",
      "metadata": {
        "id": "z4BqH_jYRP-F"
      },
      "source": [
        "#### **Task Sampler**"
      ]
    },
    {
      "cell_type": "code",
      "execution_count": 62,
      "metadata": {
        "id": "y24m_isA5kjq"
      },
      "outputs": [],
      "source": [
        "ways=2\n",
        "shots=10\n",
        "meta_batch_size=32\n",
        "epoch_len = meta_batch_size\n",
        "\n",
        "train_taskloader = DataLoader(MHSMADataRGB['train'], batch_sampler=NShotTaskSampler(MHSMADataRGB['train'], epoch_len, n=2*shots, k=ways, q=0, num_tasks=1), num_workers=2)\n",
        "\n",
        "dev_taskloader = DataLoader(MHSMADataRGB['valid'], batch_sampler=NShotTaskSampler(MHSMADataRGB['valid'], epoch_len, n=0, k=ways, q=2*shots, num_tasks=1), num_workers=2)\n",
        "\n",
        "test_taskloader = DataLoader(MHSMADataRGB['test'], batch_sampler=NShotTaskSampler(MHSMADataRGB['test'], epoch_len, n=0, k=ways, q=2*shots, num_tasks=1), num_workers=2)\n"
      ]
    },
    {
      "cell_type": "markdown",
      "metadata": {
        "id": "vIzTjNOvJcYO"
      },
      "source": [
        "#### **Temp**"
      ]
    },
    {
      "cell_type": "code",
      "execution_count": null,
      "metadata": {
        "id": "hKEIpgmNJcYe"
      },
      "outputs": [],
      "source": [
        "vgg16 = torchvision.models.vgg16_bn(pretrained=True)\n",
        "num_ftrs = vgg16.classifier[0].in_features\n",
        "vgg16.classifier = nn.Sequential(\n",
        "    nn.Linear(num_ftrs, 2048),\n",
        "    nn.ReLU(),\n",
        "    nn.Dropout(0.9),\n",
        "    nn.Linear(2048, 1024),\n",
        "    nn.Sigmoid(),\n",
        "    nn.Dropout(0.9),\n",
        "    nn.Linear(1024, 2)\n",
        ")\n",
        "MAML_path = \"/content/drive/MyDrive/AI Projects/Meta-learning vision project/MAML_head_vgg16.pt\"\n",
        "vgg16.classifier"
      ]
    },
    {
      "cell_type": "code",
      "execution_count": null,
      "metadata": {
        "id": "B8hfgCrDJcYf"
      },
      "outputs": [],
      "source": [
        "meta_lr=1e-3\n",
        "fast_lr=1e-3\n",
        "adaptation_steps=5\n",
        "num_iterations=70\n",
        "\n",
        "\n",
        "# Create model\n",
        "vgg16.to(device)\n",
        "maml = l2l.algorithms.MAML(vgg16, lr=fast_lr, first_order=False, allow_nograd=True)\n",
        "opt = torch.optim.Adam(filter(lambda p: p.requires_grad, maml.parameters()), meta_lr)\n",
        "loss = nn.CrossEntropyLoss()"
      ]
    },
    {
      "cell_type": "code",
      "execution_count": null,
      "metadata": {
        "id": "YMd5Tx9YJcYf",
        "colab": {
          "base_uri": "https://localhost:8080/"
        },
        "outputId": "0374f943-5efa-4c70-a3eb-e1dee66e8ca8"
      },
      "outputs": [
        {
          "output_type": "stream",
          "name": "stdout",
          "text": [
            "\n",
            "** best val acc: 0.733333 **\n",
            "\n",
            "\n",
            "Iteration 1\n",
            "Meta Train Error 0.8524725791066885\n",
            "Meta Train Accuracy 0.5015625134110451\n",
            "Meta Valid Error 0.8803760670125484\n",
            "Meta Valid Accuracy 0.48281250800937414\n",
            "Valid Error: 0.651796\n",
            "Valid Accuracy: 0.733333\n",
            "\n",
            "\n",
            "Iteration 2\n",
            "Meta Train Error 0.963263439014554\n",
            "Meta Train Accuracy 0.47500000847503543\n",
            "Meta Valid Error 0.9057715442031622\n",
            "Meta Valid Accuracy 0.5203125150874257\n",
            "Valid Error: 0.770523\n",
            "Valid Accuracy: 0.266667\n",
            "\n",
            "\n",
            "Iteration 3\n",
            "Meta Train Error 0.8695763982832432\n",
            "Meta Train Accuracy 0.4968750113621354\n",
            "Meta Valid Error 0.9232011772692204\n",
            "Meta Valid Accuracy 0.4750000098720193\n",
            "Valid Error: 0.677818\n",
            "Valid Accuracy: 0.654167\n",
            "\n",
            "\n",
            "Iteration 4\n",
            "Meta Train Error 0.7892799936234951\n",
            "Meta Train Accuracy 0.5421875081956387\n",
            "Meta Valid Error 0.8355950824916363\n",
            "Meta Valid Accuracy 0.5078125139698386\n",
            "Valid Error: 0.674810\n",
            "Valid Accuracy: 0.683333\n",
            "\n",
            "\n",
            "Iteration 5\n",
            "Meta Train Error 0.7937705749645829\n",
            "Meta Train Accuracy 0.5281250094994903\n",
            "Meta Valid Error 0.8389315661042929\n",
            "Meta Valid Accuracy 0.5031250109896064\n",
            "Valid Error: 0.758195\n",
            "Valid Accuracy: 0.558333\n",
            "\n",
            "\n",
            "Iteration 6\n",
            "Meta Train Error 0.7271356135606766\n",
            "Meta Train Accuracy 0.6046875091269612\n",
            "Meta Valid Error 0.8378347996622324\n",
            "Meta Valid Accuracy 0.5390625102445483\n",
            "Valid Error: 0.728075\n",
            "Valid Accuracy: 0.662500\n",
            "\n",
            "\n",
            "Iteration 7\n",
            "Meta Train Error 0.708267237059772\n",
            "Meta Train Accuracy 0.6359375175088644\n",
            "Meta Valid Error 0.8532896600663662\n",
            "Meta Valid Accuracy 0.5625000121071935\n",
            "Valid Error: 0.881319\n",
            "Valid Accuracy: 0.575000\n",
            "\n",
            "\n",
            "Iteration 8\n",
            "Meta Train Error 0.6639916272833943\n",
            "Meta Train Accuracy 0.6765625141561031\n",
            "Meta Valid Error 0.7486478220671415\n",
            "Meta Valid Accuracy 0.6046875203028321\n",
            "Valid Error: 0.736570\n",
            "Valid Accuracy: 0.679167\n",
            "\n",
            "\n",
            "Iteration 9\n",
            "Meta Train Error 0.6334343058988452\n",
            "Meta Train Accuracy 0.6843750141561031\n",
            "Meta Valid Error 0.8418588954955339\n",
            "Meta Valid Accuracy 0.5562500134110451\n",
            "Valid Error: 0.957103\n",
            "Valid Accuracy: 0.637500\n",
            "\n",
            "\n",
            "Iteration 10\n",
            "Meta Train Error 0.6535931713879108\n",
            "Meta Train Accuracy 0.6640625158324838\n",
            "Meta Valid Error 0.8248183876276016\n",
            "Meta Valid Accuracy 0.6000000135973096\n",
            "Valid Error: 0.721347\n",
            "Valid Accuracy: 0.687500\n",
            "\n",
            "\n",
            "Iteration 11\n",
            "Meta Train Error 0.49097378458827734\n",
            "Meta Train Accuracy 0.754687512293458\n",
            "Meta Valid Error 0.6979295425117016\n",
            "Meta Valid Accuracy 0.668750012293458\n",
            "Valid Error: 0.688682\n",
            "Valid Accuracy: 0.712500\n",
            "\n",
            "\n",
            "Iteration 12\n",
            "Meta Train Error 0.5023420285433531\n",
            "Meta Train Accuracy 0.7578125111758709\n",
            "Meta Valid Error 0.8284131623804569\n",
            "Meta Valid Accuracy 0.6265625124797225\n",
            "Valid Error: 0.783534\n",
            "Valid Accuracy: 0.645833\n",
            "\n",
            "\n",
            "Iteration 13\n",
            "Meta Train Error 0.42689825873821974\n",
            "Meta Train Accuracy 0.8078125100582838\n",
            "Meta Valid Error 0.8982943166047335\n",
            "Meta Valid Accuracy 0.6171875121071935\n",
            "Valid Error: 1.110138\n",
            "Valid Accuracy: 0.587500\n",
            "\n",
            "\n",
            "Iteration 14\n",
            "Meta Train Error 0.46078279055655\n",
            "Meta Train Accuracy 0.8187500163912773\n",
            "Meta Valid Error 0.9309200402349234\n",
            "Meta Valid Accuracy 0.6375000160187483\n",
            "Valid Error: 1.010473\n",
            "Valid Accuracy: 0.650000\n",
            "\n",
            "\n",
            "Iteration 15\n",
            "Meta Train Error 0.40556144434958696\n",
            "Meta Train Accuracy 0.8312500193715096\n",
            "Meta Valid Error 1.0025051515549421\n",
            "Meta Valid Accuracy 0.5875000115483999\n",
            "Valid Error: 1.154529\n",
            "Valid Accuracy: 0.579167\n",
            "\n",
            "\n",
            "Iteration 16\n",
            "Meta Train Error 0.34599860408343375\n",
            "Meta Train Accuracy 0.8671875111758709\n",
            "Meta Valid Error 0.9943488398566842\n",
            "Meta Valid Accuracy 0.6359375100582838\n",
            "Valid Error: 1.085831\n",
            "Valid Accuracy: 0.662500\n",
            "\n",
            "\n",
            "Iteration 17\n",
            "Meta Train Error 0.3817472141236067\n",
            "Meta Train Accuracy 0.8515625093132257\n",
            "Meta Valid Error 0.9483106127008796\n",
            "Meta Valid Accuracy 0.6468750108033419\n",
            "Valid Error: 1.071002\n",
            "Valid Accuracy: 0.675000\n",
            "\n",
            "\n",
            "Iteration 18\n",
            "Meta Train Error 0.3370416087564081\n",
            "Meta Train Accuracy 0.8734375201165676\n",
            "Meta Valid Error 1.0901292208582163\n",
            "Meta Valid Accuracy 0.6015625167638063\n",
            "Valid Error: 1.391445\n",
            "Valid Accuracy: 0.600000\n",
            "\n",
            "\n",
            "Iteration 19\n",
            "Meta Train Error 0.2387103964574635\n",
            "Meta Train Accuracy 0.912500012665987\n",
            "Meta Valid Error 1.0167354475706816\n",
            "Meta Valid Accuracy 0.6296875104308128\n",
            "Valid Error: 1.066993\n",
            "Valid Accuracy: 0.691667\n",
            "\n",
            "\n",
            "Iteration 20\n",
            "Meta Train Error 0.25890587794128805\n",
            "Meta Train Accuracy 0.8953125104308128\n",
            "Meta Valid Error 1.0219815131276846\n",
            "Meta Valid Accuracy 0.6578125162050128\n",
            "Valid Error: 0.996678\n",
            "Valid Accuracy: 0.691667\n",
            "\n",
            "\n",
            "Iteration 21\n",
            "Meta Train Error 0.25367981602903455\n",
            "Meta Train Accuracy 0.9109375048428774\n",
            "Meta Valid Error 1.0937874875962734\n",
            "Meta Valid Accuracy 0.6343750059604645\n",
            "Valid Error: 1.068785\n",
            "Valid Accuracy: 0.683333\n",
            "\n",
            "** best val acc: 0.737500 **\n",
            "\n",
            "\n",
            "Iteration 22\n",
            "Meta Train Error 0.24814395344583318\n",
            "Meta Train Accuracy 0.9187500085681677\n",
            "Meta Valid Error 0.9989983784034848\n",
            "Meta Valid Accuracy 0.6734375106170774\n",
            "Valid Error: 0.991612\n",
            "Valid Accuracy: 0.737500\n",
            "\n",
            "\n",
            "Iteration 23\n",
            "Meta Train Error 0.26463482808321714\n",
            "Meta Train Accuracy 0.912500012665987\n",
            "Meta Valid Error 1.1179313343018293\n",
            "Meta Valid Accuracy 0.629687512293458\n",
            "Valid Error: 1.283647\n",
            "Valid Accuracy: 0.675000\n",
            "\n",
            "\n",
            "Iteration 24\n",
            "Meta Train Error 0.17894408077700064\n",
            "Meta Train Accuracy 0.9421875029802322\n",
            "Meta Valid Error 1.289763000793755\n",
            "Meta Valid Accuracy 0.6031250143423676\n",
            "Valid Error: 1.327264\n",
            "Valid Accuracy: 0.645833\n",
            "\n",
            "\n",
            "Iteration 25\n",
            "Meta Train Error 0.18887627479853109\n",
            "Meta Train Accuracy 0.9421875048428774\n",
            "Meta Valid Error 1.0869829766452312\n",
            "Meta Valid Accuracy 0.6468750089406967\n",
            "Valid Error: 1.207536\n",
            "Valid Accuracy: 0.712500\n",
            "\n",
            "\n",
            "Iteration 26\n",
            "Meta Train Error 0.1390109023777768\n",
            "Meta Train Accuracy 0.953125\n",
            "Meta Valid Error 1.3297268766909838\n",
            "Meta Valid Accuracy 0.6359375203028321\n",
            "Valid Error: 1.393392\n",
            "Valid Accuracy: 0.666667\n",
            "\n",
            "\n",
            "Iteration 27\n",
            "Meta Train Error 0.24432198831345886\n",
            "Meta Train Accuracy 0.9140625055879354\n",
            "Meta Valid Error 1.2661983259022236\n",
            "Meta Valid Accuracy 0.6421875152736902\n",
            "Valid Error: 1.274062\n",
            "Valid Accuracy: 0.683333\n",
            "\n",
            "\n",
            "Iteration 28\n",
            "Meta Train Error 0.19147874537156895\n",
            "Meta Train Accuracy 0.9406250026077032\n",
            "Meta Valid Error 1.1789335012435913\n",
            "Meta Valid Accuracy 0.6562500083819032\n",
            "Valid Error: 1.180571\n",
            "Valid Accuracy: 0.704167\n",
            "\n",
            "\n",
            "Iteration 29\n",
            "Meta Train Error 0.21438502561068162\n",
            "Meta Train Accuracy 0.9265625141561031\n",
            "Meta Valid Error 1.2184163574129343\n",
            "Meta Valid Accuracy 0.6296875141561031\n",
            "Valid Error: 1.339381\n",
            "Valid Accuracy: 0.670833\n",
            "\n",
            "\n",
            "Iteration 30\n",
            "Meta Train Error 0.14264564268523827\n",
            "Meta Train Accuracy 0.9562500081956387\n",
            "Meta Valid Error 1.249257581308484\n",
            "Meta Valid Accuracy 0.6406250139698386\n",
            "Valid Error: 1.326650\n",
            "Valid Accuracy: 0.670833\n",
            "\n",
            "\n",
            "Iteration 31\n",
            "Meta Train Error 0.14535278489347547\n",
            "Meta Train Accuracy 0.9500000029802322\n",
            "Meta Valid Error 1.1167620727792382\n",
            "Meta Valid Accuracy 0.6734375152736902\n",
            "Valid Error: 1.220975\n",
            "Valid Accuracy: 0.675000\n",
            "\n",
            "\n",
            "Iteration 32\n",
            "Meta Train Error 0.14369616273324937\n",
            "Meta Train Accuracy 0.9484375063329935\n",
            "Meta Valid Error 1.137572381645441\n",
            "Meta Valid Accuracy 0.6734375143423676\n",
            "Valid Error: 1.233234\n",
            "Valid Accuracy: 0.670833\n",
            "\n",
            "\n",
            "Iteration 33\n",
            "Meta Train Error 0.13659325521439314\n",
            "Meta Train Accuracy 0.954687500372529\n",
            "Meta Valid Error 1.1827398482710123\n",
            "Meta Valid Accuracy 0.6734375096857548\n",
            "Valid Error: 1.341626\n",
            "Valid Accuracy: 0.645833\n",
            "\n",
            "\n",
            "Iteration 34\n",
            "Meta Train Error 0.09324771389947273\n",
            "Meta Train Accuracy 0.978125000372529\n",
            "Meta Valid Error 1.1921530179679394\n",
            "Meta Valid Accuracy 0.6640625111758709\n",
            "Valid Error: 1.372969\n",
            "Valid Accuracy: 0.683333\n",
            "\n",
            "\n",
            "Iteration 35\n",
            "Meta Train Error 0.09572449850384146\n",
            "Meta Train Accuracy 0.9671875014901161\n",
            "Meta Valid Error 1.195079080760479\n",
            "Meta Valid Accuracy 0.6828125137835741\n",
            "Valid Error: 1.329439\n",
            "Valid Accuracy: 0.683333\n",
            "\n",
            "\n",
            "Iteration 36\n",
            "Meta Train Error 0.09912696940591559\n",
            "Meta Train Accuracy 0.9687499981373549\n",
            "Meta Valid Error 1.3647297788411379\n",
            "Meta Valid Accuracy 0.6515625081956387\n",
            "Valid Error: 1.463666\n",
            "Valid Accuracy: 0.662500\n",
            "\n",
            "\n",
            "Iteration 37\n",
            "Meta Train Error 0.09889591205865145\n",
            "Meta Train Accuracy 0.9703125022351742\n",
            "Meta Valid Error 1.30265942402184\n",
            "Meta Valid Accuracy 0.6781250117346644\n",
            "Valid Error: 1.234915\n",
            "Valid Accuracy: 0.712500\n",
            "\n",
            "\n",
            "Iteration 38\n",
            "Meta Train Error 0.06765554094454274\n",
            "Meta Train Accuracy 0.9812500011175871\n",
            "Meta Valid Error 1.3880676236003637\n",
            "Meta Valid Accuracy 0.6593750137835741\n",
            "Valid Error: 1.353256\n",
            "Valid Accuracy: 0.683333\n",
            "\n",
            "\n",
            "Iteration 39\n",
            "Meta Train Error 0.10228138306410983\n",
            "Meta Train Accuracy 0.9687500018626451\n",
            "Meta Valid Error 1.408842128701508\n",
            "Meta Valid Accuracy 0.6437500100582838\n",
            "Valid Error: 1.262094\n",
            "Valid Accuracy: 0.720833\n",
            "\n",
            "\n",
            "Iteration 40\n",
            "Meta Train Error 0.043048701278166845\n",
            "Meta Train Accuracy 0.990624999627471\n",
            "Meta Valid Error 1.475582119077444\n",
            "Meta Valid Accuracy 0.6421875115483999\n",
            "Valid Error: 1.392223\n",
            "Valid Accuracy: 0.683333\n",
            "\n",
            "\n",
            "Iteration 41\n",
            "Meta Train Error 0.0649963894393295\n",
            "Meta Train Accuracy 0.9796874988824129\n",
            "Meta Valid Error 1.3863403731957078\n",
            "Meta Valid Accuracy 0.6578125078231096\n",
            "Valid Error: 1.424387\n",
            "Valid Accuracy: 0.708333\n",
            "\n",
            "\n",
            "Iteration 42\n",
            "Meta Train Error 0.10787772078765556\n",
            "Meta Train Accuracy 0.9671875014901161\n",
            "Meta Valid Error 1.5652729868888855\n",
            "Meta Valid Accuracy 0.6281250109896064\n",
            "Valid Error: 1.551446\n",
            "Valid Accuracy: 0.679167\n",
            "\n",
            "\n",
            "Iteration 43\n",
            "Meta Train Error 0.08465334435459226\n",
            "Meta Train Accuracy 0.9796874988824129\n",
            "Meta Valid Error 1.4660981995984912\n",
            "Meta Valid Accuracy 0.6671875137835741\n",
            "Valid Error: 1.641152\n",
            "Valid Accuracy: 0.650000\n",
            "\n",
            "\n",
            "Iteration 44\n",
            "Meta Train Error 0.05479582519910764\n",
            "Meta Train Accuracy 0.9812499973922968\n",
            "Meta Valid Error 1.4001089427620173\n",
            "Meta Valid Accuracy 0.6718750102445483\n",
            "Valid Error: 1.445800\n",
            "Valid Accuracy: 0.712500\n",
            "\n",
            "\n",
            "Iteration 45\n",
            "Meta Train Error 0.05806286913866643\n",
            "Meta Train Accuracy 0.9890624992549419\n",
            "Meta Valid Error 1.3398913908749819\n",
            "Meta Valid Accuracy 0.7046875124797225\n",
            "Valid Error: 1.371131\n",
            "Valid Accuracy: 0.712500\n",
            "\n",
            "** best val acc: 0.741667 **\n",
            "\n",
            "\n",
            "Iteration 46\n",
            "Meta Train Error 0.029299173067556694\n",
            "Meta Train Accuracy 0.9906249977648258\n",
            "Meta Valid Error 1.7014946639537811\n",
            "Meta Valid Accuracy 0.6406250111758709\n",
            "Valid Error: 1.267534\n",
            "Valid Accuracy: 0.741667\n",
            "\n",
            "** best val acc: 0.775000 **\n",
            "\n",
            "\n",
            "Iteration 47\n",
            "Meta Train Error 0.05615931258944329\n",
            "Meta Train Accuracy 0.9828124977648258\n",
            "Meta Valid Error 1.680443461984396\n",
            "Meta Valid Accuracy 0.6468750163912773\n",
            "Valid Error: 1.212025\n",
            "Valid Accuracy: 0.775000\n",
            "\n",
            "\n",
            "Iteration 48\n",
            "Meta Train Error 0.059256364722386934\n",
            "Meta Train Accuracy 0.984375\n",
            "Meta Valid Error 1.6254603788256645\n",
            "Meta Valid Accuracy 0.6578125106170774\n",
            "Valid Error: 1.221608\n",
            "Valid Accuracy: 0.762500\n",
            "\n",
            "\n",
            "Iteration 49\n",
            "Meta Train Error 0.019071979564614594\n",
            "Meta Train Accuracy 0.9953124988824129\n",
            "Meta Valid Error 1.6121333427727222\n",
            "Meta Valid Accuracy 0.6593750100582838\n",
            "Valid Error: 1.707428\n",
            "Valid Accuracy: 0.687500\n",
            "\n",
            "\n",
            "Iteration 50\n",
            "Meta Train Error 0.04850294001516886\n",
            "Meta Train Accuracy 0.9859374966472387\n",
            "Meta Valid Error 1.6496146898716688\n",
            "Meta Valid Accuracy 0.6578125115483999\n",
            "Valid Error: 1.531390\n",
            "Valid Accuracy: 0.662500\n",
            "\n",
            "\n",
            "Iteration 51\n",
            "Meta Train Error 0.028253619537281338\n",
            "Meta Train Accuracy 0.9906249977648258\n",
            "Meta Valid Error 1.492141267284751\n",
            "Meta Valid Accuracy 0.6875000139698386\n",
            "Valid Error: 1.591948\n",
            "Valid Accuracy: 0.695833\n",
            "\n",
            "\n",
            "Iteration 52\n",
            "Meta Train Error 0.03786143854085822\n",
            "Meta Train Accuracy 0.9859374985098839\n",
            "Meta Valid Error 1.4854167997837067\n",
            "Meta Valid Accuracy 0.664062513038516\n",
            "Valid Error: 1.709279\n",
            "Valid Accuracy: 0.650000\n",
            "\n",
            "\n",
            "Iteration 53\n",
            "Meta Train Error 0.04963434743694961\n",
            "Meta Train Accuracy 0.9890624992549419\n",
            "Meta Valid Error 1.5995076410472393\n",
            "Meta Valid Accuracy 0.6640625102445483\n",
            "Valid Error: 1.650585\n",
            "Valid Accuracy: 0.687500\n",
            "\n",
            "\n",
            "Iteration 54\n",
            "Meta Train Error 0.019327656751556788\n",
            "Meta Train Accuracy 0.9921874981373549\n",
            "Meta Valid Error 1.5087363701313734\n",
            "Meta Valid Accuracy 0.676562512293458\n",
            "Valid Error: 1.473995\n",
            "Valid Accuracy: 0.720833\n",
            "\n",
            "\n",
            "Iteration 55\n",
            "Meta Train Error 0.01976261600793805\n",
            "Meta Train Accuracy 0.9937499985098839\n",
            "Meta Valid Error 1.6031161174178123\n",
            "Meta Valid Accuracy 0.662500012665987\n",
            "Valid Error: 1.334281\n",
            "Valid Accuracy: 0.737500\n",
            "\n",
            "\n",
            "Iteration 56\n",
            "Meta Train Error 0.088270718268177\n",
            "Meta Train Accuracy 0.9749999977648258\n",
            "Meta Valid Error 1.6391425281763077\n",
            "Meta Valid Accuracy 0.6640625149011612\n",
            "Valid Error: 1.504829\n",
            "Valid Accuracy: 0.729167\n",
            "\n",
            "\n",
            "Iteration 57\n",
            "Meta Train Error 0.028739872621372342\n",
            "Meta Train Accuracy 0.9906249977648258\n",
            "Meta Valid Error 1.749295275658369\n",
            "Meta Valid Accuracy 0.635937511920929\n",
            "Valid Error: 1.489697\n",
            "Valid Accuracy: 0.708333\n",
            "\n",
            "\n",
            "Iteration 58\n",
            "Meta Train Error 0.05693640872777905\n",
            "Meta Train Accuracy 0.9859374985098839\n",
            "Meta Valid Error 1.5257802437990904\n",
            "Meta Valid Accuracy 0.6812500059604645\n",
            "Valid Error: 1.604422\n",
            "Valid Accuracy: 0.687500\n",
            "\n",
            "\n",
            "Iteration 59\n",
            "Meta Train Error 0.0700402346192277\n",
            "Meta Train Accuracy 0.9765624981373549\n",
            "Meta Valid Error 1.7472172484267503\n",
            "Meta Valid Accuracy 0.6453125104308128\n",
            "Valid Error: 1.600965\n",
            "Valid Accuracy: 0.712500\n",
            "\n",
            "\n",
            "Iteration 60\n",
            "Meta Train Error 0.028024012892274186\n",
            "Meta Train Accuracy 0.9890624973922968\n",
            "Meta Valid Error 1.5666608586907387\n",
            "Meta Valid Accuracy 0.6875000149011612\n",
            "Valid Error: 1.489811\n",
            "Valid Accuracy: 0.720833\n",
            "\n",
            "\n",
            "Iteration 61\n",
            "Meta Train Error 0.02587903555831872\n",
            "Meta Train Accuracy 0.993750000372529\n",
            "Meta Valid Error 1.6399439256638288\n",
            "Meta Valid Accuracy 0.6765625085681677\n",
            "Valid Error: 1.283969\n",
            "Valid Accuracy: 0.716667\n",
            "\n",
            "** best val acc: 0.787500 **\n",
            "\n",
            "\n",
            "Iteration 62\n",
            "Meta Train Error 0.0164019023795845\n",
            "Meta Train Accuracy 0.9968749992549419\n",
            "Meta Valid Error 1.5916048251092434\n",
            "Meta Valid Accuracy 0.6625000154599547\n",
            "Valid Error: 1.260555\n",
            "Valid Accuracy: 0.787500\n",
            "\n",
            "\n",
            "Iteration 63\n",
            "Meta Train Error 0.03469478085753508\n",
            "Meta Train Accuracy 0.9875000007450581\n",
            "Meta Valid Error 1.5359358955174685\n",
            "Meta Valid Accuracy 0.7062500137835741\n",
            "Valid Error: 1.455706\n",
            "Valid Accuracy: 0.708333\n",
            "\n",
            "\n",
            "Iteration 64\n",
            "Meta Train Error 0.042012557583802845\n",
            "Meta Train Accuracy 0.9906249977648258\n",
            "Meta Valid Error 1.5748716369271278\n",
            "Meta Valid Accuracy 0.6968750143423676\n",
            "Valid Error: 1.414113\n",
            "Valid Accuracy: 0.750000\n",
            "\n",
            "\n",
            "Iteration 65\n",
            "Meta Train Error 0.010901666712015867\n",
            "Meta Train Accuracy 0.998437499627471\n",
            "Meta Valid Error 1.7863435912877321\n",
            "Meta Valid Accuracy 0.6531250132247806\n",
            "Valid Error: 1.600740\n",
            "Valid Accuracy: 0.720833\n",
            "\n",
            "\n",
            "Iteration 66\n",
            "Meta Train Error 0.019135931390337646\n",
            "Meta Train Accuracy 0.9968749992549419\n",
            "Meta Valid Error 1.6822948344051838\n",
            "Meta Valid Accuracy 0.6625000135973096\n",
            "Valid Error: 1.577875\n",
            "Valid Accuracy: 0.704167\n",
            "\n",
            "\n",
            "Iteration 67\n",
            "Meta Train Error 0.033946807612665\n",
            "Meta Train Accuracy 0.9937499985098839\n",
            "Meta Valid Error 1.8510068776085973\n",
            "Meta Valid Accuracy 0.6390625163912773\n",
            "Valid Error: 1.788573\n",
            "Valid Accuracy: 0.662500\n",
            "\n",
            "\n",
            "Iteration 68\n",
            "Meta Train Error 0.05273222015603096\n",
            "Meta Train Accuracy 0.9906249977648258\n",
            "Meta Valid Error 2.0075760148465633\n",
            "Meta Valid Accuracy 0.6312500163912773\n",
            "Valid Error: 2.036995\n",
            "Valid Accuracy: 0.637500\n",
            "\n",
            "\n",
            "Iteration 69\n",
            "Meta Train Error 0.02074561447807355\n",
            "Meta Train Accuracy 0.9937499985098839\n",
            "Meta Valid Error 1.8457210380584002\n",
            "Meta Valid Accuracy 0.6500000143423676\n",
            "Valid Error: 1.671838\n",
            "Valid Accuracy: 0.700000\n",
            "\n",
            "\n",
            "Iteration 70\n",
            "Meta Train Error 0.008913025943911634\n",
            "Meta Train Accuracy 0.9953124988824129\n",
            "Meta Valid Error 1.832430594600737\n",
            "Meta Valid Accuracy 0.6687500141561031\n",
            "Valid Error: 1.635714\n",
            "Valid Accuracy: 0.708333\n"
          ]
        }
      ],
      "source": [
        "meta_train(ways, shots, meta_lr, fast_lr, meta_batch_size, adaptation_steps, num_iterations)"
      ]
    },
    {
      "cell_type": "markdown",
      "metadata": {
        "id": "nTzzqH0MJcYf"
      },
      "source": [
        "##### **Evaluate**"
      ]
    },
    {
      "cell_type": "code",
      "execution_count": null,
      "metadata": {
        "id": "DyW3FjX1JcYg"
      },
      "outputs": [],
      "source": [
        "model = torch.load(MAML_path)"
      ]
    },
    {
      "cell_type": "code",
      "execution_count": null,
      "metadata": {
        "id": "gVpUOWTcJcYg",
        "colab": {
          "base_uri": "https://localhost:8080/"
        },
        "outputId": "666e1fb7-bf8e-42aa-c7c7-1765d6784878"
      },
      "outputs": [
        {
          "output_type": "execute_result",
          "data": {
            "text/plain": [
              "(1.2605555693308512, tensor(0.7875, device='cuda:0', dtype=torch.float64))"
            ]
          },
          "metadata": {},
          "execution_count": 69
        }
      ],
      "source": [
        "evaluate_model(model, loss, dataloaders_rgb['valid'], dataloader_rgb_sizes['valid'], dataset_sizes['valid'])"
      ]
    },
    {
      "cell_type": "code",
      "execution_count": null,
      "metadata": {
        "id": "dJPfTrCLJcYg",
        "colab": {
          "base_uri": "https://localhost:8080/"
        },
        "outputId": "92bd7789-14f4-4034-9ebd-aa2889c7be98"
      },
      "outputs": [
        {
          "output_type": "execute_result",
          "data": {
            "text/plain": [
              "(1.3720413382848105, tensor(0.7567, device='cuda:0', dtype=torch.float64))"
            ]
          },
          "metadata": {},
          "execution_count": 70
        }
      ],
      "source": [
        "evaluate_model(model, loss, dataloaders_rgb['test'], dataloader_rgb_sizes['test'], dataset_sizes['test'])"
      ]
    },
    {
      "cell_type": "code",
      "execution_count": null,
      "metadata": {
        "id": "tphPqtqtJcYg"
      },
      "outputs": [],
      "source": [
        "torch.save(model, '/content/drive/MyDrive/AI Projects/MAML models/MAML_head_vgg11_3.pt')"
      ]
    },
    {
      "cell_type": "markdown",
      "metadata": {
        "id": "s1yAdFKxRVBE"
      },
      "source": [
        "#### **Base Model**"
      ]
    },
    {
      "cell_type": "markdown",
      "metadata": {
        "id": "XJzmSnGD7L8j"
      },
      "source": [
        "##### **VGG11**\n",
        "64, shot = 10, adaption = 10"
      ]
    },
    {
      "cell_type": "markdown",
      "metadata": {
        "id": "JsJNGckwNpmW"
      },
      "source": [
        "###### **Configuration**"
      ]
    },
    {
      "cell_type": "code",
      "source": [
        "#64 shot = 10, adaption = 10"
      ],
      "metadata": {
        "id": "v8ubtJRneU4b"
      },
      "execution_count": null,
      "outputs": []
    },
    {
      "cell_type": "code",
      "execution_count": null,
      "metadata": {
        "colab": {
          "base_uri": "https://localhost:8080/"
        },
        "id": "vCnoVyE28gfG",
        "outputId": "495ab1ec-bbfa-447b-cf18-67607ef0f2b0"
      },
      "outputs": [
        {
          "name": "stderr",
          "output_type": "stream",
          "text": [
            "/usr/local/lib/python3.10/dist-packages/torchvision/models/_utils.py:208: UserWarning: The parameter 'pretrained' is deprecated since 0.13 and may be removed in the future, please use 'weights' instead.\n",
            "  warnings.warn(\n",
            "/usr/local/lib/python3.10/dist-packages/torchvision/models/_utils.py:223: UserWarning: Arguments other than a weight enum or `None` for 'weights' are deprecated since 0.13 and may be removed in the future. The current behavior is equivalent to passing `weights=VGG11_BN_Weights.IMAGENET1K_V1`. You can also use `weights=VGG11_BN_Weights.DEFAULT` to get the most up-to-date weights.\n",
            "  warnings.warn(msg)\n",
            "Downloading: \"https://download.pytorch.org/models/vgg11_bn-6002323d.pth\" to /root/.cache/torch/hub/checkpoints/vgg11_bn-6002323d.pth\n",
            "100%|██████████| 507M/507M [00:09<00:00, 53.4MB/s]\n"
          ]
        },
        {
          "data": {
            "text/plain": [
              "Sequential(\n",
              "  (0): Linear(in_features=25088, out_features=2048, bias=True)\n",
              "  (1): ReLU()\n",
              "  (2): Dropout(p=0.9, inplace=False)\n",
              "  (3): Linear(in_features=2048, out_features=1024, bias=True)\n",
              "  (4): Sigmoid()\n",
              "  (5): Dropout(p=0.9, inplace=False)\n",
              "  (6): Linear(in_features=1024, out_features=2, bias=True)\n",
              ")"
            ]
          },
          "execution_count": 60,
          "metadata": {},
          "output_type": "execute_result"
        }
      ],
      "source": [
        "vgg11 = torchvision.models.vgg11_bn(pretrained=True)\n",
        "num_ftrs = vgg11.classifier[0].in_features\n",
        "vgg11.classifier = nn.Sequential(\n",
        "    nn.Linear(num_ftrs, 2048),\n",
        "    nn.ReLU(),\n",
        "    nn.Dropout(0.9),\n",
        "    nn.Linear(2048, 1024),\n",
        "    nn.Sigmoid(),\n",
        "    nn.Dropout(0.9),\n",
        "    nn.Linear(1024, 2)\n",
        ")\n",
        "MAML_path = \"/content/drive/MyDrive/AI Projects/Meta-learning vision project/MAML_head_vgg11.pt\"\n",
        "vgg11.classifier"
      ]
    },
    {
      "cell_type": "markdown",
      "metadata": {
        "id": "q4VxmULuRn3B"
      },
      "source": [
        "###### **Train**"
      ]
    },
    {
      "cell_type": "code",
      "execution_count": null,
      "metadata": {
        "id": "C8evXJiV64Pz"
      },
      "outputs": [],
      "source": [
        "meta_lr=1e-3\n",
        "fast_lr=1e-3\n",
        "adaptation_steps=10\n",
        "num_iterations=50\n",
        "seed=42\n",
        "\n",
        "# Create model\n",
        "model = vgg11\n",
        "model.to(device)\n",
        "maml = l2l.algorithms.MAML(model, lr=fast_lr, first_order=False, allow_nograd=True)\n",
        "opt = torch.optim.Adam(filter(lambda p: p.requires_grad, maml.parameters()), meta_lr)\n",
        "loss = nn.CrossEntropyLoss()"
      ]
    },
    {
      "cell_type": "code",
      "execution_count": null,
      "metadata": {
        "colab": {
          "base_uri": "https://localhost:8080/"
        },
        "id": "PEvG-ukt5l0u",
        "outputId": "8f48703e-ec58-4eb7-dadf-cf2911fcd9d2"
      },
      "outputs": [
        {
          "name": "stdout",
          "output_type": "stream",
          "text": [
            "\n",
            "\n",
            "Iteration 1\n",
            "Meta Train Error 0.813240384683013\n",
            "Meta Train Accuracy 0.5328125087544322\n",
            "Meta Valid Error 0.8616312202066183\n",
            "Meta Valid Accuracy 0.5031250081956387\n",
            "\n",
            "\n",
            "Iteration 2\n",
            "Meta Train Error 0.9225683398544788\n",
            "Meta Train Accuracy 0.5000000121071935\n",
            "Meta Valid Error 0.9172832202166319\n",
            "Meta Valid Accuracy 0.4937500115483999\n",
            "\n",
            "\n",
            "Iteration 3\n",
            "Meta Train Error 0.8668925389647484\n",
            "Meta Train Accuracy 0.528125012293458\n",
            "Meta Valid Error 0.8840543460100889\n",
            "Meta Valid Accuracy 0.5421875128522515\n",
            "\n",
            "\n",
            "Iteration 4\n",
            "Meta Train Error 0.7893159557133913\n",
            "Meta Train Accuracy 0.5406250152736902\n",
            "Meta Valid Error 0.8251598887145519\n",
            "Meta Valid Accuracy 0.5453125070780516\n",
            "\n",
            "\n",
            "Iteration 5\n",
            "Meta Train Error 0.751199415884912\n",
            "Meta Train Accuracy 0.5703125093132257\n",
            "Meta Valid Error 0.7692701797932386\n",
            "Meta Valid Accuracy 0.5765625098720193\n",
            "\n",
            "\n",
            "Iteration 6\n",
            "Meta Train Error 0.7073700977489352\n",
            "Meta Train Accuracy 0.6265625134110451\n",
            "Meta Valid Error 0.8464559074491262\n",
            "Meta Valid Accuracy 0.5437500141561031\n",
            "\n",
            "\n",
            "Iteration 7\n",
            "Meta Train Error 0.6489816764369607\n",
            "Meta Train Accuracy 0.6671875109896064\n",
            "Meta Valid Error 0.7556084953248501\n",
            "Meta Valid Accuracy 0.6187500134110451\n",
            "\n",
            "\n",
            "Iteration 8\n",
            "Meta Train Error 0.6598426988348365\n",
            "Meta Train Accuracy 0.675000011920929\n",
            "Meta Valid Error 0.7714388454332948\n",
            "Meta Valid Accuracy 0.6015625111758709\n",
            "\n",
            "\n",
            "Iteration 9\n",
            "Meta Train Error 0.5980341555550694\n",
            "Meta Train Accuracy 0.7062500072643161\n",
            "Meta Valid Error 0.7998667620122433\n",
            "Meta Valid Accuracy 0.6156250080093741\n",
            "\n",
            "\n",
            "Iteration 10\n",
            "Meta Train Error 0.5787595976144075\n",
            "Meta Train Accuracy 0.7375000100582838\n",
            "Meta Valid Error 0.7996484916657209\n",
            "Meta Valid Accuracy 0.6375000141561031\n",
            "\n",
            "\n",
            "Iteration 11\n",
            "Meta Train Error 0.5695050526410341\n",
            "Meta Train Accuracy 0.753125011920929\n",
            "Meta Valid Error 0.7708873506635427\n",
            "Meta Valid Accuracy 0.6640625139698386\n",
            "\n",
            "\n",
            "Iteration 12\n",
            "Meta Train Error 0.46752493968233466\n",
            "Meta Train Accuracy 0.823437511920929\n",
            "Meta Valid Error 0.7958078272640705\n",
            "Meta Valid Accuracy 0.6468750182539225\n",
            "\n",
            "\n",
            "Iteration 13\n",
            "Meta Train Error 0.46277004946023226\n",
            "Meta Train Accuracy 0.812500013038516\n",
            "Meta Valid Error 0.759435529820621\n",
            "Meta Valid Accuracy 0.671875013038516\n",
            "\n",
            "\n",
            "Iteration 14\n",
            "Meta Train Error 0.5348011627793312\n",
            "Meta Train Accuracy 0.7828125171363354\n",
            "Meta Valid Error 0.7201218837872148\n",
            "Meta Valid Accuracy 0.6890625106170774\n",
            "\n",
            "\n",
            "Iteration 15\n",
            "Meta Train Error 0.5087601193226874\n",
            "Meta Train Accuracy 0.7953125145286322\n",
            "Meta Valid Error 0.7680556094273925\n",
            "Meta Valid Accuracy 0.7000000141561031\n",
            "\n",
            "\n",
            "Iteration 16\n",
            "Meta Train Error 0.3416028758510947\n",
            "Meta Train Accuracy 0.8453125134110451\n",
            "Meta Valid Error 0.7000147299841046\n",
            "Meta Valid Accuracy 0.7296875100582838\n",
            "\n",
            "\n",
            "Iteration 17\n",
            "Meta Train Error 0.38228527014143765\n",
            "Meta Train Accuracy 0.848437512293458\n",
            "Meta Valid Error 0.8622914412990212\n",
            "Meta Valid Accuracy 0.6546875163912773\n",
            "\n",
            "\n",
            "Iteration 18\n",
            "Meta Train Error 0.3578467534389347\n",
            "Meta Train Accuracy 0.8515625149011612\n",
            "Meta Valid Error 0.7166855577379465\n",
            "Meta Valid Accuracy 0.7281250134110451\n",
            "\n",
            "\n",
            "Iteration 19\n",
            "Meta Train Error 0.36171631421893835\n",
            "Meta Train Accuracy 0.8437500167638063\n",
            "Meta Valid Error 0.7674543131142855\n",
            "Meta Valid Accuracy 0.6875000111758709\n",
            "\n",
            "\n",
            "Iteration 20\n",
            "Meta Train Error 0.29609260032884777\n",
            "Meta Train Accuracy 0.8968750108033419\n",
            "Meta Valid Error 0.8347944254055619\n",
            "Meta Valid Accuracy 0.6609375150874257\n",
            "\n",
            "\n",
            "Iteration 21\n",
            "Meta Train Error 0.3324043464381248\n",
            "Meta Train Accuracy 0.8750000167638063\n",
            "Meta Valid Error 0.9068232476711273\n",
            "Meta Valid Accuracy 0.6562500158324838\n",
            "\n",
            "\n",
            "Iteration 22\n",
            "Meta Train Error 0.30015216185711324\n",
            "Meta Train Accuracy 0.895312512293458\n",
            "Meta Valid Error 0.8011490842327476\n",
            "Meta Valid Accuracy 0.676562512293458\n",
            "\n",
            "\n",
            "Iteration 23\n",
            "Meta Train Error 0.2911376991542056\n",
            "Meta Train Accuracy 0.9000000115483999\n",
            "Meta Valid Error 0.7950866390019655\n",
            "Meta Valid Accuracy 0.6906250147148967\n",
            "\n",
            "\n",
            "Iteration 24\n",
            "Meta Train Error 0.26741717546246946\n",
            "Meta Train Accuracy 0.9125000089406967\n",
            "Meta Valid Error 0.7299976106733084\n",
            "Meta Valid Accuracy 0.7156250104308128\n",
            "\n",
            "\n",
            "Iteration 25\n",
            "Meta Train Error 0.25212319439742714\n",
            "Meta Train Accuracy 0.898437513038516\n",
            "Meta Valid Error 0.7257621972821653\n",
            "Meta Valid Accuracy 0.7390625104308128\n",
            "\n",
            "\n",
            "Iteration 26\n",
            "Meta Train Error 0.22827273944858462\n",
            "Meta Train Accuracy 0.929687513038516\n",
            "Meta Valid Error 0.9928102069534361\n",
            "Meta Valid Accuracy 0.6390625135973096\n",
            "\n",
            "\n",
            "Iteration 27\n",
            "Meta Train Error 0.1774940328905359\n",
            "Meta Train Accuracy 0.9421875048428774\n",
            "Meta Valid Error 0.7483026180416346\n",
            "Meta Valid Accuracy 0.7343750111758709\n",
            "\n",
            "\n",
            "Iteration 28\n",
            "Meta Train Error 0.16968697390984744\n",
            "Meta Train Accuracy 0.9421875011175871\n",
            "Meta Valid Error 0.7530532705131918\n",
            "Meta Valid Accuracy 0.7203125106170774\n",
            "\n",
            "\n",
            "Iteration 29\n",
            "Meta Train Error 0.12725609628250822\n",
            "Meta Train Accuracy 0.9562500044703484\n",
            "Meta Valid Error 0.8166364035569131\n",
            "Meta Valid Accuracy 0.709375012665987\n",
            "\n",
            "\n",
            "Iteration 30\n",
            "Meta Train Error 0.1598986226017587\n",
            "Meta Train Accuracy 0.9468750040978193\n",
            "Meta Valid Error 0.8976136865094304\n",
            "Meta Valid Accuracy 0.7234375113621354\n",
            "\n",
            "\n",
            "Iteration 31\n",
            "Meta Train Error 0.11066799453692511\n",
            "Meta Train Accuracy 0.9687499962747097\n",
            "Meta Valid Error 0.780077310744673\n",
            "Meta Valid Accuracy 0.7484375163912773\n",
            "\n",
            "\n",
            "Iteration 32\n",
            "Meta Train Error 0.10197177471127361\n",
            "Meta Train Accuracy 0.9734375029802322\n",
            "Meta Valid Error 0.8904653564095497\n",
            "Meta Valid Accuracy 0.7343750037252903\n",
            "\n",
            "\n",
            "Iteration 33\n",
            "Meta Train Error 0.1447843576897867\n",
            "Meta Train Accuracy 0.9515625070780516\n",
            "Meta Valid Error 1.038343533873558\n",
            "Meta Valid Accuracy 0.6906250081956387\n",
            "\n",
            "\n",
            "Iteration 34\n",
            "Meta Train Error 0.10689074467518367\n",
            "Meta Train Accuracy 0.9703124985098839\n",
            "Meta Valid Error 1.0773700485005975\n",
            "Meta Valid Accuracy 0.7109375139698386\n",
            "\n",
            "\n",
            "Iteration 35\n",
            "Meta Train Error 0.13446783646941185\n",
            "Meta Train Accuracy 0.9531250037252903\n",
            "Meta Valid Error 0.9600491146557033\n",
            "Meta Valid Accuracy 0.7296875016763806\n",
            "\n",
            "\n",
            "Iteration 36\n",
            "Meta Train Error 0.1469628757040482\n",
            "Meta Train Accuracy 0.9546875022351742\n",
            "Meta Valid Error 1.112419874407351\n",
            "Meta Valid Accuracy 0.701562512665987\n",
            "\n",
            "\n",
            "Iteration 37\n",
            "Meta Train Error 0.17300680343760177\n",
            "Meta Train Accuracy 0.9437500052154064\n",
            "Meta Valid Error 1.1556439250707626\n",
            "Meta Valid Accuracy 0.6859375117346644\n",
            "\n",
            "\n",
            "Iteration 38\n",
            "Meta Train Error 0.14112129504792392\n",
            "Meta Train Accuracy 0.9578125067055225\n",
            "Meta Valid Error 1.0943369548767805\n",
            "Meta Valid Accuracy 0.6953125055879354\n",
            "\n",
            "\n",
            "Iteration 39\n",
            "Meta Train Error 0.18350887205451727\n",
            "Meta Train Accuracy 0.9359375070780516\n",
            "Meta Valid Error 1.1693078484386206\n",
            "Meta Valid Accuracy 0.6921875067055225\n",
            "\n",
            "\n",
            "Iteration 40\n",
            "Meta Train Error 0.12225099292118102\n",
            "Meta Train Accuracy 0.9593750033527613\n",
            "Meta Valid Error 1.007012608461082\n",
            "Meta Valid Accuracy 0.7328125117346644\n",
            "\n",
            "\n",
            "Iteration 41\n",
            "Meta Train Error 0.16499703022418544\n",
            "Meta Train Accuracy 0.951562499627471\n",
            "Meta Valid Error 1.1184158395044506\n",
            "Meta Valid Accuracy 0.7015625145286322\n",
            "\n",
            "\n",
            "Iteration 42\n",
            "Meta Train Error 0.08816691813990474\n",
            "Meta Train Accuracy 0.9703125022351742\n",
            "Meta Valid Error 0.9785206168889999\n",
            "Meta Valid Accuracy 0.7296875100582838\n",
            "\n",
            "\n",
            "Iteration 43\n",
            "Meta Train Error 0.08117998242960311\n",
            "Meta Train Accuracy 0.9718750026077032\n",
            "Meta Valid Error 0.9902888322249055\n",
            "Meta Valid Accuracy 0.7312500141561031\n",
            "\n",
            "\n",
            "Iteration 44\n",
            "Meta Train Error 0.10549308807821944\n",
            "Meta Train Accuracy 0.9718750007450581\n",
            "Meta Valid Error 1.1649694815278053\n",
            "Meta Valid Accuracy 0.6687500113621354\n",
            "\n",
            "\n",
            "Iteration 45\n",
            "Meta Train Error 0.07994474400766194\n",
            "Meta Train Accuracy 0.9796874988824129\n",
            "Meta Valid Error 1.0808025430887938\n",
            "Meta Valid Accuracy 0.7000000150874257\n",
            "\n",
            "\n",
            "Iteration 46\n",
            "Meta Train Error 0.10884436350897886\n",
            "Meta Train Accuracy 0.9640625026077032\n",
            "Meta Valid Error 1.053099106065929\n",
            "Meta Valid Accuracy 0.7078125150874257\n",
            "\n",
            "\n",
            "Iteration 47\n",
            "Meta Train Error 0.0908759902958991\n",
            "Meta Train Accuracy 0.9750000033527613\n",
            "Meta Valid Error 1.0644170376472175\n",
            "Meta Valid Accuracy 0.6984375081956387\n",
            "\n",
            "\n",
            "Iteration 48\n",
            "Meta Train Error 0.07246139759081416\n",
            "Meta Train Accuracy 0.9781250022351742\n",
            "Meta Valid Error 1.057772628031671\n",
            "Meta Valid Accuracy 0.7125000078231096\n",
            "\n",
            "\n",
            "Iteration 49\n",
            "Meta Train Error 0.08296817399968859\n",
            "Meta Train Accuracy 0.978125000372529\n",
            "Meta Valid Error 1.0854968391358852\n",
            "Meta Valid Accuracy 0.7093750145286322\n",
            "\n",
            "\n",
            "Iteration 50\n",
            "Meta Train Error 0.11402817632188089\n",
            "Meta Train Accuracy 0.9687499981373549\n",
            "Meta Valid Error 1.0592304947786033\n",
            "Meta Valid Accuracy 0.717187506146729\n",
            "Meta Test Error 1.1384105635806918\n",
            "Meta Test Accuracy 0.6859375089406967\n"
          ]
        }
      ],
      "source": [
        "meta_train(ways, shots, meta_lr, fast_lr, meta_batch_size, adaptation_steps, num_iterations)"
      ]
    },
    {
      "cell_type": "markdown",
      "metadata": {
        "id": "vOpKGvsnmC6W"
      },
      "source": [
        "###### **Evaluate**"
      ]
    },
    {
      "cell_type": "code",
      "source": [
        "MAML_path = \"/content/drive/MyDrive/AI Projects/Meta-learning vision project/MAML_head_vgg11.pt\""
      ],
      "metadata": {
        "id": "QOXBHuo9F-Ik"
      },
      "execution_count": 90,
      "outputs": []
    },
    {
      "cell_type": "code",
      "execution_count": 91,
      "metadata": {
        "id": "QB4ACx5mmC6X"
      },
      "outputs": [],
      "source": [
        "model = torch.load(MAML_path)"
      ]
    },
    {
      "cell_type": "code",
      "execution_count": 92,
      "metadata": {
        "colab": {
          "base_uri": "https://localhost:8080/"
        },
        "id": "9GMu3snbmC6Y",
        "outputId": "208f328b-cc58-479d-bea3-c4198aa25baa"
      },
      "outputs": [
        {
          "output_type": "execute_result",
          "data": {
            "text/plain": [
              "(0.9531616131464641, tensor(0.7625, device='cuda:0', dtype=torch.float64))"
            ]
          },
          "metadata": {},
          "execution_count": 92
        }
      ],
      "source": [
        "evaluate_model(model, loss, dataloaders_rgb['valid'], dataloader_rgb_sizes['valid'], dataset_sizes['valid'])"
      ]
    },
    {
      "cell_type": "code",
      "execution_count": 93,
      "metadata": {
        "colab": {
          "base_uri": "https://localhost:8080/"
        },
        "id": "bmS0fEvlmC6Y",
        "outputId": "c870cdda-a7da-4ac8-9d67-f47c313075de"
      },
      "outputs": [
        {
          "output_type": "execute_result",
          "data": {
            "text/plain": [
              "(0.9328581269582112, tensor(0.7800, device='cuda:0', dtype=torch.float64))"
            ]
          },
          "metadata": {},
          "execution_count": 93
        }
      ],
      "source": [
        "evaluate_model(model, loss, dataloaders_rgb['test'], dataloader_rgb_sizes['test'], dataset_sizes['test'])"
      ]
    },
    {
      "cell_type": "code",
      "source": [
        "model.eval()\n",
        "outputs = model(x_test_rgb.to(device))\n",
        "_, preds = torch.max(outputs, 1)\n",
        "plot_confusionmatrix(preds.to('cpu'), y_head_test_tensor, classes)"
      ],
      "metadata": {
        "colab": {
          "base_uri": "https://localhost:8080/",
          "height": 504
        },
        "id": "_TbHqtbYF4ff",
        "outputId": "4e5b5321-ee63-4ba3-804d-dc235cce6397"
      },
      "execution_count": 94,
      "outputs": [
        {
          "output_type": "stream",
          "name": "stdout",
          "text": [
            "Confusion matrix\n"
          ]
        },
        {
          "output_type": "display_data",
          "data": {
            "text/plain": [
              "<Figure size 640x480 with 2 Axes>"
            ],
            "image/png": "[encoded data removed]"
          },
          "metadata": {}
        }
      ]
    },
    {
      "cell_type": "code",
      "execution_count": null,
      "metadata": {
        "id": "3NPDtQ1bmC6Z"
      },
      "outputs": [],
      "source": [
        "torch.save(model, '/content/drive/MyDrive/AI Projects/MAML models/MAML_head_vgg11.pt')"
      ]
    },
    {
      "cell_type": "markdown",
      "metadata": {
        "id": "yXEwRsY6-ybC"
      },
      "source": [
        "##### **VGG11**\n",
        "64, shot = 10, adaption = 10"
      ]
    },
    {
      "cell_type": "markdown",
      "metadata": {
        "id": "hHxYv7Ma-ybP"
      },
      "source": [
        "###### **Configuration**"
      ]
    },
    {
      "cell_type": "code",
      "source": [
        "#64 shot = 10, adaption = 10"
      ],
      "metadata": {
        "id": "5p8B_odn-ybP"
      },
      "execution_count": null,
      "outputs": []
    },
    {
      "cell_type": "code",
      "execution_count": null,
      "metadata": {
        "id": "k-qKl4u8-ybQ"
      },
      "outputs": [],
      "source": [
        "vgg11 = torchvision.models.vgg11_bn(pretrained=True)\n",
        "num_ftrs = vgg11.classifier[0].in_features\n",
        "vgg11.classifier = nn.Sequential(\n",
        "    nn.Linear(num_ftrs, 2048),\n",
        "    nn.ReLU(),\n",
        "    nn.Dropout(0.9),\n",
        "    nn.Linear(2048, 1024),\n",
        "    nn.Sigmoid(),\n",
        "    nn.Dropout(0.9),\n",
        "    nn.Linear(1024, 2)\n",
        ")\n",
        "MAML_path = \"/content/drive/MyDrive/AI Projects/Meta-learning vision project/MAML_head_vgg11_2.pt\"\n",
        "vgg11.classifier"
      ]
    },
    {
      "cell_type": "markdown",
      "metadata": {
        "id": "R9K9lmSf-ybQ"
      },
      "source": [
        "###### **Train**"
      ]
    },
    {
      "cell_type": "code",
      "execution_count": null,
      "metadata": {
        "id": "efDNZ4HE-ybS"
      },
      "outputs": [],
      "source": [
        "meta_lr=1e-3\n",
        "fast_lr=1e-3\n",
        "adaptation_steps=10\n",
        "num_iterations=50\n",
        "seed=42\n",
        "\n",
        "# Create model\n",
        "model = vgg11\n",
        "model.to(device)\n",
        "maml = l2l.algorithms.MAML(model, lr=fast_lr, first_order=False, allow_nograd=True)\n",
        "opt = torch.optim.Adam(filter(lambda p: p.requires_grad, maml.parameters()), meta_lr)\n",
        "loss = nn.CrossEntropyLoss()"
      ]
    },
    {
      "cell_type": "code",
      "execution_count": null,
      "metadata": {
        "id": "AVteZuqO-ybT"
      },
      "outputs": [],
      "source": [
        "meta_train(ways, shots, meta_lr, fast_lr, meta_batch_size, adaptation_steps, num_iterations)"
      ]
    },
    {
      "cell_type": "markdown",
      "metadata": {
        "id": "alMynxPA-ybT"
      },
      "source": [
        "###### **Evaluate**"
      ]
    },
    {
      "cell_type": "code",
      "source": [
        "loss = nn.CrossEntropyLoss()"
      ],
      "metadata": {
        "id": "ZF6zua2m_pGY"
      },
      "execution_count": 66,
      "outputs": []
    },
    {
      "cell_type": "code",
      "source": [
        "MAML_path = \"/content/drive/MyDrive/AI Projects/Meta-learning vision project/MAML_head_vgg11_2.pt\""
      ],
      "metadata": {
        "id": "hVCflDvB_F35"
      },
      "execution_count": 72,
      "outputs": []
    },
    {
      "cell_type": "code",
      "execution_count": 73,
      "metadata": {
        "id": "wCzTqwZq-ybT"
      },
      "outputs": [],
      "source": [
        "model = torch.load(MAML_path)"
      ]
    },
    {
      "cell_type": "code",
      "execution_count": 74,
      "metadata": {
        "colab": {
          "base_uri": "https://localhost:8080/"
        },
        "outputId": "fcccb509-1c7e-4486-8ef3-f764d437c157",
        "id": "duCVrFqK-ybU"
      },
      "outputs": [
        {
          "output_type": "execute_result",
          "data": {
            "text/plain": [
              "(0.7324079751968384, tensor(0.7875, device='cuda:0', dtype=torch.float64))"
            ]
          },
          "metadata": {},
          "execution_count": 74
        }
      ],
      "source": [
        "evaluate_model(model, loss, dataloaders_rgb['valid'], dataloader_rgb_sizes['valid'], dataset_sizes['valid'])"
      ]
    },
    {
      "cell_type": "code",
      "execution_count": 89,
      "metadata": {
        "colab": {
          "base_uri": "https://localhost:8080/"
        },
        "outputId": "9cea277c-23fc-43a3-d877-d6c7bf92e4d6",
        "id": "iNhD5M2k-ybU"
      },
      "outputs": [
        {
          "output_type": "execute_result",
          "data": {
            "text/plain": [
              "(0.7927149240175883, tensor(0.7800, device='cuda:0', dtype=torch.float64))"
            ]
          },
          "metadata": {},
          "execution_count": 89
        }
      ],
      "source": [
        "evaluate_model(model, loss, dataloaders_rgb['test'], dataloader_rgb_sizes['test'], dataset_sizes['test'])"
      ]
    },
    {
      "cell_type": "code",
      "source": [
        "model.eval()\n",
        "outputs = model(x_test_rgb.to(device))\n",
        "_, preds = torch.max(outputs, 1)\n",
        "plot_confusionmatrix(preds.to('cpu'), y_head_test_tensor, classes)"
      ],
      "metadata": {
        "colab": {
          "base_uri": "https://localhost:8080/",
          "height": 504
        },
        "id": "L9SOzyBtDNjM",
        "outputId": "7c3f0995-899d-4b3e-8a5b-0389caa1955c"
      },
      "execution_count": 88,
      "outputs": [
        {
          "output_type": "stream",
          "name": "stdout",
          "text": [
            "Confusion matrix\n"
          ]
        },
        {
          "output_type": "display_data",
          "data": {
            "text/plain": [
              "<Figure size 640x480 with 2 Axes>"
            ],
            "image/png": "[encoded data removed]"
          },
          "metadata": {}
        }
      ]
    },
    {
      "cell_type": "code",
      "execution_count": null,
      "metadata": {
        "id": "qNChArws-ybU"
      },
      "outputs": [],
      "source": [
        "torch.save(model, '/content/drive/MyDrive/AI Projects/MAML models/MAML_head_vgg11_2.pt')"
      ]
    },
    {
      "cell_type": "markdown",
      "metadata": {
        "id": "LhI8Q16llqRH"
      },
      "source": [
        "##### **VGG11**\n",
        "64, shot = 30, adaption = 5"
      ]
    },
    {
      "cell_type": "markdown",
      "metadata": {
        "id": "RKDwSBKjAQlW"
      },
      "source": [
        "###### **Configuration**"
      ]
    },
    {
      "cell_type": "code",
      "execution_count": null,
      "metadata": {
        "id": "PDdSxN_9T51j",
        "colab": {
          "base_uri": "https://localhost:8080/"
        },
        "outputId": "388dbfe4-dcf3-4126-9c3d-920ec4fe3648"
      },
      "outputs": [
        {
          "output_type": "stream",
          "name": "stderr",
          "text": [
            "/usr/local/lib/python3.10/dist-packages/torchvision/models/_utils.py:208: UserWarning: The parameter 'pretrained' is deprecated since 0.13 and may be removed in the future, please use 'weights' instead.\n",
            "  warnings.warn(\n",
            "/usr/local/lib/python3.10/dist-packages/torchvision/models/_utils.py:223: UserWarning: Arguments other than a weight enum or `None` for 'weights' are deprecated since 0.13 and may be removed in the future. The current behavior is equivalent to passing `weights=VGG11_BN_Weights.IMAGENET1K_V1`. You can also use `weights=VGG11_BN_Weights.DEFAULT` to get the most up-to-date weights.\n",
            "  warnings.warn(msg)\n",
            "Downloading: \"https://download.pytorch.org/models/vgg11_bn-6002323d.pth\" to /root/.cache/torch/hub/checkpoints/vgg11_bn-6002323d.pth\n",
            "100%|██████████| 507M/507M [00:11<00:00, 47.7MB/s]\n"
          ]
        },
        {
          "output_type": "execute_result",
          "data": {
            "text/plain": [
              "Sequential(\n",
              "  (0): Linear(in_features=25088, out_features=2048, bias=True)\n",
              "  (1): ReLU()\n",
              "  (2): Dropout(p=0.9, inplace=False)\n",
              "  (3): Linear(in_features=2048, out_features=1024, bias=True)\n",
              "  (4): Sigmoid()\n",
              "  (5): Dropout(p=0.9, inplace=False)\n",
              "  (6): Linear(in_features=1024, out_features=2, bias=True)\n",
              ")"
            ]
          },
          "metadata": {},
          "execution_count": 65
        }
      ],
      "source": [
        "vgg11 = torchvision.models.vgg11_bn(pretrained=True)\n",
        "num_ftrs = vgg11.classifier[0].in_features\n",
        "vgg11.classifier = nn.Sequential(\n",
        "    nn.Linear(num_ftrs, 2048),\n",
        "    nn.ReLU(),\n",
        "    nn.Dropout(0.9),\n",
        "    nn.Linear(2048, 1024),\n",
        "    nn.Sigmoid(),\n",
        "    nn.Dropout(0.9),\n",
        "    nn.Linear(1024, 2)\n",
        ")\n",
        "MAML_path = \"/content/drive/MyDrive/AI Projects/Meta-learning vision project/MAML_head_vgg11_3.pt\"\n",
        "vgg11.classifier"
      ]
    },
    {
      "cell_type": "markdown",
      "metadata": {
        "id": "9hsBKp7qAU7b"
      },
      "source": [
        "###### **Train**"
      ]
    },
    {
      "cell_type": "code",
      "execution_count": null,
      "metadata": {
        "id": "0bx-qIxGltTY"
      },
      "outputs": [],
      "source": [
        "meta_lr=1e-3\n",
        "fast_lr=1e-3\n",
        "adaptation_steps=5\n",
        "num_iterations=50\n",
        "\n",
        "\n",
        "# Create model\n",
        "vgg11.to(device)\n",
        "maml = l2l.algorithms.MAML(vgg11, lr=fast_lr, first_order=False, allow_nograd=True)\n",
        "opt = torch.optim.Adam(filter(lambda p: p.requires_grad, maml.parameters()), meta_lr)\n",
        "loss = nn.CrossEntropyLoss()"
      ]
    },
    {
      "cell_type": "code",
      "execution_count": null,
      "metadata": {
        "id": "m3pMHDOSlySv",
        "colab": {
          "base_uri": "https://localhost:8080/"
        },
        "outputId": "659660c3-3197-419f-f2c5-d8d40767cbbd"
      },
      "outputs": [
        {
          "output_type": "stream",
          "name": "stdout",
          "text": [
            "\n",
            "** best val acc: 0.733333 **\n",
            "\n",
            "\n",
            "Iteration 1\n",
            "Meta Train Error 0.885326674208045\n",
            "Meta Train Accuracy 0.5083333626389503\n",
            "Meta Valid Error 0.8837330676615238\n",
            "Meta Valid Accuracy 0.49895835295319557\n",
            "Valid Error: 0.619929\n",
            "Valid Accuracy: 0.733333\n",
            "\n",
            "\n",
            "Iteration 2\n",
            "Meta Train Error 0.8465750720351934\n",
            "Meta Train Accuracy 0.5453125294297934\n",
            "Meta Valid Error 0.9068031515926123\n",
            "Meta Valid Accuracy 0.49843752663582563\n",
            "Valid Error: 0.889595\n",
            "Valid Accuracy: 0.266667\n",
            "\n",
            "\n",
            "Iteration 3\n",
            "Meta Train Error 0.7967525068670511\n",
            "Meta Train Accuracy 0.5796875292435288\n",
            "Meta Valid Error 0.8594033028930426\n",
            "Meta Valid Accuracy 0.520312531851232\n",
            "Valid Error: 0.654053\n",
            "Valid Accuracy: 0.583333\n",
            "\n",
            "\n",
            "Iteration 4\n",
            "Meta Train Error 0.7096216399222612\n",
            "Meta Train Accuracy 0.6072917021811008\n",
            "Meta Valid Error 0.7795966099947691\n",
            "Meta Valid Accuracy 0.5640625283122063\n",
            "Valid Error: 0.652721\n",
            "Valid Accuracy: 0.604167\n",
            "\n",
            "\n",
            "Iteration 5\n",
            "Meta Train Error 0.63712371699512\n",
            "Meta Train Accuracy 0.7036458775401115\n",
            "Meta Valid Error 0.8315006718039513\n",
            "Meta Valid Accuracy 0.6119791939854622\n",
            "Valid Error: 0.839357\n",
            "Valid Accuracy: 0.600000\n",
            "\n",
            "\n",
            "Iteration 6\n",
            "Meta Train Error 0.6084315627813339\n",
            "Meta Train Accuracy 0.7088542021811008\n",
            "Meta Valid Error 0.775438267737627\n",
            "Meta Valid Accuracy 0.6177083645015955\n",
            "Valid Error: 0.708473\n",
            "Valid Accuracy: 0.629167\n",
            "\n",
            "\n",
            "Iteration 7\n",
            "Meta Train Error 0.6727919410914183\n",
            "Meta Train Accuracy 0.6656250357627869\n",
            "Meta Valid Error 0.8905388470739126\n",
            "Meta Valid Accuracy 0.5854167006909847\n",
            "Valid Error: 0.952298\n",
            "Valid Accuracy: 0.537500\n",
            "\n",
            "\n",
            "Iteration 8\n",
            "Meta Train Error 0.5245618186891079\n",
            "Meta Train Accuracy 0.7296875417232513\n",
            "Meta Valid Error 0.8453247286379337\n",
            "Meta Valid Accuracy 0.5864583635702729\n",
            "Valid Error: 0.851558\n",
            "Valid Accuracy: 0.508333\n",
            "\n",
            "\n",
            "Iteration 9\n",
            "Meta Train Error 0.42047737911343575\n",
            "Meta Train Accuracy 0.8067708779126406\n",
            "Meta Valid Error 0.7651297803968191\n",
            "Meta Valid Accuracy 0.6468750331550837\n",
            "Valid Error: 0.705259\n",
            "Valid Accuracy: 0.695833\n",
            "\n",
            "\n",
            "Iteration 10\n",
            "Meta Train Error 0.368920398876071\n",
            "Meta Train Accuracy 0.8338542133569717\n",
            "Meta Valid Error 0.7601419193670154\n",
            "Meta Valid Accuracy 0.6786458678543568\n",
            "Valid Error: 0.683823\n",
            "Valid Accuracy: 0.700000\n",
            "\n",
            "\n",
            "Iteration 11\n",
            "Meta Train Error 0.25365252466872334\n",
            "Meta Train Accuracy 0.9057292118668556\n",
            "Meta Valid Error 0.789920337498188\n",
            "Meta Valid Accuracy 0.6864583715796471\n",
            "Valid Error: 0.741763\n",
            "Valid Accuracy: 0.725000\n",
            "\n",
            "\n",
            "Iteration 12\n",
            "Meta Train Error 0.2162582352757454\n",
            "Meta Train Accuracy 0.9203125406056643\n",
            "Meta Valid Error 0.9004260450601578\n",
            "Meta Valid Accuracy 0.6828125361353159\n",
            "Valid Error: 0.920634\n",
            "Valid Accuracy: 0.712500\n",
            "\n",
            "\n",
            "Iteration 13\n",
            "Meta Train Error 0.20402607275173068\n",
            "Meta Train Accuracy 0.9302083775401115\n",
            "Meta Valid Error 0.8100852156057954\n",
            "Meta Valid Accuracy 0.72083337046206\n",
            "Valid Error: 0.996029\n",
            "Valid Accuracy: 0.725000\n",
            "\n",
            "\n",
            "Iteration 14\n",
            "Meta Train Error 0.1283697410253808\n",
            "Meta Train Accuracy 0.9572917129844427\n",
            "Meta Valid Error 0.9985616058111191\n",
            "Meta Valid Accuracy 0.7067708782851696\n",
            "Valid Error: 1.015806\n",
            "Valid Accuracy: 0.733333\n",
            "\n",
            "** best val acc: 0.783333 **\n",
            "\n",
            "\n",
            "Iteration 15\n",
            "Meta Train Error 0.07025212427834049\n",
            "Meta Train Accuracy 0.985416704788804\n",
            "Meta Valid Error 1.0380259938538074\n",
            "Meta Valid Accuracy 0.7052083741873503\n",
            "Valid Error: 0.854846\n",
            "Valid Accuracy: 0.783333\n",
            "\n",
            "\n",
            "Iteration 16\n",
            "Meta Train Error 0.09237444086465985\n",
            "Meta Train Accuracy 0.9708333779126406\n",
            "Meta Valid Error 1.093894511461258\n",
            "Meta Valid Accuracy 0.7109375391155481\n",
            "Valid Error: 1.116288\n",
            "Valid Accuracy: 0.737500\n",
            "\n",
            "\n",
            "Iteration 17\n",
            "Meta Train Error 0.0702766460890416\n",
            "Meta Train Accuracy 0.977604204788804\n",
            "Meta Valid Error 1.1372640188783407\n",
            "Meta Valid Accuracy 0.7130208723247051\n",
            "Valid Error: 1.440557\n",
            "Valid Accuracy: 0.691667\n",
            "\n",
            "\n",
            "Iteration 18\n",
            "Meta Train Error 0.06859522289596498\n",
            "Meta Train Accuracy 0.9822916984558105\n",
            "Meta Valid Error 1.216207703575492\n",
            "Meta Valid Accuracy 0.7177083734422922\n",
            "Valid Error: 1.793289\n",
            "Valid Accuracy: 0.633333\n",
            "\n",
            "\n",
            "Iteration 19\n",
            "Meta Train Error 0.1378241163911298\n",
            "Meta Train Accuracy 0.9588542059063911\n",
            "Meta Valid Error 1.4120807573199272\n",
            "Meta Valid Accuracy 0.6843750346451998\n",
            "Valid Error: 1.659081\n",
            "Valid Accuracy: 0.670833\n",
            "\n",
            "\n",
            "Iteration 20\n",
            "Meta Train Error 0.03528753700084053\n",
            "Meta Train Accuracy 0.989062525331974\n",
            "Meta Valid Error 1.3310517109930515\n",
            "Meta Valid Accuracy 0.6916667055338621\n",
            "Valid Error: 1.282275\n",
            "Valid Accuracy: 0.745833\n",
            "\n",
            "\n",
            "Iteration 21\n",
            "Meta Train Error 0.07889567245729268\n",
            "Meta Train Accuracy 0.9770833775401115\n",
            "Meta Valid Error 1.3236274253576994\n",
            "Meta Valid Accuracy 0.7000000420957804\n",
            "Valid Error: 1.278789\n",
            "Valid Accuracy: 0.750000\n",
            "\n",
            "\n",
            "Iteration 22\n",
            "Meta Train Error 0.05432857290725224\n",
            "Meta Train Accuracy 0.9833333641290665\n",
            "Meta Valid Error 1.4089571684598923\n",
            "Meta Valid Accuracy 0.67395837046206\n",
            "Valid Error: 1.283537\n",
            "Valid Accuracy: 0.758333\n",
            "\n",
            "\n",
            "Iteration 23\n",
            "Meta Train Error 0.04095250414684415\n",
            "Meta Train Accuracy 0.9875000286847353\n",
            "Meta Valid Error 1.3928246162831783\n",
            "Meta Valid Accuracy 0.6890625394880772\n",
            "Valid Error: 1.271274\n",
            "Valid Accuracy: 0.758333\n",
            "\n",
            "\n",
            "Iteration 24\n",
            "Meta Train Error 0.02679175317462068\n",
            "Meta Train Accuracy 0.9953125175088644\n",
            "Meta Valid Error 1.3499125335365534\n",
            "Meta Valid Accuracy 0.6911458726972342\n",
            "Valid Error: 1.259961\n",
            "Valid Accuracy: 0.729167\n",
            "\n",
            "\n",
            "Iteration 25\n",
            "Meta Train Error 0.043175918006454594\n",
            "Meta Train Accuracy 0.9875000324100256\n",
            "Meta Valid Error 1.497245755046606\n",
            "Meta Valid Accuracy 0.663541704416275\n",
            "Valid Error: 1.311061\n",
            "Valid Accuracy: 0.733333\n",
            "\n",
            "\n",
            "Iteration 26\n",
            "Meta Train Error 0.022554337920155376\n",
            "Meta Train Accuracy 0.9937500171363354\n",
            "Meta Valid Error 1.4733463637530804\n",
            "Meta Valid Accuracy 0.670312536880374\n",
            "Valid Error: 1.110208\n",
            "Valid Accuracy: 0.766667\n",
            "\n",
            "\n",
            "Iteration 27\n",
            "Meta Train Error 0.017707279439491685\n",
            "Meta Train Accuracy 0.9947916828095913\n",
            "Meta Valid Error 1.493141919374466\n",
            "Meta Valid Accuracy 0.6875000353902578\n",
            "Valid Error: 1.329329\n",
            "Valid Accuracy: 0.758333\n",
            "\n",
            "\n",
            "Iteration 28\n",
            "Meta Train Error 0.024232614887296222\n",
            "Meta Train Accuracy 0.9921875279396772\n",
            "Meta Valid Error 1.4624230992048979\n",
            "Meta Valid Accuracy 0.6807292085140944\n",
            "Valid Error: 1.849256\n",
            "Valid Accuracy: 0.641667\n",
            "\n",
            "\n",
            "Iteration 29\n",
            "Meta Train Error 0.020390674988448154\n",
            "Meta Train Accuracy 0.9958333522081375\n",
            "Meta Valid Error 1.5583285875618458\n",
            "Meta Valid Accuracy 0.6817708741873503\n",
            "Valid Error: 1.651115\n",
            "Valid Accuracy: 0.683333\n",
            "\n",
            "\n",
            "Iteration 30\n",
            "Meta Train Error 0.03031614797509974\n",
            "Meta Train Accuracy 0.9906250312924385\n",
            "Meta Valid Error 1.5781009756028652\n",
            "Meta Valid Accuracy 0.6661458685994148\n",
            "Valid Error: 1.548757\n",
            "Valid Accuracy: 0.700000\n",
            "\n",
            "\n",
            "Iteration 31\n",
            "Meta Train Error 0.028800249077903572\n",
            "Meta Train Accuracy 0.99270835891366\n",
            "Meta Valid Error 1.6570727061480284\n",
            "Meta Valid Accuracy 0.6661458741873503\n",
            "Valid Error: 1.706769\n",
            "Valid Accuracy: 0.691667\n",
            "\n",
            "\n",
            "Iteration 32\n",
            "Meta Train Error 0.0448827560612699\n",
            "Meta Train Accuracy 0.9890625309199095\n",
            "Meta Valid Error 1.581710908561945\n",
            "Meta Valid Accuracy 0.6916667055338621\n",
            "Valid Error: 1.229084\n",
            "Valid Accuracy: 0.758333\n",
            "\n",
            "** best val acc: 0.804167 **\n",
            "\n",
            "\n",
            "Iteration 33\n",
            "Meta Train Error 0.018417863473587204\n",
            "Meta Train Accuracy 0.9963541831821203\n",
            "Meta Valid Error 1.5082516372203827\n",
            "Meta Valid Accuracy 0.6937500424683094\n",
            "Valid Error: 1.138426\n",
            "Valid Accuracy: 0.804167\n",
            "\n",
            "\n",
            "Iteration 34\n",
            "Meta Train Error 0.032895831085625105\n",
            "Meta Train Accuracy 0.9911458604037762\n",
            "Meta Valid Error 1.514067543670535\n",
            "Meta Valid Accuracy 0.687500037252903\n",
            "Valid Error: 1.537368\n",
            "Valid Accuracy: 0.737500\n",
            "\n",
            "\n",
            "Iteration 35\n",
            "Meta Train Error 0.017241895795450546\n",
            "Meta Train Accuracy 0.9958333484828472\n",
            "Meta Valid Error 1.5125638861209154\n",
            "Meta Valid Accuracy 0.7041667010635138\n",
            "Valid Error: 1.346282\n",
            "Valid Accuracy: 0.766667\n",
            "\n",
            "\n",
            "Iteration 36\n",
            "Meta Train Error 0.007822508268873207\n",
            "Meta Train Accuracy 0.9979166761040688\n",
            "Meta Valid Error 1.6458094492554665\n",
            "Meta Valid Accuracy 0.672395870089531\n",
            "Valid Error: 1.793855\n",
            "Valid Accuracy: 0.700000\n",
            "\n",
            "\n",
            "Iteration 37\n",
            "Meta Train Error 0.02725391670537647\n",
            "Meta Train Accuracy 0.9901041984558105\n",
            "Meta Valid Error 1.6607254520058632\n",
            "Meta Valid Accuracy 0.6854167059063911\n",
            "Valid Error: 1.322160\n",
            "Valid Accuracy: 0.762500\n",
            "\n",
            "\n",
            "Iteration 38\n",
            "Meta Train Error 0.025572603146429174\n",
            "Meta Train Accuracy 0.9927083570510149\n",
            "Meta Valid Error 1.7845202088356018\n",
            "Meta Valid Accuracy 0.6593750398606062\n",
            "Valid Error: 1.435031\n",
            "Valid Accuracy: 0.754167\n",
            "\n",
            "\n",
            "Iteration 39\n",
            "Meta Train Error 0.030326333122502547\n",
            "Meta Train Accuracy 0.9921875242143869\n",
            "Meta Valid Error 1.6846363134682178\n",
            "Meta Valid Accuracy 0.6781250350177288\n",
            "Valid Error: 1.521875\n",
            "Valid Accuracy: 0.741667\n",
            "\n",
            "\n",
            "Iteration 40\n",
            "Meta Train Error 0.0161383424201631\n",
            "Meta Train Accuracy 0.9942708555608988\n",
            "Meta Valid Error 1.742071758955717\n",
            "Meta Valid Accuracy 0.652083370834589\n",
            "Valid Error: 1.368886\n",
            "Valid Accuracy: 0.766667\n",
            "\n",
            "\n",
            "Iteration 41\n",
            "Meta Train Error 0.021622380103508476\n",
            "Meta Train Accuracy 0.9932291824370623\n",
            "Meta Valid Error 1.6630713120102882\n",
            "Meta Valid Accuracy 0.667187537997961\n",
            "Valid Error: 1.702249\n",
            "Valid Accuracy: 0.695833\n",
            "\n",
            "\n",
            "Iteration 42\n",
            "Meta Train Error 0.029669800875126384\n",
            "Meta Train Accuracy 0.9911458604037762\n",
            "Meta Valid Error 1.6549708805978298\n",
            "Meta Valid Accuracy 0.677083371207118\n",
            "Valid Error: 1.438310\n",
            "Valid Accuracy: 0.758333\n",
            "\n",
            "\n",
            "Iteration 43\n",
            "Meta Train Error 0.03624592991400277\n",
            "Meta Train Accuracy 0.9906250257045031\n",
            "Meta Valid Error 1.754785344004631\n",
            "Meta Valid Accuracy 0.6765625402331352\n",
            "Valid Error: 1.358747\n",
            "Valid Accuracy: 0.779167\n",
            "\n",
            "\n",
            "Iteration 44\n",
            "Meta Train Error 0.017598472462850623\n",
            "Meta Train Accuracy 0.9958333447575569\n",
            "Meta Valid Error 1.7048721425235271\n",
            "Meta Valid Accuracy 0.6854167077690363\n",
            "Valid Error: 1.456499\n",
            "Valid Accuracy: 0.754167\n",
            "\n",
            "\n",
            "Iteration 45\n",
            "Meta Train Error 0.023615932721440913\n",
            "Meta Train Accuracy 0.9947916865348816\n",
            "Meta Valid Error 1.8108531758189201\n",
            "Meta Valid Accuracy 0.6520833652466536\n",
            "Valid Error: 1.710798\n",
            "Valid Accuracy: 0.683333\n",
            "\n",
            "\n",
            "Iteration 46\n",
            "Meta Train Error 0.05133248206402641\n",
            "Meta Train Accuracy 0.9880208633840084\n",
            "Meta Valid Error 1.7374286018311977\n",
            "Meta Valid Accuracy 0.6635417062789202\n",
            "Valid Error: 1.852338\n",
            "Valid Accuracy: 0.666667\n",
            "\n",
            "\n",
            "Iteration 47\n",
            "Meta Train Error 0.01262838171896874\n",
            "Meta Train Accuracy 0.9963541831821203\n",
            "Meta Valid Error 1.6398464813828468\n",
            "Meta Valid Accuracy 0.6791666988283396\n",
            "Valid Error: 1.462943\n",
            "Valid Accuracy: 0.737500\n",
            "\n",
            "\n",
            "Iteration 48\n",
            "Meta Train Error 0.013389890638791258\n",
            "Meta Train Accuracy 0.997395845130086\n",
            "Meta Valid Error 1.4959595166146755\n",
            "Meta Valid Accuracy 0.7239583730697632\n",
            "Valid Error: 1.270781\n",
            "Valid Accuracy: 0.783333\n",
            "\n",
            "\n",
            "Iteration 49\n",
            "Meta Train Error 0.030655419672257267\n",
            "Meta Train Accuracy 0.9906250294297934\n",
            "Meta Valid Error 1.6501139663159847\n",
            "Meta Valid Accuracy 0.7098958715796471\n",
            "Valid Error: 1.356863\n",
            "Valid Accuracy: 0.783333\n",
            "\n",
            "\n",
            "Iteration 50\n",
            "Meta Train Error 0.012212128596729599\n",
            "Meta Train Accuracy 0.99635417945683\n",
            "Meta Valid Error 1.5237744860351086\n",
            "Meta Valid Accuracy 0.722395870834589\n",
            "Valid Error: 1.997408\n",
            "Valid Accuracy: 0.666667\n",
            "\n",
            "\n",
            "Iteration 51\n",
            "Meta Train Error 0.029334135964745656\n",
            "Meta Train Accuracy 0.9890625290572643\n",
            "Meta Valid Error 1.7084692977368832\n",
            "Meta Valid Accuracy 0.6968750339001417\n",
            "Valid Error: 1.751691\n",
            "Valid Accuracy: 0.708333\n",
            "\n",
            "\n",
            "Iteration 52\n",
            "Meta Train Error 0.018945619427540805\n",
            "Meta Train Accuracy 0.9958333484828472\n",
            "Meta Valid Error 1.5863094590604305\n",
            "Meta Valid Accuracy 0.7156250346451998\n",
            "Valid Error: 1.819154\n",
            "Valid Accuracy: 0.687500\n",
            "\n",
            "\n",
            "Iteration 53\n",
            "Meta Train Error 0.05503522211074596\n",
            "Meta Train Accuracy 0.9875000417232513\n",
            "Meta Valid Error 1.567900076508522\n",
            "Meta Valid Accuracy 0.6906250342726707\n",
            "Valid Error: 1.591644\n",
            "Valid Accuracy: 0.733333\n",
            "\n",
            "\n",
            "Iteration 54\n",
            "Meta Train Error 0.027057678416895214\n",
            "Meta Train Accuracy 0.99270835891366\n",
            "Meta Valid Error 1.5878406465053558\n",
            "Meta Valid Accuracy 0.69739587046206\n",
            "Valid Error: 1.377695\n",
            "Valid Accuracy: 0.733333\n",
            "\n",
            "\n",
            "Iteration 55\n",
            "Meta Train Error 0.019943716604757356\n",
            "Meta Train Accuracy 0.9947916828095913\n",
            "Meta Valid Error 1.5545026157051325\n",
            "Meta Valid Accuracy 0.6937500406056643\n",
            "Valid Error: 1.509999\n",
            "Valid Accuracy: 0.720833\n",
            "\n",
            "\n",
            "Iteration 56\n",
            "Meta Train Error 0.01835710024170112\n",
            "Meta Train Accuracy 0.9937500189989805\n",
            "Meta Valid Error 1.6255786791443825\n",
            "Meta Valid Accuracy 0.6864583715796471\n",
            "Valid Error: 1.283579\n",
            "Valid Accuracy: 0.770833\n",
            "\n",
            "\n",
            "Iteration 57\n",
            "Meta Train Error 0.0325672301769373\n",
            "Meta Train Accuracy 0.9916666895151138\n",
            "Meta Valid Error 1.6119697336107492\n",
            "Meta Valid Accuracy 0.702604204416275\n",
            "Valid Error: 1.477261\n",
            "Valid Accuracy: 0.737500\n",
            "\n",
            "\n",
            "Iteration 58\n",
            "Meta Train Error 0.014662911285995506\n",
            "Meta Train Accuracy 0.9942708518356085\n",
            "Meta Valid Error 1.5983499083667994\n",
            "Meta Valid Accuracy 0.7015625350177288\n",
            "Valid Error: 1.441954\n",
            "Valid Accuracy: 0.754167\n",
            "\n",
            "\n",
            "Iteration 59\n",
            "Meta Train Error 0.02062532626587199\n",
            "Meta Train Accuracy 0.9942708555608988\n",
            "Meta Valid Error 1.6071637328714132\n",
            "Meta Valid Accuracy 0.6932292077690363\n",
            "Valid Error: 1.548106\n",
            "Valid Accuracy: 0.737500\n",
            "\n",
            "\n",
            "Iteration 60\n",
            "Meta Train Error 0.0130297051728121\n",
            "Meta Train Accuracy 0.9958333484828472\n",
            "Meta Valid Error 1.6971812564879656\n",
            "Meta Valid Accuracy 0.6682292073965073\n",
            "Valid Error: 1.437275\n",
            "Valid Accuracy: 0.754167\n",
            "\n",
            "\n",
            "Iteration 61\n",
            "Meta Train Error 0.007947569829411805\n",
            "Meta Train Accuracy 0.9979166761040688\n",
            "Meta Valid Error 1.7890098430216312\n",
            "Meta Valid Accuracy 0.6500000413507223\n",
            "Valid Error: 1.572453\n",
            "Valid Accuracy: 0.700000\n",
            "\n",
            "\n",
            "Iteration 62\n",
            "Meta Train Error 0.012547420537885046\n",
            "Meta Train Accuracy 0.997395845130086\n",
            "Meta Valid Error 1.7907433398067951\n",
            "Meta Valid Accuracy 0.6473958659917116\n",
            "Valid Error: 1.820380\n",
            "Valid Accuracy: 0.679167\n",
            "\n",
            "\n",
            "Iteration 63\n",
            "Meta Train Error 0.00952216887526447\n",
            "Meta Train Accuracy 0.9979166723787785\n",
            "Meta Valid Error 1.782666426151991\n",
            "Meta Valid Accuracy 0.6567708738148212\n",
            "Valid Error: 1.652451\n",
            "Valid Accuracy: 0.695833\n",
            "\n",
            "\n",
            "Iteration 64\n",
            "Meta Train Error 0.008435454867139924\n",
            "Meta Train Accuracy 0.997395845130086\n",
            "Meta Valid Error 1.7553639821708202\n",
            "Meta Valid Accuracy 0.6760417018085718\n",
            "Valid Error: 1.706115\n",
            "Valid Accuracy: 0.704167\n",
            "\n",
            "\n",
            "Iteration 65\n",
            "Meta Train Error 0.00368995534881833\n",
            "Meta Train Accuracy 0.9994791690260172\n",
            "Meta Valid Error 1.7608055602759123\n",
            "Meta Valid Accuracy 0.688541704788804\n",
            "Valid Error: 2.028549\n",
            "Valid Accuracy: 0.654167\n",
            "\n",
            "\n",
            "Iteration 66\n",
            "Meta Train Error 0.01279791087290505\n",
            "Meta Train Accuracy 0.9958333522081375\n",
            "Meta Valid Error 1.8861702904105186\n",
            "Meta Valid Accuracy 0.6651042029261589\n",
            "Valid Error: 1.539624\n",
            "Valid Accuracy: 0.741667\n",
            "\n",
            "\n",
            "Iteration 67\n",
            "Meta Train Error 0.002841172034095507\n",
            "Meta Train Accuracy 1.0\n",
            "Meta Valid Error 1.748126495629549\n",
            "Meta Valid Accuracy 0.6828125361353159\n",
            "Valid Error: 1.819642\n",
            "Valid Accuracy: 0.691667\n",
            "\n",
            "\n",
            "Iteration 68\n",
            "Meta Train Error 0.003805336047662422\n",
            "Meta Train Accuracy 0.9994791690260172\n",
            "Meta Valid Error 1.7593122534453869\n",
            "Meta Valid Accuracy 0.684895871207118\n",
            "Valid Error: 1.547972\n",
            "Valid Accuracy: 0.741667\n",
            "\n",
            "\n",
            "Iteration 69\n",
            "Meta Train Error 0.006677065688563744\n",
            "Meta Train Accuracy 0.9984375070780516\n",
            "Meta Valid Error 1.9271373376250267\n",
            "Meta Valid Accuracy 0.6572917029261589\n",
            "Valid Error: 1.733347\n",
            "Valid Accuracy: 0.716667\n",
            "\n",
            "\n",
            "Iteration 70\n",
            "Meta Train Error 0.005547779830521904\n",
            "Meta Train Accuracy 0.9989583380520344\n",
            "Meta Valid Error 1.9861491322517395\n",
            "Meta Valid Accuracy 0.6531250327825546\n",
            "Valid Error: 1.671041\n",
            "Valid Accuracy: 0.750000\n"
          ]
        }
      ],
      "source": [
        "meta_train(ways, shots, meta_lr, fast_lr, meta_batch_size, adaptation_steps, 70)"
      ]
    },
    {
      "cell_type": "markdown",
      "metadata": {
        "id": "ujKaeAcWjGM7"
      },
      "source": [
        "###### **Evaluate**"
      ]
    },
    {
      "cell_type": "code",
      "source": [
        "MAML_path = \"/content/drive/MyDrive/AI Projects/Meta-learning vision project/MAML_head_vgg11_3.pt\""
      ],
      "metadata": {
        "id": "c9GJUmcqHta3"
      },
      "execution_count": 95,
      "outputs": []
    },
    {
      "cell_type": "code",
      "execution_count": 96,
      "metadata": {
        "id": "U7PVGS9v1gXY"
      },
      "outputs": [],
      "source": [
        "model = torch.load(MAML_path)"
      ]
    },
    {
      "cell_type": "code",
      "execution_count": 97,
      "metadata": {
        "id": "8ElbjoJPY-QC",
        "colab": {
          "base_uri": "https://localhost:8080/"
        },
        "outputId": "16933870-9ac7-4976-9011-f4f9f2e2f018"
      },
      "outputs": [
        {
          "output_type": "execute_result",
          "data": {
            "text/plain": [
              "(1.138426419099172, tensor(0.8042, device='cuda:0', dtype=torch.float64))"
            ]
          },
          "metadata": {},
          "execution_count": 97
        }
      ],
      "source": [
        "evaluate_model(model, loss, dataloaders_rgb['valid'], dataloader_rgb_sizes['valid'], dataset_sizes['valid'])"
      ]
    },
    {
      "cell_type": "code",
      "execution_count": 98,
      "metadata": {
        "id": "34UVKWe0UHN3",
        "colab": {
          "base_uri": "https://localhost:8080/"
        },
        "outputId": "1d15fc88-a781-45e5-e9e1-6f54ee40ea9a"
      },
      "outputs": [
        {
          "output_type": "execute_result",
          "data": {
            "text/plain": [
              "(1.342126350402832, tensor(0.7733, device='cuda:0', dtype=torch.float64))"
            ]
          },
          "metadata": {},
          "execution_count": 98
        }
      ],
      "source": [
        "evaluate_model(model, loss, dataloaders_rgb['test'], dataloader_rgb_sizes['test'], dataset_sizes['test'])"
      ]
    },
    {
      "cell_type": "code",
      "source": [
        "model.eval()\n",
        "outputs = model(x_test_rgb.to(device))\n",
        "_, preds = torch.max(outputs, 1)\n",
        "plot_confusionmatrix(preds.to('cpu'), y_head_test_tensor, classes)"
      ],
      "metadata": {
        "colab": {
          "base_uri": "https://localhost:8080/",
          "height": 504
        },
        "id": "9NuYm6ziHmkr",
        "outputId": "a5d1d136-6e8f-44c6-cc6d-728e712f0297"
      },
      "execution_count": 99,
      "outputs": [
        {
          "output_type": "stream",
          "name": "stdout",
          "text": [
            "Confusion matrix\n"
          ]
        },
        {
          "output_type": "display_data",
          "data": {
            "text/plain": [
              "<Figure size 640x480 with 2 Axes>"
            ],
            "image/png": "[encoded data removed]"
          },
          "metadata": {}
        }
      ]
    },
    {
      "cell_type": "code",
      "execution_count": null,
      "metadata": {
        "id": "Xn5lvF29r_nq"
      },
      "outputs": [],
      "source": [
        "torch.save(model, '/content/drive/MyDrive/AI Projects/MAML models/MAML_head_vgg11_3.pt')"
      ]
    },
    {
      "cell_type": "markdown",
      "metadata": {
        "id": "qBCvj0bq7SDK"
      },
      "source": [
        "##### **VGG19**"
      ]
    },
    {
      "cell_type": "markdown",
      "metadata": {
        "id": "pAiluePmODR9"
      },
      "source": [
        "###### **Configuration**"
      ]
    },
    {
      "cell_type": "code",
      "execution_count": null,
      "metadata": {
        "id": "tQ9wqCzV7WSa"
      },
      "outputs": [],
      "source": [
        "vgg19 = torchvision.models.vgg19_bn(pretrained=True)\n",
        "num_ftrs = vgg19.classifier[-1].in_features\n",
        "vgg19.classifier = nn.Sequential(\n",
        "    nn.Linear(num_ftrs, 2048),\n",
        "    nn.ReLU(),\n",
        "    nn.Dropout(0.9),\n",
        "    nn.Linear(2048, 1024),\n",
        "    nn.Sigmoid(),\n",
        "    nn.Dropout(0.9),\n",
        "    nn.Linear(1024, 2)\n",
        ")\n",
        "\n",
        "MAML_path = \"/content/drive/MyDrive/AI Projects/Meta-learning vision project/MAML_head_vgg19.pt\"\n",
        "vgg19.classifier"
      ]
    },
    {
      "cell_type": "code",
      "execution_count": null,
      "metadata": {
        "id": "gg1RpFOAO2QN"
      },
      "outputs": [],
      "source": [
        "for param_name, param in vgg19.features.named_parameters():\n",
        "  param.requires_grad = False\n",
        "  # print(param_name, param.requires_grad)"
      ]
    },
    {
      "cell_type": "code",
      "execution_count": null,
      "metadata": {
        "id": "RcYgQkgPYDvj"
      },
      "outputs": [],
      "source": [
        "for param_name, param in vgg19.avgpool.named_parameters():\n",
        "  param.requires_grad = False"
      ]
    },
    {
      "cell_type": "code",
      "execution_count": null,
      "metadata": {
        "id": "UYrBNx8wZ9ZU"
      },
      "outputs": [],
      "source": [
        "for param_name, param in vgg19.classifier.named_parameters():\n",
        "  param.requires_grad = True\n",
        "  # print(param_name, param.requires_grad)"
      ]
    },
    {
      "cell_type": "markdown",
      "metadata": {
        "id": "AK3fDOI7OADX"
      },
      "source": [
        "###### **Train**"
      ]
    },
    {
      "cell_type": "code",
      "execution_count": null,
      "metadata": {
        "id": "dAgiHhLEhvyw"
      },
      "outputs": [],
      "source": [
        "meta_lr=2e-3\n",
        "fast_lr=2e-3\n",
        "adaptation_steps=5\n",
        "num_iterations=50\n",
        "seed=42\n",
        "\n",
        "random.seed(seed)\n",
        "np.random.seed(seed)\n",
        "torch.manual_seed(seed)\n",
        "device = torch.device('cpu')\n",
        "\n",
        "if cuda:\n",
        "  torch.cuda.manual_seed(seed)\n",
        "  device = torch.device('cuda')"
      ]
    },
    {
      "cell_type": "code",
      "execution_count": null,
      "metadata": {
        "id": "ug28i6ipOADY"
      },
      "outputs": [],
      "source": [
        "# Create model\n",
        "vgg19.to(device)\n",
        "maml = l2l.algorithms.MAML(vgg19, lr=fast_lr, first_order=False, allow_nograd=True)\n",
        "# opt = torch.optim.Adam(maml.parameters(), meta_lr)\n",
        "opt = torch.optim.Adam(filter(lambda p: p.requires_grad, maml.parameters()), meta_lr)\n",
        "loss = nn.CrossEntropyLoss()"
      ]
    },
    {
      "cell_type": "code",
      "execution_count": null,
      "metadata": {
        "id": "AMRtE0CEOADZ"
      },
      "outputs": [],
      "source": [
        "meta_train(ways, shots, meta_lr, fast_lr, meta_batch_size, adaptation_steps, num_iterations)"
      ]
    }
  ],
  "metadata": {
    "accelerator": "GPU",
    "colab": {
      "collapsed_sections": [
        "iL-FNKBekJLJ",
        "fS2fEHBUxjg8",
        "JPTAJrSSw8Zk",
        "RyLgptfAxWXL",
        "48nZStleLlQM",
        "GX3YRfENLpjl",
        "H9bKlpoVMzby",
        "Ji24twrPU4E0",
        "zHaltusVcyqq",
        "2tqOkoXuc2EC",
        "nUhTJAx9ecBx",
        "tdRnSIgfP5Dq",
        "vJzq-l_pQrky",
        "-Gzi1adbPslv",
        "RFznc2chWf4v",
        "ZnlY0Ctgnbd8",
        "BdN7OTW2Hlt_",
        "PyT1bZJBH_lx",
        "-xW5mHB5wuzX",
        "o-EiJgnMHHI6",
        "y_XRMxd9j4FF",
        "94ONj06MTsKE",
        "wTGavrOZ0DPn",
        "-zxNScAR7LEe",
        "DhC0fjB2mK3S",
        "u9GFPKEXncNM",
        "bzKZVxIOnhOh",
        "z4BqH_jYRP-F",
        "vIzTjNOvJcYO",
        "XJzmSnGD7L8j",
        "JsJNGckwNpmW",
        "q4VxmULuRn3B",
        "vOpKGvsnmC6W",
        "yXEwRsY6-ybC",
        "hHxYv7Ma-ybP",
        "R9K9lmSf-ybQ",
        "alMynxPA-ybT",
        "LhI8Q16llqRH",
        "RKDwSBKjAQlW",
        "9hsBKp7qAU7b",
        "ujKaeAcWjGM7",
        "qBCvj0bq7SDK",
        "AK3fDOI7OADX"
      ],
      "provenance": [],
      "include_colab_link": true
    },
    "kernelspec": {
      "display_name": "Python 3",
      "name": "python3"
    },
    "language_info": {
      "name": "python"
    }
  },
  "nbformat": 4,
  "nbformat_minor": 0
}