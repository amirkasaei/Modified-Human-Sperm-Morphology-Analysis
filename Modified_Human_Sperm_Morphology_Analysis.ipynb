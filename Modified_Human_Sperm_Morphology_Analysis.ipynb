{
  "nbformat": 4,
  "nbformat_minor": 0,
  "metadata": {
    "colab": {
      "provenance": [],
      "collapsed_sections": [
        "iL-FNKBekJLJ"
      ],
      "authorship_tag": "ABX9TyPwLPFfJYAVokX+ZpY67AY/",
      "include_colab_link": true
    },
    "kernelspec": {
      "name": "python3",
      "display_name": "Python 3"
    },
    "language_info": {
      "name": "python"
    }
  },
  "cells": [
    {
      "cell_type": "markdown",
      "metadata": {
        "id": "view-in-github",
        "colab_type": "text"
      },
      "source": [
        "<a href=\"https://colab.research.google.com/github/amirkasaei/Modified-Human-Sperm-Morphology-Analysis/blob/main/Modified_Human_Sperm_Morphology_Analysis.ipynb\" target=\"_parent\"><img src=\"https://colab.research.google.com/assets/colab-badge.svg\" alt=\"Open In Colab\"/></a>"
      ]
    },
    {
      "cell_type": "markdown",
      "source": [
        "## **Libraries**"
      ],
      "metadata": {
        "id": "iL-FNKBekJLJ"
      }
    },
    {
      "cell_type": "code",
      "source": [
        "import pandas as pd\n",
        "import numpy as np\n",
        "import matplotlib.pyplot as plt\n",
        "import tensorflow as tf\n",
        "from tensorflow.keras.layers import GaussianNoise\n",
        "from tensorflow.keras.datasets import mnist"
      ],
      "metadata": {
        "id": "E0rB-cgkur0l"
      },
      "execution_count": null,
      "outputs": []
    },
    {
      "cell_type": "code",
      "execution_count": null,
      "metadata": {
        "id": "kJxjb-BtryXK",
        "colab": {
          "base_uri": "https://localhost:8080/"
        },
        "outputId": "66d5ef56-0dad-46cf-f3b6-d1e327d67f46"
      },
      "outputs": [
        {
          "output_type": "stream",
          "name": "stdout",
          "text": [
            "Drive already mounted at /content/drive; to attempt to forcibly remount, call drive.mount(\"/content/drive\", force_remount=True).\n"
          ]
        }
      ],
      "source": [
        "from google.colab import drive\n",
        "drive.mount('/content/drive')"
      ]
    },
    {
      "cell_type": "code",
      "source": [
        "path = '/content/drive/MyDrive/AI/Deep Learning/Modified Human Sperm Morphology Analysis/mhsma/'"
      ],
      "metadata": {
        "id": "kaDmd7GyuU2l"
      },
      "execution_count": null,
      "outputs": []
    },
    {
      "cell_type": "markdown",
      "source": [
        "## **Preprocessing**"
      ],
      "metadata": {
        "id": "pUn5U_UukZSX"
      }
    },
    {
      "cell_type": "code",
      "source": [
        "x_train = np.load(path + 'x_128_train.npy')/255\n",
        "y_acrosome_train = np.load(path + 'y_acrosome_train.npy')\n",
        "y_head_train = np.load(path + 'y_head_train.npy')\n",
        "y_tail_train = np.load(path + 'y_tail_train.npy')\n",
        "y_vacuole_train = np.load(path + 'y_vacuole_train.npy')\n",
        "\n",
        "x_valid = np.load(path+'x_128_valid.npy')/255\n",
        "y_acrosome_valid = np.load(path + 'y_acrosome_valid.npy')\n",
        "y_head_valid = np.load(path + 'y_head_valid.npy')\n",
        "y_tail_valid = np.load(path + 'y_tail_valid.npy')\n",
        "y_vacuole_valid = np.load(path + 'y_vacuole_valid.npy')\n",
        "\n",
        "x_test = np.load(path+'x_128_test.npy')/255\n",
        "y_acrosome_test = np.load(path + 'y_acrosome_test.npy')\n",
        "y_head_test = np.load(path + 'y_head_test.npy')\n",
        "y_tail_test = np.load(path + 'y_tail_test.npy')\n",
        "y_vacuole_test = np.load(path + 'y_vacuole_test.npy')\n",
        "\n",
        "print('x_train shape:', x_train.shape, '----- y_acrosome_train shape:', y_acrosome_train.shape)\n",
        "print('x_valid shape:', x_valid.shape, '----- y_acrosome_valid shape:', y_acrosome_valid.shape)\n",
        "print('x_test shape:', x_test.shape, '----- y_acrosome_test shape:', y_acrosome_test.shape)\n"
      ],
      "metadata": {
        "colab": {
          "base_uri": "https://localhost:8080/"
        },
        "id": "TcXjuMm2ujRj",
        "outputId": "6abe5917-7b9b-45bc-e7a3-72587352fc11"
      },
      "execution_count": null,
      "outputs": [
        {
          "output_type": "stream",
          "name": "stdout",
          "text": [
            "x_train shape: (1000, 128, 128) ----- y_acrosome_train shape: (1000,)\n",
            "x_valid shape: (240, 128, 128) ----- y_acrosome_valid shape: (240,)\n",
            "x_test shape: (300, 128, 128) ----- y_acrosome_test shape: (300,)\n"
          ]
        }
      ]
    },
    {
      "cell_type": "markdown",
      "source": [
        "# **Diffusion**"
      ],
      "metadata": {
        "id": "7Hgoj9J4eDew"
      }
    },
    {
      "cell_type": "code",
      "source": [
        "shape = x_train[0].shape\n",
        "mean = 0\n",
        "var = 0.1\n",
        "sigma = var**0.5\n",
        "gauss = np.random.normal(mean,sigma,shape)\n",
        "gauss = gauss.reshape(shape)"
      ],
      "metadata": {
        "id": "CDSzBw-5CS1Z"
      },
      "execution_count": null,
      "outputs": []
    },
    {
      "cell_type": "code",
      "source": [
        "GN = GaussianNoise(stddev=0.05)"
      ],
      "metadata": {
        "id": "qrmS94Gj4sQi"
      },
      "execution_count": null,
      "outputs": []
    },
    {
      "cell_type": "code",
      "source": [
        "plt.figure()\n",
        "sample = x_train[0]\n",
        "# for i in range(15):\n",
        "sample = GN(sample, training=True)\n",
        "  # plt.subplot(3, 5, i+1)\n",
        "plt.imshow(sample)"
      ],
      "metadata": {
        "id": "PjMVZOSDg9wU"
      },
      "execution_count": null,
      "outputs": []
    },
    {
      "cell_type": "code",
      "source": [
        "def add_noise(a):\n",
        "  noisy = []\n",
        "  for sample in a:\n",
        "    for i in range(20):\n",
        "      sample = GN(sample, training=True)\n",
        "    noisy.append(sample)\n",
        "  return np.array(noisy)"
      ],
      "metadata": {
        "id": "L77zu_MZJ4OQ"
      },
      "execution_count": null,
      "outputs": []
    },
    {
      "cell_type": "code",
      "source": [
        "# x_train_noisy = add_noise(x_train)\n",
        "# x_valid_noisy = add_noise(x_valid)\n",
        "x_test_noisy = add_noise(x_test)"
      ],
      "metadata": {
        "id": "QtVoTaODLbT5"
      },
      "execution_count": null,
      "outputs": []
    }
  ]
}